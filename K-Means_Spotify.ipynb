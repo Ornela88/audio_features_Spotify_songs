{
 "cells": [
  {
   "cell_type": "code",
   "execution_count": 80,
   "metadata": {},
   "outputs": [],
   "source": [
    "import pandas as pd\n",
    "from sklearn.metrics import pairwise_distances\n",
    "import matplotlib.pyplot as plt\n",
    "import seaborn as sns\n",
    "import os\n",
    "import plotly.graph_objects as go\n",
    "#!pip install scikit-learn --upgrade"
   ]
  },
  {
   "cell_type": "code",
   "execution_count": 81,
   "metadata": {},
   "outputs": [],
   "source": [
    "file_path = '/home/ornela/audio_feature_songs/audio_features_10_songs/df_audio_features_10.csv'\n",
    "\n",
    "# Check if file exists\n",
    "if not os.path.isfile(file_path):\n",
    "    print(f\"File not found: {file_path}\")\n",
    "else:\n",
    "    # Read the CSV into a DataFrame\n",
    "    df_audio_features_10 = pd.read_csv(file_path, index_col ='song_name', nrows=17)\n",
    "    #print(df_audio_features_10)\n"
   ]
  },
  {
   "cell_type": "code",
   "execution_count": 82,
   "metadata": {},
   "outputs": [
    {
     "data": {
      "text/html": [
       "<div>\n",
       "<style scoped>\n",
       "    .dataframe tbody tr th:only-of-type {\n",
       "        vertical-align: middle;\n",
       "    }\n",
       "\n",
       "    .dataframe tbody tr th {\n",
       "        vertical-align: top;\n",
       "    }\n",
       "\n",
       "    .dataframe thead th {\n",
       "        text-align: right;\n",
       "    }\n",
       "</style>\n",
       "<table border=\"1\" class=\"dataframe\">\n",
       "  <thead>\n",
       "    <tr style=\"text-align: right;\">\n",
       "      <th></th>\n",
       "      <th>artist</th>\n",
       "      <th>danceability</th>\n",
       "      <th>energy</th>\n",
       "      <th>key</th>\n",
       "      <th>loudness</th>\n",
       "      <th>mode</th>\n",
       "      <th>speechiness</th>\n",
       "      <th>acousticness</th>\n",
       "      <th>instrumentalness</th>\n",
       "      <th>liveness</th>\n",
       "      <th>valence</th>\n",
       "      <th>tempo</th>\n",
       "      <th>duration_ms</th>\n",
       "      <th>time_signature</th>\n",
       "      <th>id</th>\n",
       "      <th>html</th>\n",
       "    </tr>\n",
       "    <tr>\n",
       "      <th>song_name</th>\n",
       "      <th></th>\n",
       "      <th></th>\n",
       "      <th></th>\n",
       "      <th></th>\n",
       "      <th></th>\n",
       "      <th></th>\n",
       "      <th></th>\n",
       "      <th></th>\n",
       "      <th></th>\n",
       "      <th></th>\n",
       "      <th></th>\n",
       "      <th></th>\n",
       "      <th></th>\n",
       "      <th></th>\n",
       "      <th></th>\n",
       "      <th></th>\n",
       "    </tr>\n",
       "  </thead>\n",
       "  <tbody>\n",
       "    <tr>\n",
       "      <th>My Band</th>\n",
       "      <td>D12</td>\n",
       "      <td>0.851</td>\n",
       "      <td>0.84900</td>\n",
       "      <td>1</td>\n",
       "      <td>-3.383</td>\n",
       "      <td>0</td>\n",
       "      <td>0.0828</td>\n",
       "      <td>0.49700</td>\n",
       "      <td>0.000002</td>\n",
       "      <td>0.1160</td>\n",
       "      <td>0.8440</td>\n",
       "      <td>120.014</td>\n",
       "      <td>298773</td>\n",
       "      <td>4</td>\n",
       "      <td>4XHQyvbrBsQaaBUW1VvmsL</td>\n",
       "      <td>https://open.spotify.com/track/4XHQyvbrBsQaaBU...</td>\n",
       "    </tr>\n",
       "    <tr>\n",
       "      <th>The Real Slim Shady</th>\n",
       "      <td>Eminem</td>\n",
       "      <td>0.949</td>\n",
       "      <td>0.66100</td>\n",
       "      <td>5</td>\n",
       "      <td>-4.244</td>\n",
       "      <td>0</td>\n",
       "      <td>0.0572</td>\n",
       "      <td>0.03020</td>\n",
       "      <td>0.000000</td>\n",
       "      <td>0.0454</td>\n",
       "      <td>0.7600</td>\n",
       "      <td>104.504</td>\n",
       "      <td>284200</td>\n",
       "      <td>4</td>\n",
       "      <td>3yfqSUWxFvZELEM4PmlwIR</td>\n",
       "      <td>https://open.spotify.com/track/3yfqSUWxFvZELEM...</td>\n",
       "    </tr>\n",
       "    <tr>\n",
       "      <th>Águas De Março</th>\n",
       "      <td>Antônio Carlos Jobim</td>\n",
       "      <td>0.642</td>\n",
       "      <td>0.33900</td>\n",
       "      <td>3</td>\n",
       "      <td>-15.503</td>\n",
       "      <td>1</td>\n",
       "      <td>0.1400</td>\n",
       "      <td>0.85400</td>\n",
       "      <td>0.000000</td>\n",
       "      <td>0.1050</td>\n",
       "      <td>0.4910</td>\n",
       "      <td>143.418</td>\n",
       "      <td>212400</td>\n",
       "      <td>4</td>\n",
       "      <td>1y7OxO5i6sfrHXAmUM77YG</td>\n",
       "      <td>https://open.spotify.com/track/1y7OxO5i6sfrHXA...</td>\n",
       "    </tr>\n",
       "    <tr>\n",
       "      <th>The Girl From Ipanema</th>\n",
       "      <td>Stan Getz</td>\n",
       "      <td>0.641</td>\n",
       "      <td>0.14000</td>\n",
       "      <td>8</td>\n",
       "      <td>-16.790</td>\n",
       "      <td>1</td>\n",
       "      <td>0.0390</td>\n",
       "      <td>0.86700</td>\n",
       "      <td>0.001660</td>\n",
       "      <td>0.1050</td>\n",
       "      <td>0.3880</td>\n",
       "      <td>129.318</td>\n",
       "      <td>317987</td>\n",
       "      <td>4</td>\n",
       "      <td>3898C4AbdbptwYet6547e5</td>\n",
       "      <td>https://open.spotify.com/track/3898C4AbdbptwYe...</td>\n",
       "    </tr>\n",
       "    <tr>\n",
       "      <th>Paint It, Black</th>\n",
       "      <td>The Rolling Stones</td>\n",
       "      <td>0.464</td>\n",
       "      <td>0.79500</td>\n",
       "      <td>1</td>\n",
       "      <td>-9.267</td>\n",
       "      <td>1</td>\n",
       "      <td>0.0926</td>\n",
       "      <td>0.04930</td>\n",
       "      <td>0.002440</td>\n",
       "      <td>0.3990</td>\n",
       "      <td>0.6120</td>\n",
       "      <td>158.691</td>\n",
       "      <td>202267</td>\n",
       "      <td>4</td>\n",
       "      <td>63T7DJ1AFDD6Bn8VzG6JE8</td>\n",
       "      <td>https://open.spotify.com/track/63T7DJ1AFDD6Bn8...</td>\n",
       "    </tr>\n",
       "    <tr>\n",
       "      <th>Sultans Of Swing</th>\n",
       "      <td>Dire Straits</td>\n",
       "      <td>0.733</td>\n",
       "      <td>0.79400</td>\n",
       "      <td>5</td>\n",
       "      <td>-10.023</td>\n",
       "      <td>1</td>\n",
       "      <td>0.0307</td>\n",
       "      <td>0.06140</td>\n",
       "      <td>0.036700</td>\n",
       "      <td>0.3300</td>\n",
       "      <td>0.9310</td>\n",
       "      <td>148.174</td>\n",
       "      <td>348624</td>\n",
       "      <td>4</td>\n",
       "      <td>6cr6UDpkjEaMQ80OjWqEBQ</td>\n",
       "      <td>https://open.spotify.com/track/6cr6UDpkjEaMQ80...</td>\n",
       "    </tr>\n",
       "    <tr>\n",
       "      <th>Space Raiders - Charlotte de Witte Remix</th>\n",
       "      <td>Eats Everything</td>\n",
       "      <td>0.749</td>\n",
       "      <td>0.73100</td>\n",
       "      <td>4</td>\n",
       "      <td>-10.865</td>\n",
       "      <td>1</td>\n",
       "      <td>0.1080</td>\n",
       "      <td>0.00314</td>\n",
       "      <td>0.867000</td>\n",
       "      <td>0.1110</td>\n",
       "      <td>0.0598</td>\n",
       "      <td>131.997</td>\n",
       "      <td>438720</td>\n",
       "      <td>4</td>\n",
       "      <td>4F8OK7mNa51mKqgHqWQiYm</td>\n",
       "      <td>https://open.spotify.com/track/4F8OK7mNa51mKqg...</td>\n",
       "    </tr>\n",
       "    <tr>\n",
       "      <th>In Silence</th>\n",
       "      <td>Amelie Lens</td>\n",
       "      <td>0.736</td>\n",
       "      <td>0.84500</td>\n",
       "      <td>1</td>\n",
       "      <td>-12.017</td>\n",
       "      <td>1</td>\n",
       "      <td>0.0377</td>\n",
       "      <td>0.00548</td>\n",
       "      <td>0.901000</td>\n",
       "      <td>0.1110</td>\n",
       "      <td>0.1980</td>\n",
       "      <td>128.009</td>\n",
       "      <td>393740</td>\n",
       "      <td>4</td>\n",
       "      <td>2vfSCFvMbpf4hwxt22Wx7b</td>\n",
       "      <td>https://open.spotify.com/track/2vfSCFvMbpf4hwx...</td>\n",
       "    </tr>\n",
       "    <tr>\n",
       "      <th>Wiegenlied, Op. 49, No. 4 (Arr. for Cello and Piano) [Brahms Lullaby]</th>\n",
       "      <td>Johannes Brahms</td>\n",
       "      <td>0.184</td>\n",
       "      <td>0.00833</td>\n",
       "      <td>3</td>\n",
       "      <td>-33.503</td>\n",
       "      <td>1</td>\n",
       "      <td>0.0519</td>\n",
       "      <td>0.98900</td>\n",
       "      <td>0.596000</td>\n",
       "      <td>0.1040</td>\n",
       "      <td>0.2110</td>\n",
       "      <td>61.541</td>\n",
       "      <td>109800</td>\n",
       "      <td>3</td>\n",
       "      <td>59cPOVxrn3Yjwydl1pullI</td>\n",
       "      <td>https://open.spotify.com/track/59cPOVxrn3Yjwyd...</td>\n",
       "    </tr>\n",
       "    <tr>\n",
       "      <th>Nocturne en mi bémol majeur opus 9 n°2: Ballade en Sol Mineur No.1</th>\n",
       "      <td>Frédéric Chopin</td>\n",
       "      <td>0.387</td>\n",
       "      <td>0.04510</td>\n",
       "      <td>3</td>\n",
       "      <td>-24.698</td>\n",
       "      <td>1</td>\n",
       "      <td>0.0364</td>\n",
       "      <td>0.99000</td>\n",
       "      <td>0.913000</td>\n",
       "      <td>0.1120</td>\n",
       "      <td>0.0710</td>\n",
       "      <td>61.494</td>\n",
       "      <td>268427</td>\n",
       "      <td>4</td>\n",
       "      <td>7n92QzQomRCLlciO14X0kd</td>\n",
       "      <td>https://open.spotify.com/track/7n92QzQomRCLlci...</td>\n",
       "    </tr>\n",
       "  </tbody>\n",
       "</table>\n",
       "</div>"
      ],
      "text/plain": [
       "                                                                  artist  \\\n",
       "song_name                                                                  \n",
       "My Band                                                              D12   \n",
       "The Real Slim Shady                                               Eminem   \n",
       "Águas De Março                                      Antônio Carlos Jobim   \n",
       "The Girl From Ipanema                                          Stan Getz   \n",
       "Paint It, Black                                       The Rolling Stones   \n",
       "Sultans Of Swing                                            Dire Straits   \n",
       "Space Raiders - Charlotte de Witte Remix                 Eats Everything   \n",
       "In Silence                                                   Amelie Lens   \n",
       "Wiegenlied, Op. 49, No. 4 (Arr. for Cello and P...       Johannes Brahms   \n",
       "Nocturne en mi bémol majeur opus 9 n°2: Ballade...       Frédéric Chopin   \n",
       "\n",
       "                                                    danceability   energy  \\\n",
       "song_name                                                                   \n",
       "My Band                                                    0.851  0.84900   \n",
       "The Real Slim Shady                                        0.949  0.66100   \n",
       "Águas De Março                                             0.642  0.33900   \n",
       "The Girl From Ipanema                                      0.641  0.14000   \n",
       "Paint It, Black                                            0.464  0.79500   \n",
       "Sultans Of Swing                                           0.733  0.79400   \n",
       "Space Raiders - Charlotte de Witte Remix                   0.749  0.73100   \n",
       "In Silence                                                 0.736  0.84500   \n",
       "Wiegenlied, Op. 49, No. 4 (Arr. for Cello and P...         0.184  0.00833   \n",
       "Nocturne en mi bémol majeur opus 9 n°2: Ballade...         0.387  0.04510   \n",
       "\n",
       "                                                    key  loudness  mode  \\\n",
       "song_name                                                                 \n",
       "My Band                                               1    -3.383     0   \n",
       "The Real Slim Shady                                   5    -4.244     0   \n",
       "Águas De Março                                        3   -15.503     1   \n",
       "The Girl From Ipanema                                 8   -16.790     1   \n",
       "Paint It, Black                                       1    -9.267     1   \n",
       "Sultans Of Swing                                      5   -10.023     1   \n",
       "Space Raiders - Charlotte de Witte Remix              4   -10.865     1   \n",
       "In Silence                                            1   -12.017     1   \n",
       "Wiegenlied, Op. 49, No. 4 (Arr. for Cello and P...    3   -33.503     1   \n",
       "Nocturne en mi bémol majeur opus 9 n°2: Ballade...    3   -24.698     1   \n",
       "\n",
       "                                                    speechiness  acousticness  \\\n",
       "song_name                                                                       \n",
       "My Band                                                  0.0828       0.49700   \n",
       "The Real Slim Shady                                      0.0572       0.03020   \n",
       "Águas De Março                                           0.1400       0.85400   \n",
       "The Girl From Ipanema                                    0.0390       0.86700   \n",
       "Paint It, Black                                          0.0926       0.04930   \n",
       "Sultans Of Swing                                         0.0307       0.06140   \n",
       "Space Raiders - Charlotte de Witte Remix                 0.1080       0.00314   \n",
       "In Silence                                               0.0377       0.00548   \n",
       "Wiegenlied, Op. 49, No. 4 (Arr. for Cello and P...       0.0519       0.98900   \n",
       "Nocturne en mi bémol majeur opus 9 n°2: Ballade...       0.0364       0.99000   \n",
       "\n",
       "                                                    instrumentalness  \\\n",
       "song_name                                                              \n",
       "My Band                                                     0.000002   \n",
       "The Real Slim Shady                                         0.000000   \n",
       "Águas De Março                                              0.000000   \n",
       "The Girl From Ipanema                                       0.001660   \n",
       "Paint It, Black                                             0.002440   \n",
       "Sultans Of Swing                                            0.036700   \n",
       "Space Raiders - Charlotte de Witte Remix                    0.867000   \n",
       "In Silence                                                  0.901000   \n",
       "Wiegenlied, Op. 49, No. 4 (Arr. for Cello and P...          0.596000   \n",
       "Nocturne en mi bémol majeur opus 9 n°2: Ballade...          0.913000   \n",
       "\n",
       "                                                    liveness  valence  \\\n",
       "song_name                                                               \n",
       "My Band                                               0.1160   0.8440   \n",
       "The Real Slim Shady                                   0.0454   0.7600   \n",
       "Águas De Março                                        0.1050   0.4910   \n",
       "The Girl From Ipanema                                 0.1050   0.3880   \n",
       "Paint It, Black                                       0.3990   0.6120   \n",
       "Sultans Of Swing                                      0.3300   0.9310   \n",
       "Space Raiders - Charlotte de Witte Remix              0.1110   0.0598   \n",
       "In Silence                                            0.1110   0.1980   \n",
       "Wiegenlied, Op. 49, No. 4 (Arr. for Cello and P...    0.1040   0.2110   \n",
       "Nocturne en mi bémol majeur opus 9 n°2: Ballade...    0.1120   0.0710   \n",
       "\n",
       "                                                      tempo  duration_ms  \\\n",
       "song_name                                                                  \n",
       "My Band                                             120.014       298773   \n",
       "The Real Slim Shady                                 104.504       284200   \n",
       "Águas De Março                                      143.418       212400   \n",
       "The Girl From Ipanema                               129.318       317987   \n",
       "Paint It, Black                                     158.691       202267   \n",
       "Sultans Of Swing                                    148.174       348624   \n",
       "Space Raiders - Charlotte de Witte Remix            131.997       438720   \n",
       "In Silence                                          128.009       393740   \n",
       "Wiegenlied, Op. 49, No. 4 (Arr. for Cello and P...   61.541       109800   \n",
       "Nocturne en mi bémol majeur opus 9 n°2: Ballade...   61.494       268427   \n",
       "\n",
       "                                                    time_signature  \\\n",
       "song_name                                                            \n",
       "My Band                                                          4   \n",
       "The Real Slim Shady                                              4   \n",
       "Águas De Março                                                   4   \n",
       "The Girl From Ipanema                                            4   \n",
       "Paint It, Black                                                  4   \n",
       "Sultans Of Swing                                                 4   \n",
       "Space Raiders - Charlotte de Witte Remix                         4   \n",
       "In Silence                                                       4   \n",
       "Wiegenlied, Op. 49, No. 4 (Arr. for Cello and P...               3   \n",
       "Nocturne en mi bémol majeur opus 9 n°2: Ballade...               4   \n",
       "\n",
       "                                                                        id  \\\n",
       "song_name                                                                    \n",
       "My Band                                             4XHQyvbrBsQaaBUW1VvmsL   \n",
       "The Real Slim Shady                                 3yfqSUWxFvZELEM4PmlwIR   \n",
       "Águas De Março                                      1y7OxO5i6sfrHXAmUM77YG   \n",
       "The Girl From Ipanema                               3898C4AbdbptwYet6547e5   \n",
       "Paint It, Black                                     63T7DJ1AFDD6Bn8VzG6JE8   \n",
       "Sultans Of Swing                                    6cr6UDpkjEaMQ80OjWqEBQ   \n",
       "Space Raiders - Charlotte de Witte Remix            4F8OK7mNa51mKqgHqWQiYm   \n",
       "In Silence                                          2vfSCFvMbpf4hwxt22Wx7b   \n",
       "Wiegenlied, Op. 49, No. 4 (Arr. for Cello and P...  59cPOVxrn3Yjwydl1pullI   \n",
       "Nocturne en mi bémol majeur opus 9 n°2: Ballade...  7n92QzQomRCLlciO14X0kd   \n",
       "\n",
       "                                                                                                 html  \n",
       "song_name                                                                                              \n",
       "My Band                                             https://open.spotify.com/track/4XHQyvbrBsQaaBU...  \n",
       "The Real Slim Shady                                 https://open.spotify.com/track/3yfqSUWxFvZELEM...  \n",
       "Águas De Março                                      https://open.spotify.com/track/1y7OxO5i6sfrHXA...  \n",
       "The Girl From Ipanema                               https://open.spotify.com/track/3898C4AbdbptwYe...  \n",
       "Paint It, Black                                     https://open.spotify.com/track/63T7DJ1AFDD6Bn8...  \n",
       "Sultans Of Swing                                    https://open.spotify.com/track/6cr6UDpkjEaMQ80...  \n",
       "Space Raiders - Charlotte de Witte Remix            https://open.spotify.com/track/4F8OK7mNa51mKqg...  \n",
       "In Silence                                          https://open.spotify.com/track/2vfSCFvMbpf4hwx...  \n",
       "Wiegenlied, Op. 49, No. 4 (Arr. for Cello and P...  https://open.spotify.com/track/59cPOVxrn3Yjwyd...  \n",
       "Nocturne en mi bémol majeur opus 9 n°2: Ballade...  https://open.spotify.com/track/7n92QzQomRCLlci...  "
      ]
     },
     "execution_count": 82,
     "metadata": {},
     "output_type": "execute_result"
    }
   ],
   "source": [
    "df_audio_features_10"
   ]
  },
  {
   "cell_type": "code",
   "execution_count": 83,
   "metadata": {},
   "outputs": [
    {
     "data": {
      "text/html": [
       "<div>\n",
       "<style scoped>\n",
       "    .dataframe tbody tr th:only-of-type {\n",
       "        vertical-align: middle;\n",
       "    }\n",
       "\n",
       "    .dataframe tbody tr th {\n",
       "        vertical-align: top;\n",
       "    }\n",
       "\n",
       "    .dataframe thead th {\n",
       "        text-align: right;\n",
       "    }\n",
       "</style>\n",
       "<table border=\"1\" class=\"dataframe\">\n",
       "  <thead>\n",
       "    <tr style=\"text-align: right;\">\n",
       "      <th></th>\n",
       "      <th>artist</th>\n",
       "      <th>danceability</th>\n",
       "      <th>energy</th>\n",
       "      <th>key</th>\n",
       "      <th>loudness</th>\n",
       "      <th>mode</th>\n",
       "      <th>speechiness</th>\n",
       "      <th>acousticness</th>\n",
       "      <th>instrumentalness</th>\n",
       "      <th>liveness</th>\n",
       "      <th>valence</th>\n",
       "      <th>tempo</th>\n",
       "      <th>duration_ms</th>\n",
       "      <th>time_signature</th>\n",
       "    </tr>\n",
       "    <tr>\n",
       "      <th>song_name</th>\n",
       "      <th></th>\n",
       "      <th></th>\n",
       "      <th></th>\n",
       "      <th></th>\n",
       "      <th></th>\n",
       "      <th></th>\n",
       "      <th></th>\n",
       "      <th></th>\n",
       "      <th></th>\n",
       "      <th></th>\n",
       "      <th></th>\n",
       "      <th></th>\n",
       "      <th></th>\n",
       "      <th></th>\n",
       "    </tr>\n",
       "  </thead>\n",
       "  <tbody>\n",
       "    <tr>\n",
       "      <th>My Band</th>\n",
       "      <td>D12</td>\n",
       "      <td>0.851</td>\n",
       "      <td>0.849</td>\n",
       "      <td>1</td>\n",
       "      <td>-3.383</td>\n",
       "      <td>0</td>\n",
       "      <td>0.0828</td>\n",
       "      <td>0.4970</td>\n",
       "      <td>0.000002</td>\n",
       "      <td>0.1160</td>\n",
       "      <td>0.844</td>\n",
       "      <td>120.014</td>\n",
       "      <td>298773</td>\n",
       "      <td>4</td>\n",
       "    </tr>\n",
       "    <tr>\n",
       "      <th>The Real Slim Shady</th>\n",
       "      <td>Eminem</td>\n",
       "      <td>0.949</td>\n",
       "      <td>0.661</td>\n",
       "      <td>5</td>\n",
       "      <td>-4.244</td>\n",
       "      <td>0</td>\n",
       "      <td>0.0572</td>\n",
       "      <td>0.0302</td>\n",
       "      <td>0.000000</td>\n",
       "      <td>0.0454</td>\n",
       "      <td>0.760</td>\n",
       "      <td>104.504</td>\n",
       "      <td>284200</td>\n",
       "      <td>4</td>\n",
       "    </tr>\n",
       "    <tr>\n",
       "      <th>Águas De Março</th>\n",
       "      <td>Antônio Carlos Jobim</td>\n",
       "      <td>0.642</td>\n",
       "      <td>0.339</td>\n",
       "      <td>3</td>\n",
       "      <td>-15.503</td>\n",
       "      <td>1</td>\n",
       "      <td>0.1400</td>\n",
       "      <td>0.8540</td>\n",
       "      <td>0.000000</td>\n",
       "      <td>0.1050</td>\n",
       "      <td>0.491</td>\n",
       "      <td>143.418</td>\n",
       "      <td>212400</td>\n",
       "      <td>4</td>\n",
       "    </tr>\n",
       "  </tbody>\n",
       "</table>\n",
       "</div>"
      ],
      "text/plain": [
       "                                   artist  danceability  energy  key  \\\n",
       "song_name                                                              \n",
       "My Band                               D12         0.851   0.849    1   \n",
       "The Real Slim Shady                Eminem         0.949   0.661    5   \n",
       "Águas De Março       Antônio Carlos Jobim         0.642   0.339    3   \n",
       "\n",
       "                     loudness  mode  speechiness  acousticness  \\\n",
       "song_name                                                        \n",
       "My Band                -3.383     0       0.0828        0.4970   \n",
       "The Real Slim Shady    -4.244     0       0.0572        0.0302   \n",
       "Águas De Março        -15.503     1       0.1400        0.8540   \n",
       "\n",
       "                     instrumentalness  liveness  valence    tempo  \\\n",
       "song_name                                                           \n",
       "My Band                      0.000002    0.1160    0.844  120.014   \n",
       "The Real Slim Shady          0.000000    0.0454    0.760  104.504   \n",
       "Águas De Março               0.000000    0.1050    0.491  143.418   \n",
       "\n",
       "                     duration_ms  time_signature  \n",
       "song_name                                         \n",
       "My Band                   298773               4  \n",
       "The Real Slim Shady       284200               4  \n",
       "Águas De Março            212400               4  "
      ]
     },
     "execution_count": 83,
     "metadata": {},
     "output_type": "execute_result"
    }
   ],
   "source": [
    "# Drop columns id and html for the moment\n",
    "to_drop = ['id', 'html']\n",
    "songs_df = df_audio_features_10.drop(columns=to_drop)\n",
    "songs_df.head(3)"
   ]
  },
  {
   "cell_type": "code",
   "execution_count": 84,
   "metadata": {},
   "outputs": [],
   "source": [
    "# Calculate the average score for each column\n",
    "#average_scores = songs_df.mean()\n",
    "\n",
    "# Sort the columns by their average scores in descending order\n",
    "#sorted_columns = average_scores.sort_values(ascending=False)\n",
    "\n",
    "# Select the top 3 columns from the sorted DataFrame\n",
    "#top_3_columns = sorted_columns[:3]\n",
    "\n",
    "# Print the top 3 columns\n",
    "#top_3_columns"
   ]
  },
  {
   "cell_type": "code",
   "execution_count": 6,
   "metadata": {},
   "outputs": [],
   "source": [
    "# Select the lowest 3 columns from the sorted DataFrame\n",
    "#lowest_3_columns = sorted_columns[-3:]\n",
    "\n",
    "# Print the top 3 columns\n",
    "#lowest_3_columns"
   ]
  },
  {
   "cell_type": "code",
   "execution_count": 85,
   "metadata": {},
   "outputs": [
    {
     "data": {
      "text/html": [
       "<div>\n",
       "<style scoped>\n",
       "    .dataframe tbody tr th:only-of-type {\n",
       "        vertical-align: middle;\n",
       "    }\n",
       "\n",
       "    .dataframe tbody tr th {\n",
       "        vertical-align: top;\n",
       "    }\n",
       "\n",
       "    .dataframe thead th {\n",
       "        text-align: right;\n",
       "    }\n",
       "</style>\n",
       "<table border=\"1\" class=\"dataframe\">\n",
       "  <thead>\n",
       "    <tr style=\"text-align: right;\">\n",
       "      <th></th>\n",
       "      <th>artist</th>\n",
       "      <th>danceability</th>\n",
       "      <th>energy</th>\n",
       "      <th>key</th>\n",
       "      <th>loudness</th>\n",
       "      <th>mode</th>\n",
       "      <th>speechiness</th>\n",
       "      <th>acousticness</th>\n",
       "      <th>instrumentalness</th>\n",
       "      <th>liveness</th>\n",
       "      <th>valence</th>\n",
       "      <th>tempo</th>\n",
       "      <th>duration_ms</th>\n",
       "      <th>time_signature</th>\n",
       "    </tr>\n",
       "    <tr>\n",
       "      <th>song_name</th>\n",
       "      <th></th>\n",
       "      <th></th>\n",
       "      <th></th>\n",
       "      <th></th>\n",
       "      <th></th>\n",
       "      <th></th>\n",
       "      <th></th>\n",
       "      <th></th>\n",
       "      <th></th>\n",
       "      <th></th>\n",
       "      <th></th>\n",
       "      <th></th>\n",
       "      <th></th>\n",
       "      <th></th>\n",
       "    </tr>\n",
       "  </thead>\n",
       "  <tbody>\n",
       "    <tr>\n",
       "      <th>My Band</th>\n",
       "      <td>D12</td>\n",
       "      <td>0.851</td>\n",
       "      <td>0.849</td>\n",
       "      <td>1</td>\n",
       "      <td>-3.383</td>\n",
       "      <td>0</td>\n",
       "      <td>0.0828</td>\n",
       "      <td>0.4970</td>\n",
       "      <td>0.000002</td>\n",
       "      <td>0.1160</td>\n",
       "      <td>0.844</td>\n",
       "      <td>120.014</td>\n",
       "      <td>298773</td>\n",
       "      <td>4</td>\n",
       "    </tr>\n",
       "    <tr>\n",
       "      <th>The Real Slim Shady</th>\n",
       "      <td>Eminem</td>\n",
       "      <td>0.949</td>\n",
       "      <td>0.661</td>\n",
       "      <td>5</td>\n",
       "      <td>-4.244</td>\n",
       "      <td>0</td>\n",
       "      <td>0.0572</td>\n",
       "      <td>0.0302</td>\n",
       "      <td>0.000000</td>\n",
       "      <td>0.0454</td>\n",
       "      <td>0.760</td>\n",
       "      <td>104.504</td>\n",
       "      <td>284200</td>\n",
       "      <td>4</td>\n",
       "    </tr>\n",
       "  </tbody>\n",
       "</table>\n",
       "</div>"
      ],
      "text/plain": [
       "                     artist  danceability  energy  key  loudness  mode  \\\n",
       "song_name                                                                \n",
       "My Band                 D12         0.851   0.849    1    -3.383     0   \n",
       "The Real Slim Shady  Eminem         0.949   0.661    5    -4.244     0   \n",
       "\n",
       "                     speechiness  acousticness  instrumentalness  liveness  \\\n",
       "song_name                                                                    \n",
       "My Band                   0.0828        0.4970          0.000002    0.1160   \n",
       "The Real Slim Shady       0.0572        0.0302          0.000000    0.0454   \n",
       "\n",
       "                     valence    tempo  duration_ms  time_signature  \n",
       "song_name                                                           \n",
       "My Band                0.844  120.014       298773               4  \n",
       "The Real Slim Shady    0.760  104.504       284200               4  "
      ]
     },
     "execution_count": 85,
     "metadata": {},
     "output_type": "execute_result"
    }
   ],
   "source": [
    "#songs_df.info()\n",
    "songs_df.head(2)"
   ]
  },
  {
   "cell_type": "code",
   "execution_count": 8,
   "metadata": {},
   "outputs": [
    {
     "name": "stdout",
     "output_type": "stream",
     "text": [
      "<class 'pandas.core.frame.DataFrame'>\n",
      "Index: 10 entries, My Band to Nocturne en mi bémol majeur opus 9 n°2: Ballade en Sol Mineur No.1\n",
      "Data columns (total 10 columns):\n",
      " #   Column                                                                 Non-Null Count  Dtype  \n",
      "---  ------                                                                 --------------  -----  \n",
      " 0   My Band                                                                10 non-null     float64\n",
      " 1   The Real Slim Shady                                                    10 non-null     float64\n",
      " 2   Águas De Março                                                         10 non-null     float64\n",
      " 3   The Girl From Ipanema                                                  10 non-null     float64\n",
      " 4   Paint It, Black                                                        10 non-null     float64\n",
      " 5   Sultans Of Swing                                                       10 non-null     float64\n",
      " 6   Space Raiders - Charlotte de Witte Remix                               10 non-null     float64\n",
      " 7   In Silence                                                             10 non-null     float64\n",
      " 8   Wiegenlied, Op. 49, No. 4 (Arr. for Cello and Piano) [Brahms Lullaby]  10 non-null     float64\n",
      " 9   Nocturne en mi bémol majeur opus 9 n°2: Ballade en Sol Mineur No.1     10 non-null     float64\n",
      "dtypes: float64(10)\n",
      "memory usage: 1.2+ KB\n"
     ]
    }
   ],
   "source": [
    "# Exclude the 'artist' column\n",
    "songs_df_numeric = songs_df.drop('artist', axis=1)\n",
    "\n",
    "# Calculate the Euclidean distances\n",
    "distances_array = pairwise_distances(songs_df_numeric, metric='euclidean')\n",
    "\n",
    "# Create a DataFrame from the distances_array\n",
    "euclidean_distances_df = pd.DataFrame(distances_array,\n",
    "                                      index=songs_df_numeric.index,\n",
    "                                      columns=songs_df_numeric.index)\n",
    "\n",
    "# Display the DataFrame\n",
    "euclidean_distances_df.info()"
   ]
  },
  {
   "cell_type": "code",
   "execution_count": 200,
   "metadata": {},
   "outputs": [],
   "source": [
    "#euclidean_distances_df"
   ]
  },
  {
   "cell_type": "code",
   "execution_count": 9,
   "metadata": {},
   "outputs": [
    {
     "data": {
      "image/png": "[encoded data removed]",
      "text/plain": [
       "<Figure size 1080x576 with 2 Axes>"
      ]
     },
     "metadata": {
      "needs_background": "light"
     },
     "output_type": "display_data"
    }
   ],
   "source": [
    "# Create a figure with a size of 12 inches by 8 inches\n",
    "plt.subplots(figsize=(15, 8))\n",
    "\n",
    "# Generate a heatmap of the Euclidean distances DataFrame withou Scaling\n",
    "sns.heatmap(euclidean_distances_df);"
   ]
  },
  {
   "cell_type": "code",
   "execution_count": 10,
   "metadata": {},
   "outputs": [
    {
     "data": {
      "text/html": [
       "<div>\n",
       "<style scoped>\n",
       "    .dataframe tbody tr th:only-of-type {\n",
       "        vertical-align: middle;\n",
       "    }\n",
       "\n",
       "    .dataframe tbody tr th {\n",
       "        vertical-align: top;\n",
       "    }\n",
       "\n",
       "    .dataframe thead th {\n",
       "        text-align: right;\n",
       "    }\n",
       "</style>\n",
       "<table border=\"1\" class=\"dataframe\">\n",
       "  <thead>\n",
       "    <tr style=\"text-align: right;\">\n",
       "      <th></th>\n",
       "      <th>danceability</th>\n",
       "      <th>energy</th>\n",
       "      <th>key</th>\n",
       "      <th>loudness</th>\n",
       "      <th>mode</th>\n",
       "      <th>speechiness</th>\n",
       "      <th>acousticness</th>\n",
       "      <th>instrumentalness</th>\n",
       "      <th>liveness</th>\n",
       "      <th>valence</th>\n",
       "      <th>tempo</th>\n",
       "      <th>duration_ms</th>\n",
       "      <th>time_signature</th>\n",
       "    </tr>\n",
       "    <tr>\n",
       "      <th>song_name</th>\n",
       "      <th></th>\n",
       "      <th></th>\n",
       "      <th></th>\n",
       "      <th></th>\n",
       "      <th></th>\n",
       "      <th></th>\n",
       "      <th></th>\n",
       "      <th></th>\n",
       "      <th></th>\n",
       "      <th></th>\n",
       "      <th></th>\n",
       "      <th></th>\n",
       "      <th></th>\n",
       "    </tr>\n",
       "  </thead>\n",
       "  <tbody>\n",
       "    <tr>\n",
       "      <th>My Band</th>\n",
       "      <td>0.871895</td>\n",
       "      <td>1.000000</td>\n",
       "      <td>0.000000</td>\n",
       "      <td>1.000000</td>\n",
       "      <td>0.0</td>\n",
       "      <td>0.476670</td>\n",
       "      <td>0.500436</td>\n",
       "      <td>0.000002</td>\n",
       "      <td>0.199661</td>\n",
       "      <td>0.900138</td>\n",
       "      <td>0.602076</td>\n",
       "      <td>0.574526</td>\n",
       "      <td>1.0</td>\n",
       "    </tr>\n",
       "    <tr>\n",
       "      <th>The Real Slim Shady</th>\n",
       "      <td>1.000000</td>\n",
       "      <td>0.776369</td>\n",
       "      <td>0.571429</td>\n",
       "      <td>0.971414</td>\n",
       "      <td>0.0</td>\n",
       "      <td>0.242452</td>\n",
       "      <td>0.027420</td>\n",
       "      <td>0.000000</td>\n",
       "      <td>0.000000</td>\n",
       "      <td>0.803719</td>\n",
       "      <td>0.442503</td>\n",
       "      <td>0.530220</td>\n",
       "      <td>1.0</td>\n",
       "    </tr>\n",
       "    <tr>\n",
       "      <th>Águas De Março</th>\n",
       "      <td>0.598693</td>\n",
       "      <td>0.393341</td>\n",
       "      <td>0.285714</td>\n",
       "      <td>0.597610</td>\n",
       "      <td>1.0</td>\n",
       "      <td>1.000000</td>\n",
       "      <td>0.862189</td>\n",
       "      <td>0.000000</td>\n",
       "      <td>0.168552</td>\n",
       "      <td>0.494949</td>\n",
       "      <td>0.842866</td>\n",
       "      <td>0.311930</td>\n",
       "      <td>1.0</td>\n",
       "    </tr>\n",
       "  </tbody>\n",
       "</table>\n",
       "</div>"
      ],
      "text/plain": [
       "                     danceability    energy       key  loudness  mode  \\\n",
       "song_name                                                               \n",
       "My Band                  0.871895  1.000000  0.000000  1.000000   0.0   \n",
       "The Real Slim Shady      1.000000  0.776369  0.571429  0.971414   0.0   \n",
       "Águas De Março           0.598693  0.393341  0.285714  0.597610   1.0   \n",
       "\n",
       "                     speechiness  acousticness  instrumentalness  liveness  \\\n",
       "song_name                                                                    \n",
       "My Band                 0.476670      0.500436          0.000002  0.199661   \n",
       "The Real Slim Shady     0.242452      0.027420          0.000000  0.000000   \n",
       "Águas De Março          1.000000      0.862189          0.000000  0.168552   \n",
       "\n",
       "                      valence     tempo  duration_ms  time_signature  \n",
       "song_name                                                             \n",
       "My Band              0.900138  0.602076     0.574526             1.0  \n",
       "The Real Slim Shady  0.803719  0.442503     0.530220             1.0  \n",
       "Águas De Março       0.494949  0.842866     0.311930             1.0  "
      ]
     },
     "execution_count": 10,
     "metadata": {},
     "output_type": "execute_result"
    }
   ],
   "source": [
    "from sklearn.preprocessing import MinMaxScaler\n",
    "\n",
    "# Create a MinMaxScaler object\n",
    "scaler = MinMaxScaler()\n",
    "\n",
    "# Scale the songs_df_numeric DataFrame\n",
    "scaled_data = scaler.fit_transform(songs_df_numeric)\n",
    "\n",
    "# Convert the scaled data back to a DataFrame\n",
    "songs_df_scaled = pd.DataFrame(scaled_data, columns=songs_df_numeric.columns, index=songs_df_numeric.index)\n",
    "\n",
    "songs_df_scaled.head(3)\n"
   ]
  },
  {
   "cell_type": "code",
   "execution_count": 204,
   "metadata": {},
   "outputs": [
    {
     "data": {
      "image/png": "[encoded data removed]",
      "text/plain": [
       "<Figure size 864x576 with 2 Axes>"
      ]
     },
     "metadata": {
      "needs_background": "light"
     },
     "output_type": "display_data"
    }
   ],
   "source": [
    "# Plotting the heatmap for MinMaxScaler\n",
    "plt.figure(figsize=(12, 8))\n",
    "plt.title(\"Heatmap of Songs Scaled with MinMaxScaler\")\n",
    "sns.heatmap(songs_df_scaled, cmap='viridis')\n",
    "plt.show()"
   ]
  },
  {
   "cell_type": "code",
   "execution_count": null,
   "metadata": {},
   "outputs": [],
   "source": []
  },
  {
   "cell_type": "code",
   "execution_count": 11,
   "metadata": {},
   "outputs": [],
   "source": [
    "from sklearn.preprocessing import RobustScaler\n",
    "\n",
    "# Create a RobustScaler object\n",
    "scaler = RobustScaler()\n",
    "\n",
    "# Scale the songs_df_numeric DataFrame\n",
    "scaled_data = scaler.fit_transform(songs_df_numeric)\n",
    "\n",
    "# Convert the scaled data back to a DataFrame\n",
    "songs_df_robust_scaled = pd.DataFrame(scaled_data, columns=songs_df_numeric.columns, index=songs_df_numeric.index)\n",
    "\n",
    "#songs_df_robust_scaled"
   ]
  },
  {
   "cell_type": "code",
   "execution_count": 162,
   "metadata": {},
   "outputs": [
    {
     "data": {
      "image/png": "[encoded data removed]",
      "text/plain": [
       "<Figure size 864x576 with 2 Axes>"
      ]
     },
     "metadata": {
      "needs_background": "light"
     },
     "output_type": "display_data"
    }
   ],
   "source": [
    "\n",
    "# Plotting the heatmap for RobustScaler\n",
    "plt.figure(figsize=(12, 8))\n",
    "plt.title(\"Heatmap of Songs Scaled with RobustScaler\")\n",
    "sns.heatmap(songs_df_robust_scaled, cmap='viridis')\n",
    "plt.show()\n"
   ]
  },
  {
   "cell_type": "code",
   "execution_count": 163,
   "metadata": {},
   "outputs": [],
   "source": [
    "#Effect of RobustScaler: This scaler is less sensitive to outliers than other scalers, such as MinMaxScaler. \n",
    "#It uses the median and interquartile range, which means it's more robust to outliers in your data. \n",
    "#If \"Sultan of Swings\" and \"Paint it, Black\" show higher robustness in the liveness feature, it could mean that these songs have values in \n",
    "#liveness that are outliers or significantly different from the median of this feature across all songs.\n",
    "\n",
    "#Interpretation of Liveness: \n",
    "#The liveness feature in audio data typically represents the likelihood that the track was performed live. \n",
    "#A higher value in this feature usually suggests a higher probability that the track was recorded with a live audience."
   ]
  },
  {
   "cell_type": "code",
   "execution_count": 12,
   "metadata": {},
   "outputs": [
    {
     "data": {
      "image/png": "[encoded data removed]",
      "text/plain": [
       "<Figure size 1080x720 with 2 Axes>"
      ]
     },
     "metadata": {
      "needs_background": "light"
     },
     "output_type": "display_data"
    }
   ],
   "source": [
    "from sklearn.preprocessing import QuantileTransformer\n",
    "\n",
    "# Number of samples\n",
    "number_of_samples = songs_df_numeric.shape[0]\n",
    "\n",
    "# Create a QuantileTransformer object\n",
    "scaler = QuantileTransformer(n_quantiles=int(number_of_samples / 4))\n",
    "\n",
    "# Transform the songs_df_numeric DataFrame\n",
    "songs_df_quantile_array = scaler.fit_transform(songs_df_numeric)\n",
    "\n",
    "# Convert the transformed data back to a DataFrame\n",
    "songs_df_quantile = pd.DataFrame(songs_df_quantile_array, columns=songs_df_numeric.columns, index=songs_df_numeric.index)\n",
    "\n",
    "# Creating the heatmap\n",
    "plt.figure(figsize=(15, 10))\n",
    "sns.heatmap(songs_df_quantile, cmap='viridis')\n",
    "plt.title('Heatmap of Songs after Quantile Transformation')\n",
    "plt.show()\n"
   ]
  },
  {
   "cell_type": "code",
   "execution_count": null,
   "metadata": {},
   "outputs": [],
   "source": []
  },
  {
   "cell_type": "code",
   "execution_count": 13,
   "metadata": {},
   "outputs": [
    {
     "data": {
      "image/png": "[encoded data removed]",
      "text/plain": [
       "<Figure size 1440x576 with 4 Axes>"
      ]
     },
     "metadata": {
      "needs_background": "light"
     },
     "output_type": "display_data"
    }
   ],
   "source": [
    "# Calculate the pairwise distances for the original data\n",
    "# Exclude the 'artist' column\n",
    "songs_df_numeric = songs_df.drop('artist', axis=1)\n",
    "\n",
    "original_distances_df = pd.DataFrame(pairwise_distances(songs_df_numeric),\n",
    "                                     index=songs_df_numeric.index,\n",
    "                                     columns=songs_df_numeric.index)\n",
    "\n",
    "# Calculate the pairwise distances for the Quantile transformed data\n",
    "quantile_distances_df = pd.DataFrame(pairwise_distances(songs_df_quantile),\n",
    "                                     index=songs_df_quantile.index,\n",
    "                                     columns=songs_df_quantile.index)\n",
    "\n",
    "# Setting up the subplot for two heatmaps\n",
    "fig, (ax1, ax2) = plt.subplots(1, 2, figsize=(20, 8))\n",
    "\n",
    "# Plotting the heatmaps\n",
    "sns.heatmap(original_distances_df, ax=ax1, linewidths=.2, cmap='viridis')\n",
    "sns.heatmap(quantile_distances_df, ax=ax2, linewidths=.2, cmap='viridis')\n",
    "\n",
    "# Adding titles to the plots\n",
    "ax1.set_title('Original Data Distances')\n",
    "ax2.set_title('Quantile Transformed Data Distances')\n",
    "\n",
    "# Adjusting layout to add space between the plots\n",
    "plt.subplots_adjust(wspace=0.5)  # Adjust this value as needed for desired spacing\n",
    "\n",
    "plt.show()"
   ]
  },
  {
   "cell_type": "code",
   "execution_count": 14,
   "metadata": {},
   "outputs": [],
   "source": [
    "# K-Means"
   ]
  },
  {
   "cell_type": "code",
   "execution_count": 61,
   "metadata": {},
   "outputs": [],
   "source": [
    "# Generating our dataframe\n",
    "df = pd.read_csv('/home/ornela/audio_feature_songs/audio_features_10_songs/df_audio_features_10.csv', \n",
    "                index_col = 'song_name')\n"
   ]
  },
  {
   "cell_type": "code",
   "execution_count": 62,
   "metadata": {},
   "outputs": [],
   "source": [
    "df_drop = ['artist', 'id', 'html']\n",
    "df_clean = df.drop(columns=df_drop)"
   ]
  },
  {
   "cell_type": "code",
   "execution_count": 63,
   "metadata": {},
   "outputs": [],
   "source": [
    "songs_df = df_clean.copy()"
   ]
  },
  {
   "cell_type": "code",
   "execution_count": 64,
   "metadata": {},
   "outputs": [
    {
     "data": {
      "text/html": [
       "<div>\n",
       "<style scoped>\n",
       "    .dataframe tbody tr th:only-of-type {\n",
       "        vertical-align: middle;\n",
       "    }\n",
       "\n",
       "    .dataframe tbody tr th {\n",
       "        vertical-align: top;\n",
       "    }\n",
       "\n",
       "    .dataframe thead th {\n",
       "        text-align: right;\n",
       "    }\n",
       "</style>\n",
       "<table border=\"1\" class=\"dataframe\">\n",
       "  <thead>\n",
       "    <tr style=\"text-align: right;\">\n",
       "      <th></th>\n",
       "      <th>danceability</th>\n",
       "      <th>energy</th>\n",
       "      <th>key</th>\n",
       "      <th>loudness</th>\n",
       "      <th>mode</th>\n",
       "      <th>speechiness</th>\n",
       "      <th>acousticness</th>\n",
       "      <th>instrumentalness</th>\n",
       "      <th>liveness</th>\n",
       "      <th>valence</th>\n",
       "      <th>tempo</th>\n",
       "      <th>duration_ms</th>\n",
       "      <th>time_signature</th>\n",
       "    </tr>\n",
       "    <tr>\n",
       "      <th>song_name</th>\n",
       "      <th></th>\n",
       "      <th></th>\n",
       "      <th></th>\n",
       "      <th></th>\n",
       "      <th></th>\n",
       "      <th></th>\n",
       "      <th></th>\n",
       "      <th></th>\n",
       "      <th></th>\n",
       "      <th></th>\n",
       "      <th></th>\n",
       "      <th></th>\n",
       "      <th></th>\n",
       "    </tr>\n",
       "  </thead>\n",
       "  <tbody>\n",
       "    <tr>\n",
       "      <th>My Band</th>\n",
       "      <td>0.871895</td>\n",
       "      <td>1.000000</td>\n",
       "      <td>0.000000</td>\n",
       "      <td>1.000000</td>\n",
       "      <td>0.0</td>\n",
       "      <td>0.476670</td>\n",
       "      <td>0.500436</td>\n",
       "      <td>0.000002</td>\n",
       "      <td>0.199661</td>\n",
       "      <td>0.900138</td>\n",
       "      <td>0.602076</td>\n",
       "      <td>0.574526</td>\n",
       "      <td>1.0</td>\n",
       "    </tr>\n",
       "    <tr>\n",
       "      <th>The Real Slim Shady</th>\n",
       "      <td>1.000000</td>\n",
       "      <td>0.776369</td>\n",
       "      <td>0.571429</td>\n",
       "      <td>0.971414</td>\n",
       "      <td>0.0</td>\n",
       "      <td>0.242452</td>\n",
       "      <td>0.027420</td>\n",
       "      <td>0.000000</td>\n",
       "      <td>0.000000</td>\n",
       "      <td>0.803719</td>\n",
       "      <td>0.442503</td>\n",
       "      <td>0.530220</td>\n",
       "      <td>1.0</td>\n",
       "    </tr>\n",
       "    <tr>\n",
       "      <th>Águas De Março</th>\n",
       "      <td>0.598693</td>\n",
       "      <td>0.393341</td>\n",
       "      <td>0.285714</td>\n",
       "      <td>0.597610</td>\n",
       "      <td>1.0</td>\n",
       "      <td>1.000000</td>\n",
       "      <td>0.862189</td>\n",
       "      <td>0.000000</td>\n",
       "      <td>0.168552</td>\n",
       "      <td>0.494949</td>\n",
       "      <td>0.842866</td>\n",
       "      <td>0.311930</td>\n",
       "      <td>1.0</td>\n",
       "    </tr>\n",
       "    <tr>\n",
       "      <th>The Girl From Ipanema</th>\n",
       "      <td>0.597386</td>\n",
       "      <td>0.156625</td>\n",
       "      <td>1.000000</td>\n",
       "      <td>0.554880</td>\n",
       "      <td>1.0</td>\n",
       "      <td>0.075938</td>\n",
       "      <td>0.875362</td>\n",
       "      <td>0.001818</td>\n",
       "      <td>0.168552</td>\n",
       "      <td>0.376722</td>\n",
       "      <td>0.697799</td>\n",
       "      <td>0.632941</td>\n",
       "      <td>1.0</td>\n",
       "    </tr>\n",
       "    <tr>\n",
       "      <th>Paint It, Black</th>\n",
       "      <td>0.366013</td>\n",
       "      <td>0.935766</td>\n",
       "      <td>0.000000</td>\n",
       "      <td>0.804648</td>\n",
       "      <td>1.0</td>\n",
       "      <td>0.566331</td>\n",
       "      <td>0.046775</td>\n",
       "      <td>0.002673</td>\n",
       "      <td>1.000000</td>\n",
       "      <td>0.633838</td>\n",
       "      <td>1.000000</td>\n",
       "      <td>0.281123</td>\n",
       "      <td>1.0</td>\n",
       "    </tr>\n",
       "  </tbody>\n",
       "</table>\n",
       "</div>"
      ],
      "text/plain": [
       "                       danceability    energy       key  loudness  mode  \\\n",
       "song_name                                                                 \n",
       "My Band                    0.871895  1.000000  0.000000  1.000000   0.0   \n",
       "The Real Slim Shady        1.000000  0.776369  0.571429  0.971414   0.0   \n",
       "Águas De Março             0.598693  0.393341  0.285714  0.597610   1.0   \n",
       "The Girl From Ipanema      0.597386  0.156625  1.000000  0.554880   1.0   \n",
       "Paint It, Black            0.366013  0.935766  0.000000  0.804648   1.0   \n",
       "\n",
       "                       speechiness  acousticness  instrumentalness  liveness  \\\n",
       "song_name                                                                      \n",
       "My Band                   0.476670      0.500436          0.000002  0.199661   \n",
       "The Real Slim Shady       0.242452      0.027420          0.000000  0.000000   \n",
       "Águas De Março            1.000000      0.862189          0.000000  0.168552   \n",
       "The Girl From Ipanema     0.075938      0.875362          0.001818  0.168552   \n",
       "Paint It, Black           0.566331      0.046775          0.002673  1.000000   \n",
       "\n",
       "                        valence     tempo  duration_ms  time_signature  \n",
       "song_name                                                               \n",
       "My Band                0.900138  0.602076     0.574526             1.0  \n",
       "The Real Slim Shady    0.803719  0.442503     0.530220             1.0  \n",
       "Águas De Março         0.494949  0.842866     0.311930             1.0  \n",
       "The Girl From Ipanema  0.376722  0.697799     0.632941             1.0  \n",
       "Paint It, Black        0.633838  1.000000     0.281123             1.0  "
      ]
     },
     "execution_count": 64,
     "metadata": {},
     "output_type": "execute_result"
    }
   ],
   "source": [
    "scaler = MinMaxScaler().set_output(transform = 'pandas')\n",
    "songs_df_minmax = scaler.fit_transform(songs_df)\n",
    "songs_df_minmax.head()"
   ]
  },
  {
   "cell_type": "code",
   "execution_count": 65,
   "metadata": {},
   "outputs": [],
   "source": [
    "# heatmap min_max\n",
    "min_max_distances = pd.DataFrame(pairwise_distances(songs_df_minmax),\n",
    "                                index = songs_df_minmax.index,\n",
    "                                columns = songs_df_minmax.index)"
   ]
  },
  {
   "cell_type": "code",
   "execution_count": 66,
   "metadata": {},
   "outputs": [
    {
     "data": {
      "image/png": "[encoded data removed]",
      "text/plain": [
       "<Figure size 720x432 with 2 Axes>"
      ]
     },
     "metadata": {
      "needs_background": "light"
     },
     "output_type": "display_data"
    }
   ],
   "source": [
    "plt.subplots(figsize = (10, 6));\n",
    "sns.heatmap(min_max_distances);"
   ]
  },
  {
   "cell_type": "code",
   "execution_count": 67,
   "metadata": {},
   "outputs": [],
   "source": [
    "from sklearn.cluster import KMeans\n",
    "\n",
    "# Initialise the model\n",
    "kmeans = KMeans(n_clusters = 4,\n",
    "                  n_init = 'auto',\n",
    "                  random_state = 321)"
   ]
  },
  {
   "cell_type": "code",
   "execution_count": 68,
   "metadata": {},
   "outputs": [
    {
     "data": {
      "text/html": [
       "<style>#sk-container-id-3 {color: black;}#sk-container-id-3 pre{padding: 0;}#sk-container-id-3 div.sk-toggleable {background-color: white;}#sk-container-id-3 label.sk-toggleable__label {cursor: pointer;display: block;width: 100%;margin-bottom: 0;padding: 0.3em;box-sizing: border-box;text-align: center;}#sk-container-id-3 label.sk-toggleable__label-arrow:before {content: \"▸\";float: left;margin-right: 0.25em;color: #696969;}#sk-container-id-3 label.sk-toggleable__label-arrow:hover:before {color: black;}#sk-container-id-3 div.sk-estimator:hover label.sk-toggleable__label-arrow:before {color: black;}#sk-container-id-3 div.sk-toggleable__content {max-height: 0;max-width: 0;overflow: hidden;text-align: left;background-color: #f0f8ff;}#sk-container-id-3 div.sk-toggleable__content pre {margin: 0.2em;color: black;border-radius: 0.25em;background-color: #f0f8ff;}#sk-container-id-3 input.sk-toggleable__control:checked~div.sk-toggleable__content {max-height: 200px;max-width: 100%;overflow: auto;}#sk-container-id-3 input.sk-toggleable__control:checked~label.sk-toggleable__label-arrow:before {content: \"▾\";}#sk-container-id-3 div.sk-estimator input.sk-toggleable__control:checked~label.sk-toggleable__label {background-color: #d4ebff;}#sk-container-id-3 div.sk-label input.sk-toggleable__control:checked~label.sk-toggleable__label {background-color: #d4ebff;}#sk-container-id-3 input.sk-hidden--visually {border: 0;clip: rect(1px 1px 1px 1px);clip: rect(1px, 1px, 1px, 1px);height: 1px;margin: -1px;overflow: hidden;padding: 0;position: absolute;width: 1px;}#sk-container-id-3 div.sk-estimator {font-family: monospace;background-color: #f0f8ff;border: 1px dotted black;border-radius: 0.25em;box-sizing: border-box;margin-bottom: 0.5em;}#sk-container-id-3 div.sk-estimator:hover {background-color: #d4ebff;}#sk-container-id-3 div.sk-parallel-item::after {content: \"\";width: 100%;border-bottom: 1px solid gray;flex-grow: 1;}#sk-container-id-3 div.sk-label:hover label.sk-toggleable__label {background-color: #d4ebff;}#sk-container-id-3 div.sk-serial::before {content: \"\";position: absolute;border-left: 1px solid gray;box-sizing: border-box;top: 0;bottom: 0;left: 50%;z-index: 0;}#sk-container-id-3 div.sk-serial {display: flex;flex-direction: column;align-items: center;background-color: white;padding-right: 0.2em;padding-left: 0.2em;position: relative;}#sk-container-id-3 div.sk-item {position: relative;z-index: 1;}#sk-container-id-3 div.sk-parallel {display: flex;align-items: stretch;justify-content: center;background-color: white;position: relative;}#sk-container-id-3 div.sk-item::before, #sk-container-id-3 div.sk-parallel-item::before {content: \"\";position: absolute;border-left: 1px solid gray;box-sizing: border-box;top: 0;bottom: 0;left: 50%;z-index: -1;}#sk-container-id-3 div.sk-parallel-item {display: flex;flex-direction: column;z-index: 1;position: relative;background-color: white;}#sk-container-id-3 div.sk-parallel-item:first-child::after {align-self: flex-end;width: 50%;}#sk-container-id-3 div.sk-parallel-item:last-child::after {align-self: flex-start;width: 50%;}#sk-container-id-3 div.sk-parallel-item:only-child::after {width: 0;}#sk-container-id-3 div.sk-dashed-wrapped {border: 1px dashed gray;margin: 0 0.4em 0.5em 0.4em;box-sizing: border-box;padding-bottom: 0.4em;background-color: white;}#sk-container-id-3 div.sk-label label {font-family: monospace;font-weight: bold;display: inline-block;line-height: 1.2em;}#sk-container-id-3 div.sk-label-container {text-align: center;}#sk-container-id-3 div.sk-container {/* jupyter's `normalize.less` sets `[hidden] { display: none; }` but bootstrap.min.css set `[hidden] { display: none !important; }` so we also need the `!important` here to be able to override the default hidden behavior on the sphinx rendered scikit-learn.org. See: https://github.com/scikit-learn/scikit-learn/issues/21755 */display: inline-block !important;position: relative;}#sk-container-id-3 div.sk-text-repr-fallback {display: none;}</style><div id=\"sk-container-id-3\" class=\"sk-top-container\"><div class=\"sk-text-repr-fallback\"><pre>KMeans(n_clusters=4, n_init=&#x27;auto&#x27;, random_state=321)</pre><b>In a Jupyter environment, please rerun this cell to show the HTML representation or trust the notebook. <br />On GitHub, the HTML representation is unable to render, please try loading this page with nbviewer.org.</b></div><div class=\"sk-container\" hidden><div class=\"sk-item\"><div class=\"sk-estimator sk-toggleable\"><input class=\"sk-toggleable__control sk-hidden--visually\" id=\"sk-estimator-id-3\" type=\"checkbox\" checked><label for=\"sk-estimator-id-3\" class=\"sk-toggleable__label sk-toggleable__label-arrow\">KMeans</label><div class=\"sk-toggleable__content\"><pre>KMeans(n_clusters=4, n_init=&#x27;auto&#x27;, random_state=321)</pre></div></div></div></div></div>"
      ],
      "text/plain": [
       "KMeans(n_clusters=4, n_init='auto', random_state=321)"
      ]
     },
     "execution_count": 68,
     "metadata": {},
     "output_type": "execute_result"
    }
   ],
   "source": [
    "kmeans"
   ]
  },
  {
   "cell_type": "code",
   "execution_count": 69,
   "metadata": {},
   "outputs": [
    {
     "data": {
      "text/html": [
       "<style>#sk-container-id-4 {color: black;}#sk-container-id-4 pre{padding: 0;}#sk-container-id-4 div.sk-toggleable {background-color: white;}#sk-container-id-4 label.sk-toggleable__label {cursor: pointer;display: block;width: 100%;margin-bottom: 0;padding: 0.3em;box-sizing: border-box;text-align: center;}#sk-container-id-4 label.sk-toggleable__label-arrow:before {content: \"▸\";float: left;margin-right: 0.25em;color: #696969;}#sk-container-id-4 label.sk-toggleable__label-arrow:hover:before {color: black;}#sk-container-id-4 div.sk-estimator:hover label.sk-toggleable__label-arrow:before {color: black;}#sk-container-id-4 div.sk-toggleable__content {max-height: 0;max-width: 0;overflow: hidden;text-align: left;background-color: #f0f8ff;}#sk-container-id-4 div.sk-toggleable__content pre {margin: 0.2em;color: black;border-radius: 0.25em;background-color: #f0f8ff;}#sk-container-id-4 input.sk-toggleable__control:checked~div.sk-toggleable__content {max-height: 200px;max-width: 100%;overflow: auto;}#sk-container-id-4 input.sk-toggleable__control:checked~label.sk-toggleable__label-arrow:before {content: \"▾\";}#sk-container-id-4 div.sk-estimator input.sk-toggleable__control:checked~label.sk-toggleable__label {background-color: #d4ebff;}#sk-container-id-4 div.sk-label input.sk-toggleable__control:checked~label.sk-toggleable__label {background-color: #d4ebff;}#sk-container-id-4 input.sk-hidden--visually {border: 0;clip: rect(1px 1px 1px 1px);clip: rect(1px, 1px, 1px, 1px);height: 1px;margin: -1px;overflow: hidden;padding: 0;position: absolute;width: 1px;}#sk-container-id-4 div.sk-estimator {font-family: monospace;background-color: #f0f8ff;border: 1px dotted black;border-radius: 0.25em;box-sizing: border-box;margin-bottom: 0.5em;}#sk-container-id-4 div.sk-estimator:hover {background-color: #d4ebff;}#sk-container-id-4 div.sk-parallel-item::after {content: \"\";width: 100%;border-bottom: 1px solid gray;flex-grow: 1;}#sk-container-id-4 div.sk-label:hover label.sk-toggleable__label {background-color: #d4ebff;}#sk-container-id-4 div.sk-serial::before {content: \"\";position: absolute;border-left: 1px solid gray;box-sizing: border-box;top: 0;bottom: 0;left: 50%;z-index: 0;}#sk-container-id-4 div.sk-serial {display: flex;flex-direction: column;align-items: center;background-color: white;padding-right: 0.2em;padding-left: 0.2em;position: relative;}#sk-container-id-4 div.sk-item {position: relative;z-index: 1;}#sk-container-id-4 div.sk-parallel {display: flex;align-items: stretch;justify-content: center;background-color: white;position: relative;}#sk-container-id-4 div.sk-item::before, #sk-container-id-4 div.sk-parallel-item::before {content: \"\";position: absolute;border-left: 1px solid gray;box-sizing: border-box;top: 0;bottom: 0;left: 50%;z-index: -1;}#sk-container-id-4 div.sk-parallel-item {display: flex;flex-direction: column;z-index: 1;position: relative;background-color: white;}#sk-container-id-4 div.sk-parallel-item:first-child::after {align-self: flex-end;width: 50%;}#sk-container-id-4 div.sk-parallel-item:last-child::after {align-self: flex-start;width: 50%;}#sk-container-id-4 div.sk-parallel-item:only-child::after {width: 0;}#sk-container-id-4 div.sk-dashed-wrapped {border: 1px dashed gray;margin: 0 0.4em 0.5em 0.4em;box-sizing: border-box;padding-bottom: 0.4em;background-color: white;}#sk-container-id-4 div.sk-label label {font-family: monospace;font-weight: bold;display: inline-block;line-height: 1.2em;}#sk-container-id-4 div.sk-label-container {text-align: center;}#sk-container-id-4 div.sk-container {/* jupyter's `normalize.less` sets `[hidden] { display: none; }` but bootstrap.min.css set `[hidden] { display: none !important; }` so we also need the `!important` here to be able to override the default hidden behavior on the sphinx rendered scikit-learn.org. See: https://github.com/scikit-learn/scikit-learn/issues/21755 */display: inline-block !important;position: relative;}#sk-container-id-4 div.sk-text-repr-fallback {display: none;}</style><div id=\"sk-container-id-4\" class=\"sk-top-container\"><div class=\"sk-text-repr-fallback\"><pre>KMeans(n_clusters=4, n_init=&#x27;auto&#x27;, random_state=321)</pre><b>In a Jupyter environment, please rerun this cell to show the HTML representation or trust the notebook. <br />On GitHub, the HTML representation is unable to render, please try loading this page with nbviewer.org.</b></div><div class=\"sk-container\" hidden><div class=\"sk-item\"><div class=\"sk-estimator sk-toggleable\"><input class=\"sk-toggleable__control sk-hidden--visually\" id=\"sk-estimator-id-4\" type=\"checkbox\" checked><label for=\"sk-estimator-id-4\" class=\"sk-toggleable__label sk-toggleable__label-arrow\">KMeans</label><div class=\"sk-toggleable__content\"><pre>KMeans(n_clusters=4, n_init=&#x27;auto&#x27;, random_state=321)</pre></div></div></div></div></div>"
      ],
      "text/plain": [
       "KMeans(n_clusters=4, n_init='auto', random_state=321)"
      ]
     },
     "execution_count": 69,
     "metadata": {},
     "output_type": "execute_result"
    }
   ],
   "source": [
    "# Fit the model to the data\n",
    "kmeans.fit(songs_df_minmax)"
   ]
  },
  {
   "cell_type": "code",
   "execution_count": 70,
   "metadata": {},
   "outputs": [
    {
     "data": {
      "text/plain": [
       "array([2, 2, 3, 3, 2, 2, 1, 1, 0, 0], dtype=int32)"
      ]
     },
     "execution_count": 70,
     "metadata": {},
     "output_type": "execute_result"
    }
   ],
   "source": [
    "clusters"
   ]
  },
  {
   "cell_type": "code",
   "execution_count": 71,
   "metadata": {},
   "outputs": [
    {
     "data": {
      "text/plain": [
       "array([1, 1, 3, 3, 3, 1, 2, 2, 0, 0], dtype=int32)"
      ]
     },
     "execution_count": 71,
     "metadata": {},
     "output_type": "execute_result"
    }
   ],
   "source": [
    "kmeans.labels_"
   ]
  },
  {
   "cell_type": "code",
   "execution_count": 72,
   "metadata": {},
   "outputs": [
    {
     "data": {
      "text/plain": [
       "array([1, 1, 3, 3, 3, 1, 2, 2, 0, 0], dtype=int32)"
      ]
     },
     "execution_count": 72,
     "metadata": {},
     "output_type": "execute_result"
    }
   ],
   "source": [
    "kmeans.fit_predict(songs_df_minmax)"
   ]
  },
  {
   "cell_type": "code",
   "execution_count": 73,
   "metadata": {},
   "outputs": [],
   "source": [
    "# Attach the cluster output to our original DataFrame\n",
    "songs_df_minmax['cluster'] = clusters"
   ]
  },
  {
   "cell_type": "code",
   "execution_count": 74,
   "metadata": {},
   "outputs": [
    {
     "data": {
      "text/html": [
       "<div>\n",
       "<style scoped>\n",
       "    .dataframe tbody tr th:only-of-type {\n",
       "        vertical-align: middle;\n",
       "    }\n",
       "\n",
       "    .dataframe tbody tr th {\n",
       "        vertical-align: top;\n",
       "    }\n",
       "\n",
       "    .dataframe thead th {\n",
       "        text-align: right;\n",
       "    }\n",
       "</style>\n",
       "<table border=\"1\" class=\"dataframe\">\n",
       "  <thead>\n",
       "    <tr style=\"text-align: right;\">\n",
       "      <th></th>\n",
       "      <th>cluster</th>\n",
       "    </tr>\n",
       "    <tr>\n",
       "      <th>song_name</th>\n",
       "      <th></th>\n",
       "    </tr>\n",
       "  </thead>\n",
       "  <tbody>\n",
       "    <tr>\n",
       "      <th>Wiegenlied, Op. 49, No. 4 (Arr. for Cello and Piano) [Brahms Lullaby]</th>\n",
       "      <td>0</td>\n",
       "    </tr>\n",
       "    <tr>\n",
       "      <th>Nocturne en mi bémol majeur opus 9 n°2: Ballade en Sol Mineur No.1</th>\n",
       "      <td>0</td>\n",
       "    </tr>\n",
       "    <tr>\n",
       "      <th>Space Raiders - Charlotte de Witte Remix</th>\n",
       "      <td>1</td>\n",
       "    </tr>\n",
       "    <tr>\n",
       "      <th>In Silence</th>\n",
       "      <td>1</td>\n",
       "    </tr>\n",
       "    <tr>\n",
       "      <th>My Band</th>\n",
       "      <td>2</td>\n",
       "    </tr>\n",
       "    <tr>\n",
       "      <th>The Real Slim Shady</th>\n",
       "      <td>2</td>\n",
       "    </tr>\n",
       "    <tr>\n",
       "      <th>Paint It, Black</th>\n",
       "      <td>2</td>\n",
       "    </tr>\n",
       "    <tr>\n",
       "      <th>Sultans Of Swing</th>\n",
       "      <td>2</td>\n",
       "    </tr>\n",
       "    <tr>\n",
       "      <th>Águas De Março</th>\n",
       "      <td>3</td>\n",
       "    </tr>\n",
       "    <tr>\n",
       "      <th>The Girl From Ipanema</th>\n",
       "      <td>3</td>\n",
       "    </tr>\n",
       "  </tbody>\n",
       "</table>\n",
       "</div>"
      ],
      "text/plain": [
       "                                                    cluster\n",
       "song_name                                                  \n",
       "Wiegenlied, Op. 49, No. 4 (Arr. for Cello and P...        0\n",
       "Nocturne en mi bémol majeur opus 9 n°2: Ballade...        0\n",
       "Space Raiders - Charlotte de Witte Remix                  1\n",
       "In Silence                                                1\n",
       "My Band                                                   2\n",
       "The Real Slim Shady                                       2\n",
       "Paint It, Black                                           2\n",
       "Sultans Of Swing                                          2\n",
       "Águas De Março                                            3\n",
       "The Girl From Ipanema                                     3"
      ]
     },
     "execution_count": 74,
     "metadata": {},
     "output_type": "execute_result"
    }
   ],
   "source": [
    "songs_df_minmax[['cluster']].sort_values('cluster')"
   ]
  },
  {
   "cell_type": "code",
   "execution_count": 75,
   "metadata": {},
   "outputs": [
    {
     "data": {
      "text/html": [
       "<div>\n",
       "<style scoped>\n",
       "    .dataframe tbody tr th:only-of-type {\n",
       "        vertical-align: middle;\n",
       "    }\n",
       "\n",
       "    .dataframe tbody tr th {\n",
       "        vertical-align: top;\n",
       "    }\n",
       "\n",
       "    .dataframe thead th {\n",
       "        text-align: right;\n",
       "    }\n",
       "</style>\n",
       "<table border=\"1\" class=\"dataframe\">\n",
       "  <thead>\n",
       "    <tr style=\"text-align: right;\">\n",
       "      <th></th>\n",
       "      <th>danceability</th>\n",
       "      <th>energy</th>\n",
       "      <th>key</th>\n",
       "      <th>loudness</th>\n",
       "      <th>mode</th>\n",
       "      <th>speechiness</th>\n",
       "      <th>acousticness</th>\n",
       "      <th>instrumentalness</th>\n",
       "      <th>liveness</th>\n",
       "      <th>valence</th>\n",
       "      <th>tempo</th>\n",
       "      <th>duration_ms</th>\n",
       "      <th>time_signature</th>\n",
       "    </tr>\n",
       "    <tr>\n",
       "      <th>cluster</th>\n",
       "      <th></th>\n",
       "      <th></th>\n",
       "      <th></th>\n",
       "      <th></th>\n",
       "      <th></th>\n",
       "      <th></th>\n",
       "      <th></th>\n",
       "      <th></th>\n",
       "      <th></th>\n",
       "      <th></th>\n",
       "      <th></th>\n",
       "      <th></th>\n",
       "      <th></th>\n",
       "    </tr>\n",
       "  </thead>\n",
       "  <tbody>\n",
       "    <tr>\n",
       "      <th>0</th>\n",
       "      <td>0.132680</td>\n",
       "      <td>0.021869</td>\n",
       "      <td>0.285714</td>\n",
       "      <td>0.146165</td>\n",
       "      <td>1.0</td>\n",
       "      <td>0.123056</td>\n",
       "      <td>0.999493</td>\n",
       "      <td>0.826396</td>\n",
       "      <td>0.177036</td>\n",
       "      <td>0.093205</td>\n",
       "      <td>0.000242</td>\n",
       "      <td>0.241133</td>\n",
       "      <td>0.5</td>\n",
       "    </tr>\n",
       "    <tr>\n",
       "      <th>1</th>\n",
       "      <td>0.730065</td>\n",
       "      <td>0.927439</td>\n",
       "      <td>0.214286</td>\n",
       "      <td>0.732470</td>\n",
       "      <td>1.0</td>\n",
       "      <td>0.385636</td>\n",
       "      <td>0.001186</td>\n",
       "      <td>0.968237</td>\n",
       "      <td>0.185520</td>\n",
       "      <td>0.079316</td>\n",
       "      <td>0.704847</td>\n",
       "      <td>0.931625</td>\n",
       "      <td>1.0</td>\n",
       "    </tr>\n",
       "    <tr>\n",
       "      <th>2</th>\n",
       "      <td>0.738889</td>\n",
       "      <td>0.911678</td>\n",
       "      <td>0.285714</td>\n",
       "      <td>0.888903</td>\n",
       "      <td>0.5</td>\n",
       "      <td>0.321363</td>\n",
       "      <td>0.158417</td>\n",
       "      <td>0.010718</td>\n",
       "      <td>0.501131</td>\n",
       "      <td>0.834424</td>\n",
       "      <td>0.734094</td>\n",
       "      <td>0.527989</td>\n",
       "      <td>1.0</td>\n",
       "    </tr>\n",
       "    <tr>\n",
       "      <th>3</th>\n",
       "      <td>0.598039</td>\n",
       "      <td>0.274983</td>\n",
       "      <td>0.642857</td>\n",
       "      <td>0.576245</td>\n",
       "      <td>1.0</td>\n",
       "      <td>0.537969</td>\n",
       "      <td>0.868776</td>\n",
       "      <td>0.000909</td>\n",
       "      <td>0.168552</td>\n",
       "      <td>0.435836</td>\n",
       "      <td>0.770332</td>\n",
       "      <td>0.472436</td>\n",
       "      <td>1.0</td>\n",
       "    </tr>\n",
       "  </tbody>\n",
       "</table>\n",
       "</div>"
      ],
      "text/plain": [
       "         danceability    energy       key  loudness  mode  speechiness  \\\n",
       "cluster                                                                  \n",
       "0            0.132680  0.021869  0.285714  0.146165   1.0     0.123056   \n",
       "1            0.730065  0.927439  0.214286  0.732470   1.0     0.385636   \n",
       "2            0.738889  0.911678  0.285714  0.888903   0.5     0.321363   \n",
       "3            0.598039  0.274983  0.642857  0.576245   1.0     0.537969   \n",
       "\n",
       "         acousticness  instrumentalness  liveness   valence     tempo  \\\n",
       "cluster                                                                 \n",
       "0            0.999493          0.826396  0.177036  0.093205  0.000242   \n",
       "1            0.001186          0.968237  0.185520  0.079316  0.704847   \n",
       "2            0.158417          0.010718  0.501131  0.834424  0.734094   \n",
       "3            0.868776          0.000909  0.168552  0.435836  0.770332   \n",
       "\n",
       "         duration_ms  time_signature  \n",
       "cluster                               \n",
       "0           0.241133             0.5  \n",
       "1           0.931625             1.0  \n",
       "2           0.527989             1.0  \n",
       "3           0.472436             1.0  "
      ]
     },
     "execution_count": 75,
     "metadata": {},
     "output_type": "execute_result"
    }
   ],
   "source": [
    "songs_df_minmax.groupby(by='cluster').mean()"
   ]
  },
  {
   "cell_type": "code",
   "execution_count": 76,
   "metadata": {},
   "outputs": [],
   "source": [
    "# Calculate the euclidean distance between the centroids\n",
    "centroid_distances = pairwise_distances(centroids)"
   ]
  },
  {
   "cell_type": "code",
   "execution_count": 77,
   "metadata": {},
   "outputs": [
    {
     "data": {
      "image/png": "[encoded data removed]",
      "text/plain": [
       "<Figure size 576x288 with 2 Axes>"
      ]
     },
     "metadata": {
      "needs_background": "light"
     },
     "output_type": "display_data"
    }
   ],
   "source": [
    "# Plot distances on heatmap\n",
    "plt.subplots(figsize=(8, 4));\n",
    "sns.heatmap(centroid_distances,\n",
    "           annot = True,\n",
    "           linewidths = .2);"
   ]
  },
  {
   "cell_type": "code",
   "execution_count": null,
   "metadata": {},
   "outputs": [],
   "source": []
  },
  {
   "cell_type": "code",
   "execution_count": 78,
   "metadata": {},
   "outputs": [
    {
     "data": {
      "text/html": [
       "<div>\n",
       "<style scoped>\n",
       "    .dataframe tbody tr th:only-of-type {\n",
       "        vertical-align: middle;\n",
       "    }\n",
       "\n",
       "    .dataframe tbody tr th {\n",
       "        vertical-align: top;\n",
       "    }\n",
       "\n",
       "    .dataframe thead th {\n",
       "        text-align: right;\n",
       "    }\n",
       "</style>\n",
       "<table border=\"1\" class=\"dataframe\">\n",
       "  <thead>\n",
       "    <tr style=\"text-align: right;\">\n",
       "      <th></th>\n",
       "      <th>danceability</th>\n",
       "      <th>energy</th>\n",
       "      <th>key</th>\n",
       "      <th>loudness</th>\n",
       "      <th>mode</th>\n",
       "      <th>speechiness</th>\n",
       "      <th>acousticness</th>\n",
       "      <th>instrumentalness</th>\n",
       "      <th>liveness</th>\n",
       "      <th>valence</th>\n",
       "      <th>tempo</th>\n",
       "      <th>duration_ms</th>\n",
       "      <th>time_signature</th>\n",
       "    </tr>\n",
       "    <tr>\n",
       "      <th>song_name</th>\n",
       "      <th></th>\n",
       "      <th></th>\n",
       "      <th></th>\n",
       "      <th></th>\n",
       "      <th></th>\n",
       "      <th></th>\n",
       "      <th></th>\n",
       "      <th></th>\n",
       "      <th></th>\n",
       "      <th></th>\n",
       "      <th></th>\n",
       "      <th></th>\n",
       "      <th></th>\n",
       "    </tr>\n",
       "  </thead>\n",
       "  <tbody>\n",
       "    <tr>\n",
       "      <th>My Band</th>\n",
       "      <td>0.851</td>\n",
       "      <td>0.849</td>\n",
       "      <td>1</td>\n",
       "      <td>-3.383</td>\n",
       "      <td>0</td>\n",
       "      <td>0.0828</td>\n",
       "      <td>0.497</td>\n",
       "      <td>0.000002</td>\n",
       "      <td>0.116</td>\n",
       "      <td>0.844</td>\n",
       "      <td>120.014</td>\n",
       "      <td>298773</td>\n",
       "      <td>4</td>\n",
       "    </tr>\n",
       "  </tbody>\n",
       "</table>\n",
       "</div>"
      ],
      "text/plain": [
       "           danceability  energy  key  loudness  mode  speechiness  \\\n",
       "song_name                                                           \n",
       "My Band           0.851   0.849    1    -3.383     0       0.0828   \n",
       "\n",
       "           acousticness  instrumentalness  liveness  valence    tempo  \\\n",
       "song_name                                                               \n",
       "My Band           0.497          0.000002     0.116    0.844  120.014   \n",
       "\n",
       "           duration_ms  time_signature  \n",
       "song_name                               \n",
       "My Band         298773               4  "
      ]
     },
     "execution_count": 78,
     "metadata": {},
     "output_type": "execute_result"
    }
   ],
   "source": [
    "df_clean.head(1)"
   ]
  },
  {
   "cell_type": "code",
   "execution_count": 79,
   "metadata": {},
   "outputs": [
    {
     "data": {
      "application/vnd.plotly.v1+json": {
       "config": {
        "plotlyServerURL": "https://plot.ly"
       },
       "data": [
        {
         "fill": "toself",
         "name": "Cluster 0",
         "r": [
          0.13267973856209153,
          0.021869461263040194,
          0.2857142857142857,
          0.14616533864541836,
          1,
          0.12305580969807864,
          0.9994933425207224,
          0.826396495071194,
          0.1770361990950226,
          0.09320477502295682,
          0.00024177700957850323,
          0.24113310227410922,
          0.5
         ],
         "theta": [
          "danceability",
          "energy",
          "key",
          "loudness",
          " mode",
          "speechiness",
          "acousticness",
          "instrumentalness",
          "liveness",
          "valence",
          "tempo",
          "duration_ms",
          "time_signature"
         ],
         "type": "scatterpolar"
        },
        {
         "fill": "toself",
         "name": "Cluster 1",
         "r": [
          0.7300653594771243,
          0.9274388285534156,
          0.21428571428571427,
          0.7324701195219124,
          1,
          0.3856358645928636,
          0.001185578501509839,
          0.968236582694414,
          0.18552036199095023,
          0.07931588613406795,
          0.7048468574132947,
          0.9316247111759699,
          1
         ],
         "theta": [
          "danceability",
          "energy",
          "key",
          "loudness",
          " mode",
          "speechiness",
          "acousticness",
          "instrumentalness",
          "liveness",
          "valence",
          "tempo",
          "duration_ms",
          "time_signature"
         ],
         "type": "scatterpolar"
        },
        {
         "fill": "toself",
         "name": "Cluster 2",
         "r": [
          0.738888888888889,
          0.9116775904932969,
          0.2857142857142857,
          0.8889027224435592,
          0.5,
          0.321363220494053,
          0.1584165940457613,
          0.010717976451259586,
          0.501131221719457,
          0.8344237832874196,
          0.7340941592847516,
          0.5279885686489116,
          1
         ],
         "theta": [
          "danceability",
          "energy",
          "key",
          "loudness",
          " mode",
          "speechiness",
          "acousticness",
          "instrumentalness",
          "liveness",
          "valence",
          "tempo",
          "duration_ms",
          "time_signature"
         ],
         "type": "scatterpolar"
        },
        {
         "fill": "toself",
         "name": "Cluster 3",
         "r": [
          0.5980392156862746,
          0.2749830492345391,
          0.6428571428571428,
          0.5762450199203188,
          1,
          0.5379688929551691,
          0.8687757128670734,
          0.0009090909090909092,
          0.16855203619909498,
          0.43583562901744716,
          0.7703324176672122,
          0.4724355466374803,
          1
         ],
         "theta": [
          "danceability",
          "energy",
          "key",
          "loudness",
          " mode",
          "speechiness",
          "acousticness",
          "instrumentalness",
          "liveness",
          "valence",
          "tempo",
          "duration_ms",
          "time_signature"
         ],
         "type": "scatterpolar"
        }
       ],
       "layout": {
        "height": 600,
        "polar": {
         "radialaxis": {
          "range": [
           0,
           1
          ],
          "visible": true
         }
        },
        "showlegend": true,
        "template": {
         "data": {
          "bar": [
           {
            "error_x": {
             "color": "#2a3f5f"
            },
            "error_y": {
             "color": "#2a3f5f"
            },
            "marker": {
             "line": {
              "color": "#E5ECF6",
              "width": 0.5
             },
             "pattern": {
              "fillmode": "overlay",
              "size": 10,
              "solidity": 0.2
             }
            },
            "type": "bar"
           }
          ],
          "barpolar": [
           {
            "marker": {
             "line": {
              "color": "#E5ECF6",
              "width": 0.5
             },
             "pattern": {
              "fillmode": "overlay",
              "size": 10,
              "solidity": 0.2
             }
            },
            "type": "barpolar"
           }
          ],
          "carpet": [
           {
            "aaxis": {
             "endlinecolor": "#2a3f5f",
             "gridcolor": "white",
             "linecolor": "white",
             "minorgridcolor": "white",
             "startlinecolor": "#2a3f5f"
            },
            "baxis": {
             "endlinecolor": "#2a3f5f",
             "gridcolor": "white",
             "linecolor": "white",
             "minorgridcolor": "white",
             "startlinecolor": "#2a3f5f"
            },
            "type": "carpet"
           }
          ],
          "choropleth": [
           {
            "colorbar": {
             "outlinewidth": 0,
             "ticks": ""
            },
            "type": "choropleth"
           }
          ],
          "contour": [
           {
            "colorbar": {
             "outlinewidth": 0,
             "ticks": ""
            },
            "colorscale": [
             [
              0,
              "#0d0887"
             ],
             [
              0.1111111111111111,
              "#46039f"
             ],
             [
              0.2222222222222222,
              "#7201a8"
             ],
             [
              0.3333333333333333,
              "#9c179e"
             ],
             [
              0.4444444444444444,
              "#bd3786"
             ],
             [
              0.5555555555555556,
              "#d8576b"
             ],
             [
              0.6666666666666666,
              "#ed7953"
             ],
             [
              0.7777777777777778,
              "#fb9f3a"
             ],
             [
              0.8888888888888888,
              "#fdca26"
             ],
             [
              1,
              "#f0f921"
             ]
            ],
            "type": "contour"
           }
          ],
          "contourcarpet": [
           {
            "colorbar": {
             "outlinewidth": 0,
             "ticks": ""
            },
            "type": "contourcarpet"
           }
          ],
          "heatmap": [
           {
            "colorbar": {
             "outlinewidth": 0,
             "ticks": ""
            },
            "colorscale": [
             [
              0,
              "#0d0887"
             ],
             [
              0.1111111111111111,
              "#46039f"
             ],
             [
              0.2222222222222222,
              "#7201a8"
             ],
             [
              0.3333333333333333,
              "#9c179e"
             ],
             [
              0.4444444444444444,
              "#bd3786"
             ],
             [
              0.5555555555555556,
              "#d8576b"
             ],
             [
              0.6666666666666666,
              "#ed7953"
             ],
             [
              0.7777777777777778,
              "#fb9f3a"
             ],
             [
              0.8888888888888888,
              "#fdca26"
             ],
             [
              1,
              "#f0f921"
             ]
            ],
            "type": "heatmap"
           }
          ],
          "heatmapgl": [
           {
            "colorbar": {
             "outlinewidth": 0,
             "ticks": ""
            },
            "colorscale": [
             [
              0,
              "#0d0887"
             ],
             [
              0.1111111111111111,
              "#46039f"
             ],
             [
              0.2222222222222222,
              "#7201a8"
             ],
             [
              0.3333333333333333,
              "#9c179e"
             ],
             [
              0.4444444444444444,
              "#bd3786"
             ],
             [
              0.5555555555555556,
              "#d8576b"
             ],
             [
              0.6666666666666666,
              "#ed7953"
             ],
             [
              0.7777777777777778,
              "#fb9f3a"
             ],
             [
              0.8888888888888888,
              "#fdca26"
             ],
             [
              1,
              "#f0f921"
             ]
            ],
            "type": "heatmapgl"
           }
          ],
          "histogram": [
           {
            "marker": {
             "pattern": {
              "fillmode": "overlay",
              "size": 10,
              "solidity": 0.2
             }
            },
            "type": "histogram"
           }
          ],
          "histogram2d": [
           {
            "colorbar": {
             "outlinewidth": 0,
             "ticks": ""
            },
            "colorscale": [
             [
              0,
              "#0d0887"
             ],
             [
              0.1111111111111111,
              "#46039f"
             ],
             [
              0.2222222222222222,
              "#7201a8"
             ],
             [
              0.3333333333333333,
              "#9c179e"
             ],
             [
              0.4444444444444444,
              "#bd3786"
             ],
             [
              0.5555555555555556,
              "#d8576b"
             ],
             [
              0.6666666666666666,
              "#ed7953"
             ],
             [
              0.7777777777777778,
              "#fb9f3a"
             ],
             [
              0.8888888888888888,
              "#fdca26"
             ],
             [
              1,
              "#f0f921"
             ]
            ],
            "type": "histogram2d"
           }
          ],
          "histogram2dcontour": [
           {
            "colorbar": {
             "outlinewidth": 0,
             "ticks": ""
            },
            "colorscale": [
             [
              0,
              "#0d0887"
             ],
             [
              0.1111111111111111,
              "#46039f"
             ],
             [
              0.2222222222222222,
              "#7201a8"
             ],
             [
              0.3333333333333333,
              "#9c179e"
             ],
             [
              0.4444444444444444,
              "#bd3786"
             ],
             [
              0.5555555555555556,
              "#d8576b"
             ],
             [
              0.6666666666666666,
              "#ed7953"
             ],
             [
              0.7777777777777778,
              "#fb9f3a"
             ],
             [
              0.8888888888888888,
              "#fdca26"
             ],
             [
              1,
              "#f0f921"
             ]
            ],
            "type": "histogram2dcontour"
           }
          ],
          "mesh3d": [
           {
            "colorbar": {
             "outlinewidth": 0,
             "ticks": ""
            },
            "type": "mesh3d"
           }
          ],
          "parcoords": [
           {
            "line": {
             "colorbar": {
              "outlinewidth": 0,
              "ticks": ""
             }
            },
            "type": "parcoords"
           }
          ],
          "pie": [
           {
            "automargin": true,
            "type": "pie"
           }
          ],
          "scatter": [
           {
            "fillpattern": {
             "fillmode": "overlay",
             "size": 10,
             "solidity": 0.2
            },
            "type": "scatter"
           }
          ],
          "scatter3d": [
           {
            "line": {
             "colorbar": {
              "outlinewidth": 0,
              "ticks": ""
             }
            },
            "marker": {
             "colorbar": {
              "outlinewidth": 0,
              "ticks": ""
             }
            },
            "type": "scatter3d"
           }
          ],
          "scattercarpet": [
           {
            "marker": {
             "colorbar": {
              "outlinewidth": 0,
              "ticks": ""
             }
            },
            "type": "scattercarpet"
           }
          ],
          "scattergeo": [
           {
            "marker": {
             "colorbar": {
              "outlinewidth": 0,
              "ticks": ""
             }
            },
            "type": "scattergeo"
           }
          ],
          "scattergl": [
           {
            "marker": {
             "colorbar": {
              "outlinewidth": 0,
              "ticks": ""
             }
            },
            "type": "scattergl"
           }
          ],
          "scattermapbox": [
           {
            "marker": {
             "colorbar": {
              "outlinewidth": 0,
              "ticks": ""
             }
            },
            "type": "scattermapbox"
           }
          ],
          "scatterpolar": [
           {
            "marker": {
             "colorbar": {
              "outlinewidth": 0,
              "ticks": ""
             }
            },
            "type": "scatterpolar"
           }
          ],
          "scatterpolargl": [
           {
            "marker": {
             "colorbar": {
              "outlinewidth": 0,
              "ticks": ""
             }
            },
            "type": "scatterpolargl"
           }
          ],
          "scatterternary": [
           {
            "marker": {
             "colorbar": {
              "outlinewidth": 0,
              "ticks": ""
             }
            },
            "type": "scatterternary"
           }
          ],
          "surface": [
           {
            "colorbar": {
             "outlinewidth": 0,
             "ticks": ""
            },
            "colorscale": [
             [
              0,
              "#0d0887"
             ],
             [
              0.1111111111111111,
              "#46039f"
             ],
             [
              0.2222222222222222,
              "#7201a8"
             ],
             [
              0.3333333333333333,
              "#9c179e"
             ],
             [
              0.4444444444444444,
              "#bd3786"
             ],
             [
              0.5555555555555556,
              "#d8576b"
             ],
             [
              0.6666666666666666,
              "#ed7953"
             ],
             [
              0.7777777777777778,
              "#fb9f3a"
             ],
             [
              0.8888888888888888,
              "#fdca26"
             ],
             [
              1,
              "#f0f921"
             ]
            ],
            "type": "surface"
           }
          ],
          "table": [
           {
            "cells": {
             "fill": {
              "color": "#EBF0F8"
             },
             "line": {
              "color": "white"
             }
            },
            "header": {
             "fill": {
              "color": "#C8D4E3"
             },
             "line": {
              "color": "white"
             }
            },
            "type": "table"
           }
          ]
         },
         "layout": {
          "annotationdefaults": {
           "arrowcolor": "#2a3f5f",
           "arrowhead": 0,
           "arrowwidth": 1
          },
          "autotypenumbers": "strict",
          "coloraxis": {
           "colorbar": {
            "outlinewidth": 0,
            "ticks": ""
           }
          },
          "colorscale": {
           "diverging": [
            [
             0,
             "#8e0152"
            ],
            [
             0.1,
             "#c51b7d"
            ],
            [
             0.2,
             "#de77ae"
            ],
            [
             0.3,
             "#f1b6da"
            ],
            [
             0.4,
             "#fde0ef"
            ],
            [
             0.5,
             "#f7f7f7"
            ],
            [
             0.6,
             "#e6f5d0"
            ],
            [
             0.7,
             "#b8e186"
            ],
            [
             0.8,
             "#7fbc41"
            ],
            [
             0.9,
             "#4d9221"
            ],
            [
             1,
             "#276419"
            ]
           ],
           "sequential": [
            [
             0,
             "#0d0887"
            ],
            [
             0.1111111111111111,
             "#46039f"
            ],
            [
             0.2222222222222222,
             "#7201a8"
            ],
            [
             0.3333333333333333,
             "#9c179e"
            ],
            [
             0.4444444444444444,
             "#bd3786"
            ],
            [
             0.5555555555555556,
             "#d8576b"
            ],
            [
             0.6666666666666666,
             "#ed7953"
            ],
            [
             0.7777777777777778,
             "#fb9f3a"
            ],
            [
             0.8888888888888888,
             "#fdca26"
            ],
            [
             1,
             "#f0f921"
            ]
           ],
           "sequentialminus": [
            [
             0,
             "#0d0887"
            ],
            [
             0.1111111111111111,
             "#46039f"
            ],
            [
             0.2222222222222222,
             "#7201a8"
            ],
            [
             0.3333333333333333,
             "#9c179e"
            ],
            [
             0.4444444444444444,
             "#bd3786"
            ],
            [
             0.5555555555555556,
             "#d8576b"
            ],
            [
             0.6666666666666666,
             "#ed7953"
            ],
            [
             0.7777777777777778,
             "#fb9f3a"
            ],
            [
             0.8888888888888888,
             "#fdca26"
            ],
            [
             1,
             "#f0f921"
            ]
           ]
          },
          "colorway": [
           "#636efa",
           "#EF553B",
           "#00cc96",
           "#ab63fa",
           "#FFA15A",
           "#19d3f3",
           "#FF6692",
           "#B6E880",
           "#FF97FF",
           "#FECB52"
          ],
          "font": {
           "color": "#2a3f5f"
          },
          "geo": {
           "bgcolor": "white",
           "lakecolor": "white",
           "landcolor": "#E5ECF6",
           "showlakes": true,
           "showland": true,
           "subunitcolor": "white"
          },
          "hoverlabel": {
           "align": "left"
          },
          "hovermode": "closest",
          "mapbox": {
           "style": "light"
          },
          "paper_bgcolor": "white",
          "plot_bgcolor": "#E5ECF6",
          "polar": {
           "angularaxis": {
            "gridcolor": "white",
            "linecolor": "white",
            "ticks": ""
           },
           "bgcolor": "#E5ECF6",
           "radialaxis": {
            "gridcolor": "white",
            "linecolor": "white",
            "ticks": ""
           }
          },
          "scene": {
           "xaxis": {
            "backgroundcolor": "#E5ECF6",
            "gridcolor": "white",
            "gridwidth": 2,
            "linecolor": "white",
            "showbackground": true,
            "ticks": "",
            "zerolinecolor": "white"
           },
           "yaxis": {
            "backgroundcolor": "#E5ECF6",
            "gridcolor": "white",
            "gridwidth": 2,
            "linecolor": "white",
            "showbackground": true,
            "ticks": "",
            "zerolinecolor": "white"
           },
           "zaxis": {
            "backgroundcolor": "#E5ECF6",
            "gridcolor": "white",
            "gridwidth": 2,
            "linecolor": "white",
            "showbackground": true,
            "ticks": "",
            "zerolinecolor": "white"
           }
          },
          "shapedefaults": {
           "line": {
            "color": "#2a3f5f"
           }
          },
          "ternary": {
           "aaxis": {
            "gridcolor": "white",
            "linecolor": "white",
            "ticks": ""
           },
           "baxis": {
            "gridcolor": "white",
            "linecolor": "white",
            "ticks": ""
           },
           "bgcolor": "#E5ECF6",
           "caxis": {
            "gridcolor": "white",
            "linecolor": "white",
            "ticks": ""
           }
          },
          "title": {
           "x": 0.05
          },
          "xaxis": {
           "automargin": true,
           "gridcolor": "white",
           "linecolor": "white",
           "ticks": "",
           "title": {
            "standoff": 15
           },
           "zerolinecolor": "white",
           "zerolinewidth": 2
          },
          "yaxis": {
           "automargin": true,
           "gridcolor": "white",
           "linecolor": "white",
           "ticks": "",
           "title": {
            "standoff": 15
           },
           "zerolinecolor": "white",
           "zerolinewidth": 2
          }
         }
        },
        "title": {
         "text": "Radar chart of mean parameters by cluster"
        },
        "width": 800
       }
      },
      "text/html": [
       "<div>                            <div id=\"c16ebc28-6e2e-4869-a93c-aa3fa9154e1d\" class=\"plotly-graph-div\" style=\"height:600px; width:800px;\"></div>            <script type=\"text/javascript\">                require([\"plotly\"], function(Plotly) {                    window.PLOTLYENV=window.PLOTLYENV || {};                                    if (document.getElementById(\"c16ebc28-6e2e-4869-a93c-aa3fa9154e1d\")) {                    Plotly.newPlot(                        \"c16ebc28-6e2e-4869-a93c-aa3fa9154e1d\",                        [{\"fill\":\"toself\",\"name\":\"Cluster 0\",\"r\":[0.13267973856209153,0.021869461263040194,0.2857142857142857,0.14616533864541836,1.0,0.12305580969807864,0.9994933425207224,0.826396495071194,0.1770361990950226,0.09320477502295682,0.00024177700957850323,0.24113310227410922,0.5],\"theta\":[\"danceability\",\"energy\",\"key\",\"loudness\",\" mode\",\"speechiness\",\"acousticness\",\"instrumentalness\",\"liveness\",\"valence\",\"tempo\",\"duration_ms\",\"time_signature\"],\"type\":\"scatterpolar\"},{\"fill\":\"toself\",\"name\":\"Cluster 1\",\"r\":[0.7300653594771243,0.9274388285534156,0.21428571428571427,0.7324701195219124,1.0,0.3856358645928636,0.001185578501509839,0.968236582694414,0.18552036199095023,0.07931588613406795,0.7048468574132947,0.9316247111759699,1.0],\"theta\":[\"danceability\",\"energy\",\"key\",\"loudness\",\" mode\",\"speechiness\",\"acousticness\",\"instrumentalness\",\"liveness\",\"valence\",\"tempo\",\"duration_ms\",\"time_signature\"],\"type\":\"scatterpolar\"},{\"fill\":\"toself\",\"name\":\"Cluster 2\",\"r\":[0.738888888888889,0.9116775904932969,0.2857142857142857,0.8889027224435592,0.5,0.321363220494053,0.1584165940457613,0.010717976451259586,0.501131221719457,0.8344237832874196,0.7340941592847516,0.5279885686489116,1.0],\"theta\":[\"danceability\",\"energy\",\"key\",\"loudness\",\" mode\",\"speechiness\",\"acousticness\",\"instrumentalness\",\"liveness\",\"valence\",\"tempo\",\"duration_ms\",\"time_signature\"],\"type\":\"scatterpolar\"},{\"fill\":\"toself\",\"name\":\"Cluster 3\",\"r\":[0.5980392156862746,0.2749830492345391,0.6428571428571428,0.5762450199203188,1.0,0.5379688929551691,0.8687757128670734,0.0009090909090909092,0.16855203619909498,0.43583562901744716,0.7703324176672122,0.4724355466374803,1.0],\"theta\":[\"danceability\",\"energy\",\"key\",\"loudness\",\" mode\",\"speechiness\",\"acousticness\",\"instrumentalness\",\"liveness\",\"valence\",\"tempo\",\"duration_ms\",\"time_signature\"],\"type\":\"scatterpolar\"}],                        {\"template\":{\"data\":{\"histogram2dcontour\":[{\"type\":\"histogram2dcontour\",\"colorbar\":{\"outlinewidth\":0,\"ticks\":\"\"},\"colorscale\":[[0.0,\"#0d0887\"],[0.1111111111111111,\"#46039f\"],[0.2222222222222222,\"#7201a8\"],[0.3333333333333333,\"#9c179e\"],[0.4444444444444444,\"#bd3786\"],[0.5555555555555556,\"#d8576b\"],[0.6666666666666666,\"#ed7953\"],[0.7777777777777778,\"#fb9f3a\"],[0.8888888888888888,\"#fdca26\"],[1.0,\"#f0f921\"]]}],\"choropleth\":[{\"type\":\"choropleth\",\"colorbar\":{\"outlinewidth\":0,\"ticks\":\"\"}}],\"histogram2d\":[{\"type\":\"histogram2d\",\"colorbar\":{\"outlinewidth\":0,\"ticks\":\"\"},\"colorscale\":[[0.0,\"#0d0887\"],[0.1111111111111111,\"#46039f\"],[0.2222222222222222,\"#7201a8\"],[0.3333333333333333,\"#9c179e\"],[0.4444444444444444,\"#bd3786\"],[0.5555555555555556,\"#d8576b\"],[0.6666666666666666,\"#ed7953\"],[0.7777777777777778,\"#fb9f3a\"],[0.8888888888888888,\"#fdca26\"],[1.0,\"#f0f921\"]]}],\"heatmap\":[{\"type\":\"heatmap\",\"colorbar\":{\"outlinewidth\":0,\"ticks\":\"\"},\"colorscale\":[[0.0,\"#0d0887\"],[0.1111111111111111,\"#46039f\"],[0.2222222222222222,\"#7201a8\"],[0.3333333333333333,\"#9c179e\"],[0.4444444444444444,\"#bd3786\"],[0.5555555555555556,\"#d8576b\"],[0.6666666666666666,\"#ed7953\"],[0.7777777777777778,\"#fb9f3a\"],[0.8888888888888888,\"#fdca26\"],[1.0,\"#f0f921\"]]}],\"heatmapgl\":[{\"type\":\"heatmapgl\",\"colorbar\":{\"outlinewidth\":0,\"ticks\":\"\"},\"colorscale\":[[0.0,\"#0d0887\"],[0.1111111111111111,\"#46039f\"],[0.2222222222222222,\"#7201a8\"],[0.3333333333333333,\"#9c179e\"],[0.4444444444444444,\"#bd3786\"],[0.5555555555555556,\"#d8576b\"],[0.6666666666666666,\"#ed7953\"],[0.7777777777777778,\"#fb9f3a\"],[0.8888888888888888,\"#fdca26\"],[1.0,\"#f0f921\"]]}],\"contourcarpet\":[{\"type\":\"contourcarpet\",\"colorbar\":{\"outlinewidth\":0,\"ticks\":\"\"}}],\"contour\":[{\"type\":\"contour\",\"colorbar\":{\"outlinewidth\":0,\"ticks\":\"\"},\"colorscale\":[[0.0,\"#0d0887\"],[0.1111111111111111,\"#46039f\"],[0.2222222222222222,\"#7201a8\"],[0.3333333333333333,\"#9c179e\"],[0.4444444444444444,\"#bd3786\"],[0.5555555555555556,\"#d8576b\"],[0.6666666666666666,\"#ed7953\"],[0.7777777777777778,\"#fb9f3a\"],[0.8888888888888888,\"#fdca26\"],[1.0,\"#f0f921\"]]}],\"surface\":[{\"type\":\"surface\",\"colorbar\":{\"outlinewidth\":0,\"ticks\":\"\"},\"colorscale\":[[0.0,\"#0d0887\"],[0.1111111111111111,\"#46039f\"],[0.2222222222222222,\"#7201a8\"],[0.3333333333333333,\"#9c179e\"],[0.4444444444444444,\"#bd3786\"],[0.5555555555555556,\"#d8576b\"],[0.6666666666666666,\"#ed7953\"],[0.7777777777777778,\"#fb9f3a\"],[0.8888888888888888,\"#fdca26\"],[1.0,\"#f0f921\"]]}],\"mesh3d\":[{\"type\":\"mesh3d\",\"colorbar\":{\"outlinewidth\":0,\"ticks\":\"\"}}],\"scatter\":[{\"fillpattern\":{\"fillmode\":\"overlay\",\"size\":10,\"solidity\":0.2},\"type\":\"scatter\"}],\"parcoords\":[{\"type\":\"parcoords\",\"line\":{\"colorbar\":{\"outlinewidth\":0,\"ticks\":\"\"}}}],\"scatterpolargl\":[{\"type\":\"scatterpolargl\",\"marker\":{\"colorbar\":{\"outlinewidth\":0,\"ticks\":\"\"}}}],\"bar\":[{\"error_x\":{\"color\":\"#2a3f5f\"},\"error_y\":{\"color\":\"#2a3f5f\"},\"marker\":{\"line\":{\"color\":\"#E5ECF6\",\"width\":0.5},\"pattern\":{\"fillmode\":\"overlay\",\"size\":10,\"solidity\":0.2}},\"type\":\"bar\"}],\"scattergeo\":[{\"type\":\"scattergeo\",\"marker\":{\"colorbar\":{\"outlinewidth\":0,\"ticks\":\"\"}}}],\"scatterpolar\":[{\"type\":\"scatterpolar\",\"marker\":{\"colorbar\":{\"outlinewidth\":0,\"ticks\":\"\"}}}],\"histogram\":[{\"marker\":{\"pattern\":{\"fillmode\":\"overlay\",\"size\":10,\"solidity\":0.2}},\"type\":\"histogram\"}],\"scattergl\":[{\"type\":\"scattergl\",\"marker\":{\"colorbar\":{\"outlinewidth\":0,\"ticks\":\"\"}}}],\"scatter3d\":[{\"type\":\"scatter3d\",\"line\":{\"colorbar\":{\"outlinewidth\":0,\"ticks\":\"\"}},\"marker\":{\"colorbar\":{\"outlinewidth\":0,\"ticks\":\"\"}}}],\"scattermapbox\":[{\"type\":\"scattermapbox\",\"marker\":{\"colorbar\":{\"outlinewidth\":0,\"ticks\":\"\"}}}],\"scatterternary\":[{\"type\":\"scatterternary\",\"marker\":{\"colorbar\":{\"outlinewidth\":0,\"ticks\":\"\"}}}],\"scattercarpet\":[{\"type\":\"scattercarpet\",\"marker\":{\"colorbar\":{\"outlinewidth\":0,\"ticks\":\"\"}}}],\"carpet\":[{\"aaxis\":{\"endlinecolor\":\"#2a3f5f\",\"gridcolor\":\"white\",\"linecolor\":\"white\",\"minorgridcolor\":\"white\",\"startlinecolor\":\"#2a3f5f\"},\"baxis\":{\"endlinecolor\":\"#2a3f5f\",\"gridcolor\":\"white\",\"linecolor\":\"white\",\"minorgridcolor\":\"white\",\"startlinecolor\":\"#2a3f5f\"},\"type\":\"carpet\"}],\"table\":[{\"cells\":{\"fill\":{\"color\":\"#EBF0F8\"},\"line\":{\"color\":\"white\"}},\"header\":{\"fill\":{\"color\":\"#C8D4E3\"},\"line\":{\"color\":\"white\"}},\"type\":\"table\"}],\"barpolar\":[{\"marker\":{\"line\":{\"color\":\"#E5ECF6\",\"width\":0.5},\"pattern\":{\"fillmode\":\"overlay\",\"size\":10,\"solidity\":0.2}},\"type\":\"barpolar\"}],\"pie\":[{\"automargin\":true,\"type\":\"pie\"}]},\"layout\":{\"autotypenumbers\":\"strict\",\"colorway\":[\"#636efa\",\"#EF553B\",\"#00cc96\",\"#ab63fa\",\"#FFA15A\",\"#19d3f3\",\"#FF6692\",\"#B6E880\",\"#FF97FF\",\"#FECB52\"],\"font\":{\"color\":\"#2a3f5f\"},\"hovermode\":\"closest\",\"hoverlabel\":{\"align\":\"left\"},\"paper_bgcolor\":\"white\",\"plot_bgcolor\":\"#E5ECF6\",\"polar\":{\"bgcolor\":\"#E5ECF6\",\"angularaxis\":{\"gridcolor\":\"white\",\"linecolor\":\"white\",\"ticks\":\"\"},\"radialaxis\":{\"gridcolor\":\"white\",\"linecolor\":\"white\",\"ticks\":\"\"}},\"ternary\":{\"bgcolor\":\"#E5ECF6\",\"aaxis\":{\"gridcolor\":\"white\",\"linecolor\":\"white\",\"ticks\":\"\"},\"baxis\":{\"gridcolor\":\"white\",\"linecolor\":\"white\",\"ticks\":\"\"},\"caxis\":{\"gridcolor\":\"white\",\"linecolor\":\"white\",\"ticks\":\"\"}},\"coloraxis\":{\"colorbar\":{\"outlinewidth\":0,\"ticks\":\"\"}},\"colorscale\":{\"sequential\":[[0.0,\"#0d0887\"],[0.1111111111111111,\"#46039f\"],[0.2222222222222222,\"#7201a8\"],[0.3333333333333333,\"#9c179e\"],[0.4444444444444444,\"#bd3786\"],[0.5555555555555556,\"#d8576b\"],[0.6666666666666666,\"#ed7953\"],[0.7777777777777778,\"#fb9f3a\"],[0.8888888888888888,\"#fdca26\"],[1.0,\"#f0f921\"]],\"sequentialminus\":[[0.0,\"#0d0887\"],[0.1111111111111111,\"#46039f\"],[0.2222222222222222,\"#7201a8\"],[0.3333333333333333,\"#9c179e\"],[0.4444444444444444,\"#bd3786\"],[0.5555555555555556,\"#d8576b\"],[0.6666666666666666,\"#ed7953\"],[0.7777777777777778,\"#fb9f3a\"],[0.8888888888888888,\"#fdca26\"],[1.0,\"#f0f921\"]],\"diverging\":[[0,\"#8e0152\"],[0.1,\"#c51b7d\"],[0.2,\"#de77ae\"],[0.3,\"#f1b6da\"],[0.4,\"#fde0ef\"],[0.5,\"#f7f7f7\"],[0.6,\"#e6f5d0\"],[0.7,\"#b8e186\"],[0.8,\"#7fbc41\"],[0.9,\"#4d9221\"],[1,\"#276419\"]]},\"xaxis\":{\"gridcolor\":\"white\",\"linecolor\":\"white\",\"ticks\":\"\",\"title\":{\"standoff\":15},\"zerolinecolor\":\"white\",\"automargin\":true,\"zerolinewidth\":2},\"yaxis\":{\"gridcolor\":\"white\",\"linecolor\":\"white\",\"ticks\":\"\",\"title\":{\"standoff\":15},\"zerolinecolor\":\"white\",\"automargin\":true,\"zerolinewidth\":2},\"scene\":{\"xaxis\":{\"backgroundcolor\":\"#E5ECF6\",\"gridcolor\":\"white\",\"linecolor\":\"white\",\"showbackground\":true,\"ticks\":\"\",\"zerolinecolor\":\"white\",\"gridwidth\":2},\"yaxis\":{\"backgroundcolor\":\"#E5ECF6\",\"gridcolor\":\"white\",\"linecolor\":\"white\",\"showbackground\":true,\"ticks\":\"\",\"zerolinecolor\":\"white\",\"gridwidth\":2},\"zaxis\":{\"backgroundcolor\":\"#E5ECF6\",\"gridcolor\":\"white\",\"linecolor\":\"white\",\"showbackground\":true,\"ticks\":\"\",\"zerolinecolor\":\"white\",\"gridwidth\":2}},\"shapedefaults\":{\"line\":{\"color\":\"#2a3f5f\"}},\"annotationdefaults\":{\"arrowcolor\":\"#2a3f5f\",\"arrowhead\":0,\"arrowwidth\":1},\"geo\":{\"bgcolor\":\"white\",\"landcolor\":\"#E5ECF6\",\"subunitcolor\":\"white\",\"showland\":true,\"showlakes\":true,\"lakecolor\":\"white\"},\"title\":{\"x\":0.05},\"mapbox\":{\"style\":\"light\"}}},\"title\":{\"text\":\"Radar chart of mean parameters by cluster\"},\"polar\":{\"radialaxis\":{\"visible\":true,\"range\":[0,1]}},\"height\":600,\"width\":800,\"showlegend\":true},                        {\"responsive\": true}                    ).then(function(){\n",
       "                            \n",
       "var gd = document.getElementById('c16ebc28-6e2e-4869-a93c-aa3fa9154e1d');\n",
       "var x = new MutationObserver(function (mutations, observer) {{\n",
       "        var display = window.getComputedStyle(gd).display;\n",
       "        if (!display || display === 'none') {{\n",
       "            console.log([gd, 'removed!']);\n",
       "            Plotly.purge(gd);\n",
       "            observer.disconnect();\n",
       "        }}\n",
       "}});\n",
       "\n",
       "// Listen for the removal of the full notebook cells\n",
       "var notebookContainer = gd.closest('#notebook-container');\n",
       "if (notebookContainer) {{\n",
       "    x.observe(notebookContainer, {childList: true});\n",
       "}}\n",
       "\n",
       "// Listen for the clearing of the current output cell\n",
       "var outputEl = gd.closest('.output');\n",
       "if (outputEl) {{\n",
       "    x.observe(outputEl, {childList: true});\n",
       "}}\n",
       "\n",
       "                        })                };                });            </script>        </div>"
      ]
     },
     "metadata": {},
     "output_type": "display_data"
    }
   ],
   "source": [
    "# State the label for each arm of the chart\n",
    "categories = ['danceability', 'energy', 'key', 'loudness',\n",
    "       ' mode', 'speechiness', 'acousticness', 'instrumentalness', 'liveness', 'valence', 'tempo', 'duration_ms', 'time_signature']\n",
    "\n",
    "# Create an empty list to store the objects\n",
    "trace_objects = []\n",
    "\n",
    "# Iterate over the unique cluster numbers and add an object for each cluster to the list\n",
    "for cluster in sorted(songs_df_minmax['cluster'].unique()):\n",
    "  cluster_parameter_means = go.Scatterpolar(\n",
    "    r=[songs_df_minmax.loc[songs_df_minmax[\"cluster\"] == cluster, 'danceability'].mean(),\n",
    "      songs_df_minmax.loc[songs_df_minmax[\"cluster\"] == cluster, 'energy'].mean(),\n",
    "      songs_df_minmax.loc[songs_df_minmax[\"cluster\"] == cluster, 'key'].mean(),\n",
    "      songs_df_minmax.loc[songs_df_minmax[\"cluster\"] == cluster, 'loudness'].mean(),\n",
    "      songs_df_minmax.loc[songs_df_minmax[\"cluster\"] == cluster, 'mode'].mean(),\n",
    "      songs_df_minmax.loc[songs_df_minmax[\"cluster\"] == cluster, 'speechiness'].mean(),\n",
    "      songs_df_minmax.loc[songs_df_minmax[\"cluster\"] == cluster, 'acousticness'].mean(),\n",
    "      songs_df_minmax.loc[songs_df_minmax[\"cluster\"] == cluster, 'instrumentalness'].mean(),\n",
    "      songs_df_minmax.loc[songs_df_minmax[\"cluster\"] == cluster, 'liveness'].mean(),\n",
    "      songs_df_minmax.loc[songs_df_minmax[\"cluster\"] == cluster, 'valence'].mean(),\n",
    "      songs_df_minmax.loc[songs_df_minmax[\"cluster\"] == cluster, 'tempo'].mean(),\n",
    "      songs_df_minmax.loc[songs_df_minmax[\"cluster\"] == cluster, 'duration_ms'].mean(),\n",
    "      songs_df_minmax.loc[songs_df_minmax[\"cluster\"] == cluster, 'time_signature'].mean()],\n",
    "    theta=categories,\n",
    "    fill='toself',\n",
    "    name=f'Cluster {cluster}'\n",
    "  )\n",
    "  trace_objects.append(cluster_parameter_means)\n",
    "\n",
    "# Add the objects to the figure\n",
    "fig = go.Figure()\n",
    "fig.add_traces(trace_objects)\n",
    "\n",
    "# Add extras to the plot such as title\n",
    "# You'll always need `polar=dict(radialaxis=dict(visible=True,range=[0, 1]))` when creating a radar plot\n",
    "fig.update_layout(\n",
    "  title_text = 'Radar chart of mean parameters by cluster',\n",
    "  height = 600,\n",
    "  width = 800,\n",
    "  polar=dict(\n",
    "    radialaxis=dict(\n",
    "      visible=True,\n",
    "      range=[0, 1]\n",
    "    )),\n",
    "  showlegend=True\n",
    ")\n",
    "\n",
    "# Show the initialised plot and the layers\n",
    "fig.show()"
   ]
  },
  {
   "cell_type": "code",
   "execution_count": null,
   "metadata": {},
   "outputs": [],
   "source": []
  },
  {
   "cell_type": "code",
   "execution_count": null,
   "metadata": {},
   "outputs": [],
   "source": []
  },
  {
   "cell_type": "code",
   "execution_count": null,
   "metadata": {},
   "outputs": [],
   "source": [
    "\n",
    "\n"
   ]
  },
  {
   "cell_type": "code",
   "execution_count": null,
   "metadata": {},
   "outputs": [],
   "source": []
  },
  {
   "cell_type": "code",
   "execution_count": null,
   "metadata": {},
   "outputs": [],
   "source": []
  },
  {
   "cell_type": "code",
   "execution_count": null,
   "metadata": {},
   "outputs": [],
   "source": []
  },
  {
   "cell_type": "code",
   "execution_count": null,
   "metadata": {},
   "outputs": [],
   "source": []
  },
  {
   "cell_type": "code",
   "execution_count": null,
   "metadata": {},
   "outputs": [],
   "source": []
  },
  {
   "cell_type": "code",
   "execution_count": null,
   "metadata": {},
   "outputs": [],
   "source": []
  },
  {
   "cell_type": "code",
   "execution_count": null,
   "metadata": {},
   "outputs": [],
   "source": []
  },
  {
   "cell_type": "code",
   "execution_count": null,
   "metadata": {},
   "outputs": [],
   "source": []
  }
 ],
 "metadata": {
  "kernelspec": {
   "display_name": "Python 3",
   "language": "python",
   "name": "python3"
  },
  "language_info": {
   "codemirror_mode": {
    "name": "ipython",
    "version": 3
   },
   "file_extension": ".py",
   "mimetype": "text/x-python",
   "name": "python",
   "nbconvert_exporter": "python",
   "pygments_lexer": "ipython3",
   "version": "3.8.10"
  }
 },
 "nbformat": 4,
 "nbformat_minor": 4
}
