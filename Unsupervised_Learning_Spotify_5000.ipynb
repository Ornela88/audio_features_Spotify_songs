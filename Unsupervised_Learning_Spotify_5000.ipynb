{
 "cells": [
  {
   "cell_type": "code",
   "execution_count": 8,
   "metadata": {},
   "outputs": [],
   "source": [
    "#!pip install pandas"
   ]
  },
  {
   "cell_type": "code",
   "execution_count": 67,
   "metadata": {},
   "outputs": [],
   "source": [
    "import pandas as pd\n",
    "from sklearn.metrics import pairwise_distances\n",
    "import matplotlib.pyplot as plt\n",
    "import seaborn as sns\n",
    "import numpy as np"
   ]
  },
  {
   "cell_type": "code",
   "execution_count": 68,
   "metadata": {},
   "outputs": [],
   "source": [
    "# Generating our dataframe\n",
    "df = pd.read_csv('/home/ornela/audio_feature_songs/audio_features_10_songs/df_audio_features_5000.csv')\n",
    "df = df.drop(columns= 'Unnamed: 0')"
   ]
  },
  {
   "cell_type": "code",
   "execution_count": 69,
   "metadata": {
    "scrolled": true
   },
   "outputs": [
    {
     "name": "stdout",
     "output_type": "stream",
     "text": [
      "Index(['name                                                                                                                                                                             ',\n",
      "       'artist                                          ', 'danceability ',\n",
      "       'energy   ', 'key ', 'loudness ', 'mode ', 'speechiness ',\n",
      "       'acousticness ', 'instrumentalness ', 'liveness ', 'valence ',\n",
      "       'tempo   ', 'type ', 'duration_ms ', 'time_signature ',\n",
      "       'id                     ', 'html'],\n",
      "      dtype='object')\n"
     ]
    }
   ],
   "source": [
    "df.head(2)\n",
    "print(df.columns)"
   ]
  },
  {
   "cell_type": "markdown",
   "metadata": {},
   "source": []
  },
  {
   "cell_type": "code",
   "execution_count": 70,
   "metadata": {},
   "outputs": [
    {
     "name": "stdout",
     "output_type": "stream",
     "text": [
      "<class 'pandas.core.frame.DataFrame'>\n",
      "RangeIndex: 5235 entries, 0 to 5234\n",
      "Data columns (total 11 columns):\n",
      " #   Column            Non-Null Count  Dtype  \n",
      "---  ------            --------------  -----  \n",
      " 0   name              5235 non-null   object \n",
      " 1   artist            5235 non-null   object \n",
      " 2   danceability      5235 non-null   float64\n",
      " 3   energy            5235 non-null   float64\n",
      " 4   mode              5235 non-null   int64  \n",
      " 5   acousticness      5235 non-null   float64\n",
      " 6   instrumentalness  5235 non-null   float64\n",
      " 7   liveness          5235 non-null   float64\n",
      " 8   valence           5235 non-null   float64\n",
      " 9   tempo             5235 non-null   float64\n",
      " 10  type              5235 non-null   object \n",
      "dtypes: float64(7), int64(1), object(3)\n",
      "memory usage: 450.0+ KB\n"
     ]
    }
   ],
   "source": [
    "# Strip whitespace from column names\n",
    "#df.columns = [col.strip() for col in df.columns]\n",
    "df = df.rename(columns=lambda x: x.strip())\n",
    "# Now print the cleaned column names to verify\n",
    "#print(df.columns)\n",
    "# Define the columns you want to drop\n",
    "to_drop = ['key', 'loudness', 'duration_ms','speechiness','time_signature', 'id', 'html']\n",
    "\n",
    "# Drop the columns from the DataFrame\n",
    "df_songs = df.drop(columns=to_drop)\n",
    "\n",
    "# df_songs will now have the specified columns removed\n",
    "df_songs.info()"
   ]
  },
  {
   "cell_type": "code",
   "execution_count": 71,
   "metadata": {},
   "outputs": [
    {
     "data": {
      "text/html": [
       "<div>\n",
       "<style scoped>\n",
       "    .dataframe tbody tr th:only-of-type {\n",
       "        vertical-align: middle;\n",
       "    }\n",
       "\n",
       "    .dataframe tbody tr th {\n",
       "        vertical-align: top;\n",
       "    }\n",
       "\n",
       "    .dataframe thead th {\n",
       "        text-align: right;\n",
       "    }\n",
       "</style>\n",
       "<table border=\"1\" class=\"dataframe\">\n",
       "  <thead>\n",
       "    <tr style=\"text-align: right;\">\n",
       "      <th></th>\n",
       "      <th>danceability</th>\n",
       "      <th>energy</th>\n",
       "      <th>mode</th>\n",
       "      <th>acousticness</th>\n",
       "      <th>instrumentalness</th>\n",
       "      <th>liveness</th>\n",
       "      <th>valence</th>\n",
       "      <th>tempo</th>\n",
       "    </tr>\n",
       "  </thead>\n",
       "  <tbody>\n",
       "    <tr>\n",
       "      <th>count</th>\n",
       "      <td>5235.000000</td>\n",
       "      <td>5235.000000</td>\n",
       "      <td>5235.000000</td>\n",
       "      <td>5235.000000</td>\n",
       "      <td>5235.000000</td>\n",
       "      <td>5235.000000</td>\n",
       "      <td>5235.000000</td>\n",
       "      <td>5235.000000</td>\n",
       "    </tr>\n",
       "    <tr>\n",
       "      <th>mean</th>\n",
       "      <td>0.509503</td>\n",
       "      <td>0.653565</td>\n",
       "      <td>0.646227</td>\n",
       "      <td>0.290043</td>\n",
       "      <td>0.257337</td>\n",
       "      <td>0.185354</td>\n",
       "      <td>0.443596</td>\n",
       "      <td>118.721407</td>\n",
       "    </tr>\n",
       "    <tr>\n",
       "      <th>std</th>\n",
       "      <td>0.218041</td>\n",
       "      <td>0.288335</td>\n",
       "      <td>0.478185</td>\n",
       "      <td>0.355985</td>\n",
       "      <td>0.370686</td>\n",
       "      <td>0.149410</td>\n",
       "      <td>0.277725</td>\n",
       "      <td>28.568463</td>\n",
       "    </tr>\n",
       "    <tr>\n",
       "      <th>min</th>\n",
       "      <td>0.000000</td>\n",
       "      <td>0.000000</td>\n",
       "      <td>0.000000</td>\n",
       "      <td>0.000000</td>\n",
       "      <td>0.000000</td>\n",
       "      <td>0.000000</td>\n",
       "      <td>0.000000</td>\n",
       "      <td>0.000000</td>\n",
       "    </tr>\n",
       "    <tr>\n",
       "      <th>25%</th>\n",
       "      <td>0.309000</td>\n",
       "      <td>0.479000</td>\n",
       "      <td>0.000000</td>\n",
       "      <td>0.002450</td>\n",
       "      <td>0.000001</td>\n",
       "      <td>0.092500</td>\n",
       "      <td>0.196000</td>\n",
       "      <td>96.174000</td>\n",
       "    </tr>\n",
       "    <tr>\n",
       "      <th>50%</th>\n",
       "      <td>0.539000</td>\n",
       "      <td>0.738000</td>\n",
       "      <td>1.000000</td>\n",
       "      <td>0.095400</td>\n",
       "      <td>0.001880</td>\n",
       "      <td>0.125000</td>\n",
       "      <td>0.417000</td>\n",
       "      <td>119.180000</td>\n",
       "    </tr>\n",
       "    <tr>\n",
       "      <th>75%</th>\n",
       "      <td>0.688000</td>\n",
       "      <td>0.893000</td>\n",
       "      <td>1.000000</td>\n",
       "      <td>0.565500</td>\n",
       "      <td>0.643000</td>\n",
       "      <td>0.237000</td>\n",
       "      <td>0.677000</td>\n",
       "      <td>134.019000</td>\n",
       "    </tr>\n",
       "    <tr>\n",
       "      <th>max</th>\n",
       "      <td>0.967000</td>\n",
       "      <td>1.000000</td>\n",
       "      <td>1.000000</td>\n",
       "      <td>0.996000</td>\n",
       "      <td>0.985000</td>\n",
       "      <td>0.987000</td>\n",
       "      <td>0.985000</td>\n",
       "      <td>213.990000</td>\n",
       "    </tr>\n",
       "  </tbody>\n",
       "</table>\n",
       "</div>"
      ],
      "text/plain": [
       "       danceability       energy         mode  acousticness  instrumentalness  \\\n",
       "count   5235.000000  5235.000000  5235.000000   5235.000000       5235.000000   \n",
       "mean       0.509503     0.653565     0.646227      0.290043          0.257337   \n",
       "std        0.218041     0.288335     0.478185      0.355985          0.370686   \n",
       "min        0.000000     0.000000     0.000000      0.000000          0.000000   \n",
       "25%        0.309000     0.479000     0.000000      0.002450          0.000001   \n",
       "50%        0.539000     0.738000     1.000000      0.095400          0.001880   \n",
       "75%        0.688000     0.893000     1.000000      0.565500          0.643000   \n",
       "max        0.967000     1.000000     1.000000      0.996000          0.985000   \n",
       "\n",
       "          liveness      valence        tempo  \n",
       "count  5235.000000  5235.000000  5235.000000  \n",
       "mean      0.185354     0.443596   118.721407  \n",
       "std       0.149410     0.277725    28.568463  \n",
       "min       0.000000     0.000000     0.000000  \n",
       "25%       0.092500     0.196000    96.174000  \n",
       "50%       0.125000     0.417000   119.180000  \n",
       "75%       0.237000     0.677000   134.019000  \n",
       "max       0.987000     0.985000   213.990000  "
      ]
     },
     "execution_count": 71,
     "metadata": {},
     "output_type": "execute_result"
    }
   ],
   "source": [
    "df_songs.head(2)\n",
    "df_songs.describe()"
   ]
  },
  {
   "cell_type": "code",
   "execution_count": 14,
   "metadata": {},
   "outputs": [],
   "source": [
    "import pandas as pd\n",
    "from sklearn.metrics import pairwise_distances\n",
    "\n",
    "# Select only the numeric columns for distance calculation\n",
    "numeric_cols = df_songs.select_dtypes(include=[np.number])\n",
    "\n",
    "# Now calculate the pairwise distances\n",
    "distances_array = pairwise_distances(numeric_cols, metric='euclidean')\n"
   ]
  },
  {
   "cell_type": "code",
   "execution_count": 15,
   "metadata": {},
   "outputs": [],
   "source": [
    "euclidean_distances_df_songs = pd.DataFrame(distances_array,\n",
    "                                           index = df_songs.index,\n",
    "                                           columns = df_songs.index)"
   ]
  },
  {
   "cell_type": "code",
   "execution_count": 16,
   "metadata": {},
   "outputs": [],
   "source": [
    "#euclidean_distances_df_songs"
   ]
  },
  {
   "cell_type": "code",
   "execution_count": 17,
   "metadata": {},
   "outputs": [],
   "source": [
    "#plt.subplots(figsize=(10, 6));\n",
    "#sns.heatmap(euclidean_distances_df_songs);"
   ]
  },
  {
   "cell_type": "markdown",
   "metadata": {},
   "source": [
    "Distance calculation with preprocessing and normalization! "
   ]
  },
  {
   "cell_type": "code",
   "execution_count": 72,
   "metadata": {},
   "outputs": [],
   "source": [
    "import pandas as pd\n",
    "from sklearn.metrics import pairwise_distances\n",
    "import matplotlib.pyplot as plt\n",
    "import seaborn as sns\n",
    "from sklearn.preprocessing import MinMaxScaler, StandardScaler, RobustScaler, QuantileTransformer, PowerTransformer"
   ]
  },
  {
   "cell_type": "markdown",
   "metadata": {},
   "source": [
    "# MinMax_Scalerization"
   ]
  },
  {
   "cell_type": "code",
   "execution_count": 73,
   "metadata": {},
   "outputs": [],
   "source": [
    "# Strip whitespace from column names\n",
    "#df.columns = [col.strip() for col in df.columns]\n",
    "df = df.rename(columns=lambda x: x.strip())\n",
    "# Now print the cleaned column names to verify\n",
    "#print(df.columns)\n",
    "\n",
    "# Define the columns you want to drop\n",
    "df_drop = ['key', 'loudness', 'duration_ms','speechiness','time_signature','type' 'id', 'html']\n",
    "\n",
    "# Drop the columns from the DataFrame\n",
    "df_clean = df.drop(columns=to_drop)\n",
    "\n",
    "df_clean = df_clean.set_index(['name', 'artist'])"
   ]
  },
  {
   "cell_type": "code",
   "execution_count": 74,
   "metadata": {},
   "outputs": [
    {
     "name": "stdout",
     "output_type": "stream",
     "text": [
      "<class 'pandas.core.frame.DataFrame'>\n",
      "MultiIndex: 5235 entries, ('Se Eu Quiser Falar Com Deus                                                                                                                                                      ', 'Gilberto Gil                                    ') to ('Ravel: Boléro, M. 81                                                                                                                                                           ', 'Maurice Ravel                                   ')\n",
      "Data columns (total 9 columns):\n",
      " #   Column            Non-Null Count  Dtype  \n",
      "---  ------            --------------  -----  \n",
      " 0   danceability      5235 non-null   float64\n",
      " 1   energy            5235 non-null   float64\n",
      " 2   mode              5235 non-null   int64  \n",
      " 3   acousticness      5235 non-null   float64\n",
      " 4   instrumentalness  5235 non-null   float64\n",
      " 5   liveness          5235 non-null   float64\n",
      " 6   valence           5235 non-null   float64\n",
      " 7   tempo             5235 non-null   float64\n",
      " 8   type              5235 non-null   object \n",
      "dtypes: float64(7), int64(1), object(1)\n",
      "memory usage: 638.4+ KB\n"
     ]
    }
   ],
   "source": [
    "df_clean.info()"
   ]
  },
  {
   "cell_type": "code",
   "execution_count": 75,
   "metadata": {},
   "outputs": [],
   "source": [
    "df_mm = df_clean.copy()"
   ]
  },
  {
   "cell_type": "code",
   "execution_count": 76,
   "metadata": {},
   "outputs": [
    {
     "data": {
      "text/html": [
       "<div>\n",
       "<style scoped>\n",
       "    .dataframe tbody tr th:only-of-type {\n",
       "        vertical-align: middle;\n",
       "    }\n",
       "\n",
       "    .dataframe tbody tr th {\n",
       "        vertical-align: top;\n",
       "    }\n",
       "\n",
       "    .dataframe thead th {\n",
       "        text-align: right;\n",
       "    }\n",
       "</style>\n",
       "<table border=\"1\" class=\"dataframe\">\n",
       "  <thead>\n",
       "    <tr style=\"text-align: right;\">\n",
       "      <th></th>\n",
       "      <th></th>\n",
       "      <th>danceability</th>\n",
       "      <th>energy</th>\n",
       "      <th>mode</th>\n",
       "      <th>acousticness</th>\n",
       "      <th>instrumentalness</th>\n",
       "      <th>liveness</th>\n",
       "      <th>valence</th>\n",
       "      <th>tempo</th>\n",
       "      <th>type</th>\n",
       "    </tr>\n",
       "    <tr>\n",
       "      <th>name</th>\n",
       "      <th>artist</th>\n",
       "      <th></th>\n",
       "      <th></th>\n",
       "      <th></th>\n",
       "      <th></th>\n",
       "      <th></th>\n",
       "      <th></th>\n",
       "      <th></th>\n",
       "      <th></th>\n",
       "      <th></th>\n",
       "    </tr>\n",
       "  </thead>\n",
       "  <tbody>\n",
       "    <tr>\n",
       "      <th>Se Eu Quiser Falar Com Deus</th>\n",
       "      <th>Gilberto Gil</th>\n",
       "      <td>0.658</td>\n",
       "      <td>0.2590</td>\n",
       "      <td>0</td>\n",
       "      <td>0.694</td>\n",
       "      <td>0.000059</td>\n",
       "      <td>0.975</td>\n",
       "      <td>0.306</td>\n",
       "      <td>110.376</td>\n",
       "      <td></td>\n",
       "    </tr>\n",
       "    <tr>\n",
       "      <th>Saudade De Bahia</th>\n",
       "      <th>Antônio Carlos Jobim</th>\n",
       "      <td>0.742</td>\n",
       "      <td>0.3990</td>\n",
       "      <td>1</td>\n",
       "      <td>0.217</td>\n",
       "      <td>0.000002</td>\n",
       "      <td>0.107</td>\n",
       "      <td>0.693</td>\n",
       "      <td>125.039</td>\n",
       "      <td></td>\n",
       "    </tr>\n",
       "    <tr>\n",
       "      <th>Canta Canta, Minha Gente</th>\n",
       "      <th>Martinho Da Vila</th>\n",
       "      <td>0.851</td>\n",
       "      <td>0.7300</td>\n",
       "      <td>1</td>\n",
       "      <td>0.453</td>\n",
       "      <td>0.000063</td>\n",
       "      <td>0.124</td>\n",
       "      <td>0.905</td>\n",
       "      <td>93.698</td>\n",
       "      <td></td>\n",
       "    </tr>\n",
       "    <tr>\n",
       "      <th>Mulher Eu Sei</th>\n",
       "      <th>Chico César</th>\n",
       "      <td>0.705</td>\n",
       "      <td>0.0502</td>\n",
       "      <td>1</td>\n",
       "      <td>0.879</td>\n",
       "      <td>0.000041</td>\n",
       "      <td>0.386</td>\n",
       "      <td>0.524</td>\n",
       "      <td>106.802</td>\n",
       "      <td></td>\n",
       "    </tr>\n",
       "    <tr>\n",
       "      <th>Rosa Morena</th>\n",
       "      <th>Kurt Elling</th>\n",
       "      <td>0.651</td>\n",
       "      <td>0.1190</td>\n",
       "      <td>1</td>\n",
       "      <td>0.916</td>\n",
       "      <td>0.000343</td>\n",
       "      <td>0.104</td>\n",
       "      <td>0.402</td>\n",
       "      <td>120.941</td>\n",
       "      <td></td>\n",
       "    </tr>\n",
       "  </tbody>\n",
       "</table>\n",
       "</div>"
      ],
      "text/plain": [
       "                                                                                                     danceability  \\\n",
       "name                                               artist                                                           \n",
       "Se Eu Quiser Falar Com Deus                    ... Gilberto Gil                                             0.658   \n",
       "Saudade De Bahia                               ... Antônio Carlos Jobim                                     0.742   \n",
       "Canta Canta, Minha Gente                       ... Martinho Da Vila                                         0.851   \n",
       "Mulher Eu Sei                                  ... Chico César                                              0.705   \n",
       "Rosa Morena                                    ... Kurt Elling                                              0.651   \n",
       "\n",
       "                                                                                                     energy  \\\n",
       "name                                               artist                                                     \n",
       "Se Eu Quiser Falar Com Deus                    ... Gilberto Gil                                      0.2590   \n",
       "Saudade De Bahia                               ... Antônio Carlos Jobim                              0.3990   \n",
       "Canta Canta, Minha Gente                       ... Martinho Da Vila                                  0.7300   \n",
       "Mulher Eu Sei                                  ... Chico César                                       0.0502   \n",
       "Rosa Morena                                    ... Kurt Elling                                       0.1190   \n",
       "\n",
       "                                                                                                     mode  \\\n",
       "name                                               artist                                                   \n",
       "Se Eu Quiser Falar Com Deus                    ... Gilberto Gil                                         0   \n",
       "Saudade De Bahia                               ... Antônio Carlos Jobim                                 1   \n",
       "Canta Canta, Minha Gente                       ... Martinho Da Vila                                     1   \n",
       "Mulher Eu Sei                                  ... Chico César                                          1   \n",
       "Rosa Morena                                    ... Kurt Elling                                          1   \n",
       "\n",
       "                                                                                                     acousticness  \\\n",
       "name                                               artist                                                           \n",
       "Se Eu Quiser Falar Com Deus                    ... Gilberto Gil                                             0.694   \n",
       "Saudade De Bahia                               ... Antônio Carlos Jobim                                     0.217   \n",
       "Canta Canta, Minha Gente                       ... Martinho Da Vila                                         0.453   \n",
       "Mulher Eu Sei                                  ... Chico César                                              0.879   \n",
       "Rosa Morena                                    ... Kurt Elling                                              0.916   \n",
       "\n",
       "                                                                                                     instrumentalness  \\\n",
       "name                                               artist                                                               \n",
       "Se Eu Quiser Falar Com Deus                    ... Gilberto Gil                                              0.000059   \n",
       "Saudade De Bahia                               ... Antônio Carlos Jobim                                      0.000002   \n",
       "Canta Canta, Minha Gente                       ... Martinho Da Vila                                          0.000063   \n",
       "Mulher Eu Sei                                  ... Chico César                                               0.000041   \n",
       "Rosa Morena                                    ... Kurt Elling                                               0.000343   \n",
       "\n",
       "                                                                                                     liveness  \\\n",
       "name                                               artist                                                       \n",
       "Se Eu Quiser Falar Com Deus                    ... Gilberto Gil                                         0.975   \n",
       "Saudade De Bahia                               ... Antônio Carlos Jobim                                 0.107   \n",
       "Canta Canta, Minha Gente                       ... Martinho Da Vila                                     0.124   \n",
       "Mulher Eu Sei                                  ... Chico César                                          0.386   \n",
       "Rosa Morena                                    ... Kurt Elling                                          0.104   \n",
       "\n",
       "                                                                                                     valence  \\\n",
       "name                                               artist                                                      \n",
       "Se Eu Quiser Falar Com Deus                    ... Gilberto Gil                                        0.306   \n",
       "Saudade De Bahia                               ... Antônio Carlos Jobim                                0.693   \n",
       "Canta Canta, Minha Gente                       ... Martinho Da Vila                                    0.905   \n",
       "Mulher Eu Sei                                  ... Chico César                                         0.524   \n",
       "Rosa Morena                                    ... Kurt Elling                                         0.402   \n",
       "\n",
       "                                                                                                       tempo  \\\n",
       "name                                               artist                                                      \n",
       "Se Eu Quiser Falar Com Deus                    ... Gilberto Gil                                      110.376   \n",
       "Saudade De Bahia                               ... Antônio Carlos Jobim                              125.039   \n",
       "Canta Canta, Minha Gente                       ... Martinho Da Vila                                   93.698   \n",
       "Mulher Eu Sei                                  ... Chico César                                       106.802   \n",
       "Rosa Morena                                    ... Kurt Elling                                       120.941   \n",
       "\n",
       "                                                                                                      type  \n",
       "name                                               artist                                                   \n",
       "Se Eu Quiser Falar Com Deus                    ... Gilberto Gil                                             \n",
       "Saudade De Bahia                               ... Antônio Carlos Jobim                                     \n",
       "Canta Canta, Minha Gente                       ... Martinho Da Vila                                         \n",
       "Mulher Eu Sei                                  ... Chico César                                              \n",
       "Rosa Morena                                    ... Kurt Elling                                              "
      ]
     },
     "execution_count": 76,
     "metadata": {},
     "output_type": "execute_result"
    }
   ],
   "source": [
    "df_mm.head()"
   ]
  },
  {
   "cell_type": "code",
   "execution_count": 77,
   "metadata": {},
   "outputs": [
    {
     "data": {
      "text/html": [
       "<div>\n",
       "<style scoped>\n",
       "    .dataframe tbody tr th:only-of-type {\n",
       "        vertical-align: middle;\n",
       "    }\n",
       "\n",
       "    .dataframe tbody tr th {\n",
       "        vertical-align: top;\n",
       "    }\n",
       "\n",
       "    .dataframe thead th {\n",
       "        text-align: right;\n",
       "    }\n",
       "</style>\n",
       "<table border=\"1\" class=\"dataframe\">\n",
       "  <thead>\n",
       "    <tr style=\"text-align: right;\">\n",
       "      <th></th>\n",
       "      <th>danceability</th>\n",
       "      <th>energy</th>\n",
       "      <th>mode</th>\n",
       "      <th>acousticness</th>\n",
       "      <th>instrumentalness</th>\n",
       "      <th>liveness</th>\n",
       "      <th>valence</th>\n",
       "      <th>tempo</th>\n",
       "    </tr>\n",
       "  </thead>\n",
       "  <tbody>\n",
       "    <tr>\n",
       "      <th>count</th>\n",
       "      <td>5235.000000</td>\n",
       "      <td>5235.000000</td>\n",
       "      <td>5235.000000</td>\n",
       "      <td>5235.000000</td>\n",
       "      <td>5235.000000</td>\n",
       "      <td>5235.000000</td>\n",
       "      <td>5235.000000</td>\n",
       "      <td>5235.000000</td>\n",
       "    </tr>\n",
       "    <tr>\n",
       "      <th>mean</th>\n",
       "      <td>0.509503</td>\n",
       "      <td>0.653565</td>\n",
       "      <td>0.646227</td>\n",
       "      <td>0.290043</td>\n",
       "      <td>0.257337</td>\n",
       "      <td>0.185354</td>\n",
       "      <td>0.443596</td>\n",
       "      <td>118.721407</td>\n",
       "    </tr>\n",
       "    <tr>\n",
       "      <th>std</th>\n",
       "      <td>0.218041</td>\n",
       "      <td>0.288335</td>\n",
       "      <td>0.478185</td>\n",
       "      <td>0.355985</td>\n",
       "      <td>0.370686</td>\n",
       "      <td>0.149410</td>\n",
       "      <td>0.277725</td>\n",
       "      <td>28.568463</td>\n",
       "    </tr>\n",
       "    <tr>\n",
       "      <th>min</th>\n",
       "      <td>0.000000</td>\n",
       "      <td>0.000000</td>\n",
       "      <td>0.000000</td>\n",
       "      <td>0.000000</td>\n",
       "      <td>0.000000</td>\n",
       "      <td>0.000000</td>\n",
       "      <td>0.000000</td>\n",
       "      <td>0.000000</td>\n",
       "    </tr>\n",
       "    <tr>\n",
       "      <th>25%</th>\n",
       "      <td>0.309000</td>\n",
       "      <td>0.479000</td>\n",
       "      <td>0.000000</td>\n",
       "      <td>0.002450</td>\n",
       "      <td>0.000001</td>\n",
       "      <td>0.092500</td>\n",
       "      <td>0.196000</td>\n",
       "      <td>96.174000</td>\n",
       "    </tr>\n",
       "    <tr>\n",
       "      <th>50%</th>\n",
       "      <td>0.539000</td>\n",
       "      <td>0.738000</td>\n",
       "      <td>1.000000</td>\n",
       "      <td>0.095400</td>\n",
       "      <td>0.001880</td>\n",
       "      <td>0.125000</td>\n",
       "      <td>0.417000</td>\n",
       "      <td>119.180000</td>\n",
       "    </tr>\n",
       "    <tr>\n",
       "      <th>75%</th>\n",
       "      <td>0.688000</td>\n",
       "      <td>0.893000</td>\n",
       "      <td>1.000000</td>\n",
       "      <td>0.565500</td>\n",
       "      <td>0.643000</td>\n",
       "      <td>0.237000</td>\n",
       "      <td>0.677000</td>\n",
       "      <td>134.019000</td>\n",
       "    </tr>\n",
       "    <tr>\n",
       "      <th>max</th>\n",
       "      <td>0.967000</td>\n",
       "      <td>1.000000</td>\n",
       "      <td>1.000000</td>\n",
       "      <td>0.996000</td>\n",
       "      <td>0.985000</td>\n",
       "      <td>0.987000</td>\n",
       "      <td>0.985000</td>\n",
       "      <td>213.990000</td>\n",
       "    </tr>\n",
       "  </tbody>\n",
       "</table>\n",
       "</div>"
      ],
      "text/plain": [
       "       danceability       energy         mode  acousticness  instrumentalness  \\\n",
       "count   5235.000000  5235.000000  5235.000000   5235.000000       5235.000000   \n",
       "mean       0.509503     0.653565     0.646227      0.290043          0.257337   \n",
       "std        0.218041     0.288335     0.478185      0.355985          0.370686   \n",
       "min        0.000000     0.000000     0.000000      0.000000          0.000000   \n",
       "25%        0.309000     0.479000     0.000000      0.002450          0.000001   \n",
       "50%        0.539000     0.738000     1.000000      0.095400          0.001880   \n",
       "75%        0.688000     0.893000     1.000000      0.565500          0.643000   \n",
       "max        0.967000     1.000000     1.000000      0.996000          0.985000   \n",
       "\n",
       "          liveness      valence        tempo  \n",
       "count  5235.000000  5235.000000  5235.000000  \n",
       "mean      0.185354     0.443596   118.721407  \n",
       "std       0.149410     0.277725    28.568463  \n",
       "min       0.000000     0.000000     0.000000  \n",
       "25%       0.092500     0.196000    96.174000  \n",
       "50%       0.125000     0.417000   119.180000  \n",
       "75%       0.237000     0.677000   134.019000  \n",
       "max       0.987000     0.985000   213.990000  "
      ]
     },
     "execution_count": 77,
     "metadata": {},
     "output_type": "execute_result"
    }
   ],
   "source": [
    "df_mm.describe()"
   ]
  },
  {
   "cell_type": "code",
   "execution_count": 78,
   "metadata": {},
   "outputs": [],
   "source": [
    "from sklearn.preprocessing import MinMaxScaler\n",
    "\n",
    "# Select only numeric columns for scaling\n",
    "numeric_cols = df_mm.select_dtypes(include=[np.number])\n",
    "\n",
    "# Initialize the MinMaxScaler\n",
    "#scaler = MinMaxScaler()\n",
    "scaler = MinMaxScaler().set_output(transform = 'pandas')\n",
    "# Scale the numeric data\n",
    "df_minmax = scaler.fit_transform(numeric_cols)\n",
    "\n",
    "# Convert the scaled data back to a DataFrame\n",
    "# Use the numeric columns' names for the DataFrame\n",
    "#df_minmax = pd.DataFrame(df_minmax, columns=numeric_cols.columns)\n",
    "\n",
    "# Display the first few rows of the scaled DataFrame\n",
    "#df_minmax.head()\n",
    "\n"
   ]
  },
  {
   "cell_type": "code",
   "execution_count": 79,
   "metadata": {},
   "outputs": [],
   "source": [
    "# heatmap min_max\n",
    "min_max_distances = pd.DataFrame(pairwise_distances(df_minmax),\n",
    "                                index = df_mm.index,\n",
    "                                columns = df_mm.index)"
   ]
  },
  {
   "cell_type": "code",
   "execution_count": 88,
   "metadata": {},
   "outputs": [],
   "source": [
    "#plt.subplots(figsize = (10, 6));\n",
    "#sns.heatmap(min_max_distances);"
   ]
  },
  {
   "cell_type": "markdown",
   "metadata": {},
   "source": [
    "# Standard scaler normalization"
   ]
  },
  {
   "cell_type": "code",
   "execution_count": 21,
   "metadata": {},
   "outputs": [],
   "source": [
    "df_ss = df_clean.copy()"
   ]
  },
  {
   "cell_type": "code",
   "execution_count": 16,
   "metadata": {},
   "outputs": [
    {
     "data": {
      "text/html": [
       "<div>\n",
       "<style scoped>\n",
       "    .dataframe tbody tr th:only-of-type {\n",
       "        vertical-align: middle;\n",
       "    }\n",
       "\n",
       "    .dataframe tbody tr th {\n",
       "        vertical-align: top;\n",
       "    }\n",
       "\n",
       "    .dataframe thead th {\n",
       "        text-align: right;\n",
       "    }\n",
       "</style>\n",
       "<table border=\"1\" class=\"dataframe\">\n",
       "  <thead>\n",
       "    <tr style=\"text-align: right;\">\n",
       "      <th></th>\n",
       "      <th>danceability</th>\n",
       "      <th>energy</th>\n",
       "      <th>mode</th>\n",
       "      <th>acousticness</th>\n",
       "      <th>instrumentalness</th>\n",
       "      <th>liveness</th>\n",
       "      <th>valence</th>\n",
       "      <th>tempo</th>\n",
       "    </tr>\n",
       "  </thead>\n",
       "  <tbody>\n",
       "    <tr>\n",
       "      <th>0</th>\n",
       "      <td>0.681116</td>\n",
       "      <td>-1.368556</td>\n",
       "      <td>-1.351545</td>\n",
       "      <td>1.134867</td>\n",
       "      <td>-0.694125</td>\n",
       "      <td>5.285610</td>\n",
       "      <td>-0.495488</td>\n",
       "      <td>-0.292147</td>\n",
       "    </tr>\n",
       "    <tr>\n",
       "      <th>1</th>\n",
       "      <td>1.066401</td>\n",
       "      <td>-0.882963</td>\n",
       "      <td>0.739894</td>\n",
       "      <td>-0.205206</td>\n",
       "      <td>-0.694278</td>\n",
       "      <td>-0.524470</td>\n",
       "      <td>0.898109</td>\n",
       "      <td>0.221160</td>\n",
       "    </tr>\n",
       "    <tr>\n",
       "      <th>2</th>\n",
       "      <td>1.566355</td>\n",
       "      <td>0.265117</td>\n",
       "      <td>0.739894</td>\n",
       "      <td>0.457807</td>\n",
       "      <td>-0.694112</td>\n",
       "      <td>-0.410678</td>\n",
       "      <td>1.661526</td>\n",
       "      <td>-0.875994</td>\n",
       "    </tr>\n",
       "    <tr>\n",
       "      <th>3</th>\n",
       "      <td>0.896692</td>\n",
       "      <td>-2.092782</td>\n",
       "      <td>0.739894</td>\n",
       "      <td>1.654602</td>\n",
       "      <td>-0.694174</td>\n",
       "      <td>1.343056</td>\n",
       "      <td>0.289535</td>\n",
       "      <td>-0.417262</td>\n",
       "    </tr>\n",
       "    <tr>\n",
       "      <th>4</th>\n",
       "      <td>0.649009</td>\n",
       "      <td>-1.854148</td>\n",
       "      <td>0.739894</td>\n",
       "      <td>1.758549</td>\n",
       "      <td>-0.693358</td>\n",
       "      <td>-0.544551</td>\n",
       "      <td>-0.149790</td>\n",
       "      <td>0.077701</td>\n",
       "    </tr>\n",
       "  </tbody>\n",
       "</table>\n",
       "</div>"
      ],
      "text/plain": [
       "   danceability    energy      mode  acousticness  instrumentalness  liveness  \\\n",
       "0      0.681116 -1.368556 -1.351545      1.134867         -0.694125  5.285610   \n",
       "1      1.066401 -0.882963  0.739894     -0.205206         -0.694278 -0.524470   \n",
       "2      1.566355  0.265117  0.739894      0.457807         -0.694112 -0.410678   \n",
       "3      0.896692 -2.092782  0.739894      1.654602         -0.694174  1.343056   \n",
       "4      0.649009 -1.854148  0.739894      1.758549         -0.693358 -0.544551   \n",
       "\n",
       "    valence     tempo  \n",
       "0 -0.495488 -0.292147  \n",
       "1  0.898109  0.221160  \n",
       "2  1.661526 -0.875994  \n",
       "3  0.289535 -0.417262  \n",
       "4 -0.149790  0.077701  "
      ]
     },
     "execution_count": 16,
     "metadata": {},
     "output_type": "execute_result"
    }
   ],
   "source": [
    "# Select only numeric columns for scaling\n",
    "numeric_cols = df_ss.select_dtypes(include=[np.number])\n",
    "\n",
    "# Initialize the StandardScaler\n",
    "scaler = StandardScaler()\n",
    "\n",
    "# Scale the numeric data\n",
    "df_standardscaler = scaler.fit_transform(numeric_cols)\n",
    "\n",
    "# Convert the scaled data back to a DataFrame\n",
    "# Use the numeric columns' names for the DataFrame\n",
    "df_standardscaler = pd.DataFrame(df_standardscaler, columns=numeric_cols.columns)\n",
    "\n",
    "# Display the first few rows of the scaled DataFrame\n",
    "df_standardscaler.head()"
   ]
  },
  {
   "cell_type": "code",
   "execution_count": 17,
   "metadata": {},
   "outputs": [],
   "source": [
    "standard_scaler_distances = pd.DataFrame(pairwise_distances(df_standardscaler),\n",
    "                                                           index = df_ss.index,\n",
    "                                                           columns = df_ss.index)           "
   ]
  },
  {
   "cell_type": "code",
   "execution_count": 18,
   "metadata": {},
   "outputs": [],
   "source": [
    "#plt.subplots(figsize = (10, 6));\n",
    "#sns.heatmap(standard_scaler_distances);"
   ]
  },
  {
   "cell_type": "markdown",
   "metadata": {},
   "source": [
    "# Robust scaler normalization"
   ]
  },
  {
   "cell_type": "code",
   "execution_count": 19,
   "metadata": {},
   "outputs": [],
   "source": [
    "df_rs = df_clean.copy()"
   ]
  },
  {
   "cell_type": "code",
   "execution_count": 20,
   "metadata": {},
   "outputs": [
    {
     "data": {
      "text/html": [
       "<div>\n",
       "<style scoped>\n",
       "    .dataframe tbody tr th:only-of-type {\n",
       "        vertical-align: middle;\n",
       "    }\n",
       "\n",
       "    .dataframe tbody tr th {\n",
       "        vertical-align: top;\n",
       "    }\n",
       "\n",
       "    .dataframe thead th {\n",
       "        text-align: right;\n",
       "    }\n",
       "</style>\n",
       "<table border=\"1\" class=\"dataframe\">\n",
       "  <thead>\n",
       "    <tr style=\"text-align: right;\">\n",
       "      <th></th>\n",
       "      <th>danceability</th>\n",
       "      <th>energy</th>\n",
       "      <th>mode</th>\n",
       "      <th>acousticness</th>\n",
       "      <th>instrumentalness</th>\n",
       "      <th>liveness</th>\n",
       "      <th>valence</th>\n",
       "      <th>tempo</th>\n",
       "    </tr>\n",
       "  </thead>\n",
       "  <tbody>\n",
       "    <tr>\n",
       "      <th>0</th>\n",
       "      <td>0.313984</td>\n",
       "      <td>-1.157005</td>\n",
       "      <td>-1.0</td>\n",
       "      <td>1.063138</td>\n",
       "      <td>-0.002833</td>\n",
       "      <td>5.882353</td>\n",
       "      <td>-0.230769</td>\n",
       "      <td>-0.232633</td>\n",
       "    </tr>\n",
       "    <tr>\n",
       "      <th>1</th>\n",
       "      <td>0.535620</td>\n",
       "      <td>-0.818841</td>\n",
       "      <td>0.0</td>\n",
       "      <td>0.215967</td>\n",
       "      <td>-0.002921</td>\n",
       "      <td>-0.124567</td>\n",
       "      <td>0.573805</td>\n",
       "      <td>0.154816</td>\n",
       "    </tr>\n",
       "    <tr>\n",
       "      <th>2</th>\n",
       "      <td>0.823219</td>\n",
       "      <td>-0.019324</td>\n",
       "      <td>0.0</td>\n",
       "      <td>0.635112</td>\n",
       "      <td>-0.002825</td>\n",
       "      <td>-0.006920</td>\n",
       "      <td>1.014553</td>\n",
       "      <td>-0.673325</td>\n",
       "    </tr>\n",
       "    <tr>\n",
       "      <th>3</th>\n",
       "      <td>0.437995</td>\n",
       "      <td>-1.661353</td>\n",
       "      <td>0.0</td>\n",
       "      <td>1.391706</td>\n",
       "      <td>-0.002861</td>\n",
       "      <td>1.806228</td>\n",
       "      <td>0.222453</td>\n",
       "      <td>-0.327071</td>\n",
       "    </tr>\n",
       "    <tr>\n",
       "      <th>4</th>\n",
       "      <td>0.295515</td>\n",
       "      <td>-1.495169</td>\n",
       "      <td>0.0</td>\n",
       "      <td>1.457419</td>\n",
       "      <td>-0.002390</td>\n",
       "      <td>-0.145329</td>\n",
       "      <td>-0.031185</td>\n",
       "      <td>0.046532</td>\n",
       "    </tr>\n",
       "  </tbody>\n",
       "</table>\n",
       "</div>"
      ],
      "text/plain": [
       "   danceability    energy  mode  acousticness  instrumentalness  liveness  \\\n",
       "0      0.313984 -1.157005  -1.0      1.063138         -0.002833  5.882353   \n",
       "1      0.535620 -0.818841   0.0      0.215967         -0.002921 -0.124567   \n",
       "2      0.823219 -0.019324   0.0      0.635112         -0.002825 -0.006920   \n",
       "3      0.437995 -1.661353   0.0      1.391706         -0.002861  1.806228   \n",
       "4      0.295515 -1.495169   0.0      1.457419         -0.002390 -0.145329   \n",
       "\n",
       "    valence     tempo  \n",
       "0 -0.230769 -0.232633  \n",
       "1  0.573805  0.154816  \n",
       "2  1.014553 -0.673325  \n",
       "3  0.222453 -0.327071  \n",
       "4 -0.031185  0.046532  "
      ]
     },
     "execution_count": 20,
     "metadata": {},
     "output_type": "execute_result"
    }
   ],
   "source": [
    "# Select only numeric columns for scaling\n",
    "numeric_cols = df_rs.select_dtypes(include=[np.number])\n",
    "\n",
    "# Initialize the StandardScaler\n",
    "scaler = RobustScaler()\n",
    "\n",
    "# Scale the numeric data\n",
    "df_robustscaler = scaler.fit_transform(numeric_cols)\n",
    "\n",
    "# Convert the scaled data back to a DataFrame\n",
    "# Use the numeric columns' names for the DataFrame\n",
    "df_robustscaler = pd.DataFrame(df_robustscaler, columns=numeric_cols.columns)\n",
    "\n",
    "# Display the first few rows of the scaled DataFrame\n",
    "df_robustscaler.head()"
   ]
  },
  {
   "cell_type": "code",
   "execution_count": 21,
   "metadata": {},
   "outputs": [],
   "source": [
    "robust_scaler_distances = pd.DataFrame(pairwise_distances(df_robustscaler), \n",
    "                                      index = df_rs.index,\n",
    "                                      columns = df_rs.index)        "
   ]
  },
  {
   "cell_type": "code",
   "execution_count": 22,
   "metadata": {},
   "outputs": [],
   "source": [
    "#plt.subplots(figsize = (10,6));\n",
    "#sns.heatmap(robust_scaler_distances);"
   ]
  },
  {
   "cell_type": "markdown",
   "metadata": {},
   "source": [
    "# Transformers "
   ]
  },
  {
   "cell_type": "markdown",
   "metadata": {},
   "source": [
    "# Quantile transformers"
   ]
  },
  {
   "cell_type": "code",
   "execution_count": 23,
   "metadata": {},
   "outputs": [],
   "source": [
    "df_qt = df_clean.copy()"
   ]
  },
  {
   "cell_type": "code",
   "execution_count": 24,
   "metadata": {},
   "outputs": [],
   "source": [
    "# Select only numeric columns for transformation\n",
    "numeric_cols = df_qt.select_dtypes(include=[np.number])\n",
    "\n",
    "# Initialize the QuantileTransformer\n",
    "qt = QuantileTransformer(n_quantiles=numeric_cols.shape[0], output_distribution='uniform')\n",
    "\n"
   ]
  },
  {
   "cell_type": "code",
   "execution_count": 25,
   "metadata": {},
   "outputs": [
    {
     "data": {
      "text/html": [
       "<div>\n",
       "<style scoped>\n",
       "    .dataframe tbody tr th:only-of-type {\n",
       "        vertical-align: middle;\n",
       "    }\n",
       "\n",
       "    .dataframe tbody tr th {\n",
       "        vertical-align: top;\n",
       "    }\n",
       "\n",
       "    .dataframe thead th {\n",
       "        text-align: right;\n",
       "    }\n",
       "</style>\n",
       "<table border=\"1\" class=\"dataframe\">\n",
       "  <thead>\n",
       "    <tr style=\"text-align: right;\">\n",
       "      <th></th>\n",
       "      <th>danceability</th>\n",
       "      <th>energy</th>\n",
       "      <th>mode</th>\n",
       "      <th>acousticness</th>\n",
       "      <th>instrumentalness</th>\n",
       "      <th>liveness</th>\n",
       "      <th>valence</th>\n",
       "      <th>tempo</th>\n",
       "      <th>name</th>\n",
       "      <th>type</th>\n",
       "    </tr>\n",
       "  </thead>\n",
       "  <tbody>\n",
       "    <tr>\n",
       "      <th>0</th>\n",
       "      <td>0.701662</td>\n",
       "      <td>0.145969</td>\n",
       "      <td>0.0</td>\n",
       "      <td>0.791173</td>\n",
       "      <td>0.385460</td>\n",
       "      <td>0.999045</td>\n",
       "      <td>0.376576</td>\n",
       "      <td>0.409534</td>\n",
       "      <td>Se Eu Quiser Falar Com Deus                   ...</td>\n",
       "      <td></td>\n",
       "    </tr>\n",
       "    <tr>\n",
       "      <th>1</th>\n",
       "      <td>0.834066</td>\n",
       "      <td>0.206916</td>\n",
       "      <td>1.0</td>\n",
       "      <td>0.610145</td>\n",
       "      <td>0.268055</td>\n",
       "      <td>0.369316</td>\n",
       "      <td>0.762323</td>\n",
       "      <td>0.593332</td>\n",
       "      <td>Saudade De Bahia                              ...</td>\n",
       "      <td></td>\n",
       "    </tr>\n",
       "    <tr>\n",
       "      <th>2</th>\n",
       "      <td>0.962457</td>\n",
       "      <td>0.490638</td>\n",
       "      <td>1.0</td>\n",
       "      <td>0.717329</td>\n",
       "      <td>0.388804</td>\n",
       "      <td>0.491880</td>\n",
       "      <td>0.942205</td>\n",
       "      <td>0.196408</td>\n",
       "      <td>Canta Canta, Minha Gente                      ...</td>\n",
       "      <td></td>\n",
       "    </tr>\n",
       "    <tr>\n",
       "      <th>3</th>\n",
       "      <td>0.780378</td>\n",
       "      <td>0.037830</td>\n",
       "      <td>1.0</td>\n",
       "      <td>0.864540</td>\n",
       "      <td>0.373710</td>\n",
       "      <td>0.919182</td>\n",
       "      <td>0.609954</td>\n",
       "      <td>0.371227</td>\n",
       "      <td>Mulher Eu Sei                                 ...</td>\n",
       "      <td></td>\n",
       "    </tr>\n",
       "    <tr>\n",
       "      <th>4</th>\n",
       "      <td>0.689243</td>\n",
       "      <td>0.079862</td>\n",
       "      <td>1.0</td>\n",
       "      <td>0.883359</td>\n",
       "      <td>0.443256</td>\n",
       "      <td>0.343523</td>\n",
       "      <td>0.486339</td>\n",
       "      <td>0.529996</td>\n",
       "      <td>Rosa Morena                                   ...</td>\n",
       "      <td></td>\n",
       "    </tr>\n",
       "  </tbody>\n",
       "</table>\n",
       "</div>"
      ],
      "text/plain": [
       "   danceability    energy  mode  acousticness  instrumentalness  liveness  \\\n",
       "0      0.701662  0.145969   0.0      0.791173          0.385460  0.999045   \n",
       "1      0.834066  0.206916   1.0      0.610145          0.268055  0.369316   \n",
       "2      0.962457  0.490638   1.0      0.717329          0.388804  0.491880   \n",
       "3      0.780378  0.037830   1.0      0.864540          0.373710  0.919182   \n",
       "4      0.689243  0.079862   1.0      0.883359          0.443256  0.343523   \n",
       "\n",
       "    valence     tempo                                               name  \\\n",
       "0  0.376576  0.409534  Se Eu Quiser Falar Com Deus                   ...   \n",
       "1  0.762323  0.593332  Saudade De Bahia                              ...   \n",
       "2  0.942205  0.196408  Canta Canta, Minha Gente                      ...   \n",
       "3  0.609954  0.371227  Mulher Eu Sei                                 ...   \n",
       "4  0.486339  0.529996  Rosa Morena                                   ...   \n",
       "\n",
       "    type  \n",
       "0         \n",
       "1         \n",
       "2         \n",
       "3         \n",
       "4         "
      ]
     },
     "execution_count": 25,
     "metadata": {},
     "output_type": "execute_result"
    }
   ],
   "source": [
    "# Apply the QuantileTransformer to the numeric data\n",
    "df_quantiletransformed = qt.fit_transform(numeric_cols)\n",
    "\n",
    "# Convert the transformed data back to a DataFrame\n",
    "df_quantiletransformed = pd.DataFrame(df_quantiletransformed, columns=numeric_cols.columns)\n",
    "\n",
    "# If you want to recombine with non-numeric data\n",
    "non_numeric_cols = df_qt.select_dtypes(exclude=[np.number])\n",
    "df_qt_transformed = pd.concat([df_quantiletransformed, non_numeric_cols], axis=1)\n",
    "\n",
    "# Display the first few rows of the transformed DataFrame\n",
    "df_qt_transformed.head()"
   ]
  },
  {
   "cell_type": "code",
   "execution_count": 26,
   "metadata": {},
   "outputs": [],
   "source": [
    "quantile_transform_distances = pd.DataFrame(pairwise_distances(df_quantiletransformed), \n",
    "                                           index = df_qt.index,\n",
    "                                           columns = df_qt.index)"
   ]
  },
  {
   "cell_type": "code",
   "execution_count": 27,
   "metadata": {},
   "outputs": [],
   "source": [
    "#plt.subplots(figsize = (10,6));\n",
    "#sns.heatmap(quantile_transform_distances);"
   ]
  },
  {
   "cell_type": "markdown",
   "metadata": {},
   "source": [
    "# Power transformer"
   ]
  },
  {
   "cell_type": "code",
   "execution_count": 28,
   "metadata": {},
   "outputs": [],
   "source": [
    "df_pt = df_clean.copy()"
   ]
  },
  {
   "cell_type": "code",
   "execution_count": 29,
   "metadata": {
    "scrolled": false
   },
   "outputs": [
    {
     "data": {
      "text/html": [
       "<div>\n",
       "<style scoped>\n",
       "    .dataframe tbody tr th:only-of-type {\n",
       "        vertical-align: middle;\n",
       "    }\n",
       "\n",
       "    .dataframe tbody tr th {\n",
       "        vertical-align: top;\n",
       "    }\n",
       "\n",
       "    .dataframe thead th {\n",
       "        text-align: right;\n",
       "    }\n",
       "</style>\n",
       "<table border=\"1\" class=\"dataframe\">\n",
       "  <thead>\n",
       "    <tr style=\"text-align: right;\">\n",
       "      <th></th>\n",
       "      <th>0</th>\n",
       "      <th>1</th>\n",
       "      <th>2</th>\n",
       "      <th>3</th>\n",
       "      <th>4</th>\n",
       "      <th>5</th>\n",
       "      <th>6</th>\n",
       "      <th>7</th>\n",
       "      <th>8</th>\n",
       "      <th>9</th>\n",
       "      <th>...</th>\n",
       "      <th>5225</th>\n",
       "      <th>5226</th>\n",
       "      <th>5227</th>\n",
       "      <th>5228</th>\n",
       "      <th>5229</th>\n",
       "      <th>5230</th>\n",
       "      <th>5231</th>\n",
       "      <th>5232</th>\n",
       "      <th>5233</th>\n",
       "      <th>5234</th>\n",
       "    </tr>\n",
       "  </thead>\n",
       "  <tbody>\n",
       "    <tr>\n",
       "      <th>0</th>\n",
       "      <td>0.000000</td>\n",
       "      <td>3.803984</td>\n",
       "      <td>4.147290</td>\n",
       "      <td>2.355047</td>\n",
       "      <td>3.415794</td>\n",
       "      <td>3.802182</td>\n",
       "      <td>3.446159</td>\n",
       "      <td>3.315323</td>\n",
       "      <td>3.821566</td>\n",
       "      <td>4.146958</td>\n",
       "      <td>...</td>\n",
       "      <td>4.050705</td>\n",
       "      <td>5.147082</td>\n",
       "      <td>4.225264</td>\n",
       "      <td>4.100391</td>\n",
       "      <td>5.105796</td>\n",
       "      <td>4.930830</td>\n",
       "      <td>5.053710</td>\n",
       "      <td>5.527733</td>\n",
       "      <td>4.971625</td>\n",
       "      <td>3.858067</td>\n",
       "    </tr>\n",
       "    <tr>\n",
       "      <th>1</th>\n",
       "      <td>3.803984</td>\n",
       "      <td>0.000000</td>\n",
       "      <td>1.944350</td>\n",
       "      <td>2.606818</td>\n",
       "      <td>1.746525</td>\n",
       "      <td>2.409593</td>\n",
       "      <td>3.318105</td>\n",
       "      <td>3.333481</td>\n",
       "      <td>1.822544</td>\n",
       "      <td>2.906327</td>\n",
       "      <td>...</td>\n",
       "      <td>4.259589</td>\n",
       "      <td>4.797416</td>\n",
       "      <td>3.376540</td>\n",
       "      <td>4.056886</td>\n",
       "      <td>5.799910</td>\n",
       "      <td>4.544516</td>\n",
       "      <td>4.587180</td>\n",
       "      <td>5.295919</td>\n",
       "      <td>4.967386</td>\n",
       "      <td>4.448191</td>\n",
       "    </tr>\n",
       "    <tr>\n",
       "      <th>2</th>\n",
       "      <td>4.147290</td>\n",
       "      <td>1.944350</td>\n",
       "      <td>0.000000</td>\n",
       "      <td>2.976891</td>\n",
       "      <td>2.799533</td>\n",
       "      <td>3.597207</td>\n",
       "      <td>3.426397</td>\n",
       "      <td>2.787149</td>\n",
       "      <td>2.955812</td>\n",
       "      <td>2.355407</td>\n",
       "      <td>...</td>\n",
       "      <td>4.940052</td>\n",
       "      <td>5.527702</td>\n",
       "      <td>4.280960</td>\n",
       "      <td>4.965839</td>\n",
       "      <td>6.155838</td>\n",
       "      <td>5.179112</td>\n",
       "      <td>5.205030</td>\n",
       "      <td>5.801805</td>\n",
       "      <td>5.391653</td>\n",
       "      <td>4.585861</td>\n",
       "    </tr>\n",
       "    <tr>\n",
       "      <th>3</th>\n",
       "      <td>2.355047</td>\n",
       "      <td>2.606818</td>\n",
       "      <td>2.976891</td>\n",
       "      <td>0.000000</td>\n",
       "      <td>2.194055</td>\n",
       "      <td>2.852128</td>\n",
       "      <td>3.488666</td>\n",
       "      <td>2.418212</td>\n",
       "      <td>2.908713</td>\n",
       "      <td>3.413473</td>\n",
       "      <td>...</td>\n",
       "      <td>3.724142</td>\n",
       "      <td>4.735921</td>\n",
       "      <td>3.523065</td>\n",
       "      <td>4.426562</td>\n",
       "      <td>5.541291</td>\n",
       "      <td>4.457311</td>\n",
       "      <td>4.589353</td>\n",
       "      <td>5.122925</td>\n",
       "      <td>4.548533</td>\n",
       "      <td>3.286951</td>\n",
       "    </tr>\n",
       "    <tr>\n",
       "      <th>4</th>\n",
       "      <td>3.415794</td>\n",
       "      <td>1.746525</td>\n",
       "      <td>2.799533</td>\n",
       "      <td>2.194055</td>\n",
       "      <td>0.000000</td>\n",
       "      <td>1.545222</td>\n",
       "      <td>3.118529</td>\n",
       "      <td>3.601468</td>\n",
       "      <td>2.332561</td>\n",
       "      <td>3.104561</td>\n",
       "      <td>...</td>\n",
       "      <td>3.232168</td>\n",
       "      <td>3.786297</td>\n",
       "      <td>2.618882</td>\n",
       "      <td>3.441701</td>\n",
       "      <td>4.933509</td>\n",
       "      <td>3.547067</td>\n",
       "      <td>3.567046</td>\n",
       "      <td>4.333839</td>\n",
       "      <td>4.007802</td>\n",
       "      <td>3.750453</td>\n",
       "    </tr>\n",
       "  </tbody>\n",
       "</table>\n",
       "<p>5 rows × 5235 columns</p>\n",
       "</div>"
      ],
      "text/plain": [
       "       0         1         2         3         4         5         6     \\\n",
       "0  0.000000  3.803984  4.147290  2.355047  3.415794  3.802182  3.446159   \n",
       "1  3.803984  0.000000  1.944350  2.606818  1.746525  2.409593  3.318105   \n",
       "2  4.147290  1.944350  0.000000  2.976891  2.799533  3.597207  3.426397   \n",
       "3  2.355047  2.606818  2.976891  0.000000  2.194055  2.852128  3.488666   \n",
       "4  3.415794  1.746525  2.799533  2.194055  0.000000  1.545222  3.118529   \n",
       "\n",
       "       7         8         9     ...      5225      5226      5227      5228  \\\n",
       "0  3.315323  3.821566  4.146958  ...  4.050705  5.147082  4.225264  4.100391   \n",
       "1  3.333481  1.822544  2.906327  ...  4.259589  4.797416  3.376540  4.056886   \n",
       "2  2.787149  2.955812  2.355407  ...  4.940052  5.527702  4.280960  4.965839   \n",
       "3  2.418212  2.908713  3.413473  ...  3.724142  4.735921  3.523065  4.426562   \n",
       "4  3.601468  2.332561  3.104561  ...  3.232168  3.786297  2.618882  3.441701   \n",
       "\n",
       "       5229      5230      5231      5232      5233      5234  \n",
       "0  5.105796  4.930830  5.053710  5.527733  4.971625  3.858067  \n",
       "1  5.799910  4.544516  4.587180  5.295919  4.967386  4.448191  \n",
       "2  6.155838  5.179112  5.205030  5.801805  5.391653  4.585861  \n",
       "3  5.541291  4.457311  4.589353  5.122925  4.548533  3.286951  \n",
       "4  4.933509  3.547067  3.567046  4.333839  4.007802  3.750453  \n",
       "\n",
       "[5 rows x 5235 columns]"
      ]
     },
     "execution_count": 29,
     "metadata": {},
     "output_type": "execute_result"
    }
   ],
   "source": [
    "from sklearn.preprocessing import PowerTransformer\n",
    "\n",
    "# Select only numeric columns for transformation\n",
    "numeric_cols = df_pt.select_dtypes(include=[np.number])\n",
    "\n",
    "# Initialize the PowerTransformer\n",
    "power_transformer = PowerTransformer()\n",
    "\n",
    "# Apply the PowerTransformer to the numeric data\n",
    "df_powertransformed = power_transformer.fit_transform(numeric_cols)\n",
    "\n",
    "# Convert the transformed data back to a DataFrame\n",
    "df_powertransformer = pd.DataFrame(df_powertransformed, columns=numeric_cols.columns, index=numeric_cols.index)\n",
    "\n",
    "# Calculate pairwise distances using the transformed data\n",
    "power_transformer_distances = pd.DataFrame(pairwise_distances(df_powertransformer),\n",
    "                                           index=df_powertransformer.index,\n",
    "                                           columns=df_powertransformer.index)\n",
    "\n",
    "# Display the first few rows of the pairwise distances DataFrame\n",
    "power_transformer_distances.head()\n"
   ]
  },
  {
   "cell_type": "markdown",
   "metadata": {},
   "source": [
    "# Elbow Model"
   ]
  },
  {
   "cell_type": "code",
   "execution_count": 80,
   "metadata": {},
   "outputs": [
    {
     "data": {
      "image/png": "[encoded data removed]",
      "text/plain": [
       "<Figure size 576x360 with 1 Axes>"
      ]
     },
     "metadata": {},
     "output_type": "display_data"
    }
   ],
   "source": [
    "from sklearn.cluster import KMeans\n",
    "# Range of k values to test\n",
    "K = range(20,100)  # You can adjust this range as needed\n",
    "\n",
    "# List to store the inertias for each model with different k\n",
    "inertias = []\n",
    "\n",
    "for k in K:\n",
    "    # Initialize the KMeans model\n",
    "    model = KMeans(n_clusters=k, n_init='auto', random_state=321)\n",
    "    model.fit(df_minmax)\n",
    "    # Append the inertia (sum of squared distances within clusters) to the list\n",
    "    inertias.append(model.inertia_)\n",
    "\n",
    "# Create the elbow plot\n",
    "plt.figure(figsize=(8, 5))\n",
    "plt.plot(K, inertias, 'bo-')\n",
    "plt.xlabel('Number of Clusters (k)')\n",
    "plt.ylabel('Inertia')\n",
    "plt.title('Elbow Method for Determining Optimal Number of Clusters')\n",
    "plt.show()\n"
   ]
  },
  {
   "cell_type": "code",
   "execution_count": 27,
   "metadata": {},
   "outputs": [],
   "source": [
    "# 1 Using Inertia and elbow plot:\n",
    "\n",
    "seed = 321\n",
    "\n",
    "max_k = 100\n",
    "\n",
    "inertia_list = []\n",
    "\n",
    "for i in range(20, max_k):\n",
    "        my_kmeans = KMeans(n_clusters = i,\n",
    "                          n_init = 'auto',\n",
    "                          random_state = seed)\n",
    "        my_kmeans.fit(df_minmax)\n",
    "        inertia_list.append(my_kmeans.inertia_)"
   ]
  },
  {
   "cell_type": "code",
   "execution_count": 28,
   "metadata": {},
   "outputs": [
    {
     "data": {
      "image/png": "[encoded data removed]",
      "text/plain": [
       "<Figure size 1152x576 with 1 Axes>"
      ]
     },
     "metadata": {},
     "output_type": "display_data"
    }
   ],
   "source": [
    "# Set the Seaborn theme to darkgrid\n",
    "sns.set_theme(style='darkgrid')\n",
    "\n",
    "(\n",
    "# Create a line plot of the inertia scores\n",
    "sns.relplot(y = inertias,\n",
    "            x = range(20,max_k),\n",
    "            kind = 'line',\n",
    "            marker = 'o',\n",
    "            height = 8,\n",
    "            aspect = 2)\n",
    "# Set the title of the plot\n",
    ".set(title=f\"Inertia score from 20 to 100 clusters\")\n",
    "# Set the axis labels\n",
    ".set_axis_labels(\"Number of clusters\", \"Inertia score\")\n",
    ");"
   ]
  },
  {
   "cell_type": "code",
   "execution_count": 7,
   "metadata": {},
   "outputs": [
    {
     "ename": "KeyError",
     "evalue": "'y'",
     "output_type": "error",
     "traceback": [
      "\u001b[0;31m---------------------------------------------------------------------------\u001b[0m",
      "\u001b[0;31mKeyError\u001b[0m                                  Traceback (most recent call last)",
      "\u001b[0;32m~/.local/lib/python3.8/site-packages/pandas/core/indexes/base.py\u001b[0m in \u001b[0;36mget_loc\u001b[0;34m(self, key, method, tolerance)\u001b[0m\n\u001b[1;32m   3360\u001b[0m             \u001b[0;32mtry\u001b[0m\u001b[0;34m:\u001b[0m\u001b[0;34m\u001b[0m\u001b[0;34m\u001b[0m\u001b[0m\n\u001b[0;32m-> 3361\u001b[0;31m                 \u001b[0;32mreturn\u001b[0m \u001b[0mself\u001b[0m\u001b[0;34m.\u001b[0m\u001b[0m_engine\u001b[0m\u001b[0;34m.\u001b[0m\u001b[0mget_loc\u001b[0m\u001b[0;34m(\u001b[0m\u001b[0mcasted_key\u001b[0m\u001b[0;34m)\u001b[0m\u001b[0;34m\u001b[0m\u001b[0;34m\u001b[0m\u001b[0m\n\u001b[0m\u001b[1;32m   3362\u001b[0m             \u001b[0;32mexcept\u001b[0m \u001b[0mKeyError\u001b[0m \u001b[0;32mas\u001b[0m \u001b[0merr\u001b[0m\u001b[0;34m:\u001b[0m\u001b[0;34m\u001b[0m\u001b[0;34m\u001b[0m\u001b[0m\n",
      "\u001b[0;32m~/.local/lib/python3.8/site-packages/pandas/_libs/index.pyx\u001b[0m in \u001b[0;36mpandas._libs.index.IndexEngine.get_loc\u001b[0;34m()\u001b[0m\n",
      "\u001b[0;32m~/.local/lib/python3.8/site-packages/pandas/_libs/index.pyx\u001b[0m in \u001b[0;36mpandas._libs.index.IndexEngine.get_loc\u001b[0;34m()\u001b[0m\n",
      "\u001b[0;32mpandas/_libs/hashtable_class_helper.pxi\u001b[0m in \u001b[0;36mpandas._libs.hashtable.PyObjectHashTable.get_item\u001b[0;34m()\u001b[0m\n",
      "\u001b[0;32mpandas/_libs/hashtable_class_helper.pxi\u001b[0m in \u001b[0;36mpandas._libs.hashtable.PyObjectHashTable.get_item\u001b[0;34m()\u001b[0m\n",
      "\u001b[0;31mKeyError\u001b[0m: 'y'",
      "\nThe above exception was the direct cause of the following exception:\n",
      "\u001b[0;31mKeyError\u001b[0m                                  Traceback (most recent call last)",
      "\u001b[0;32m<ipython-input-7-8506e6c2eb4e>\u001b[0m in \u001b[0;36m<module>\u001b[0;34m\u001b[0m\n\u001b[1;32m     14\u001b[0m \u001b[0;34m\u001b[0m\u001b[0m\n\u001b[1;32m     15\u001b[0m \u001b[0;31m# Create a line plot of the inertia scores\u001b[0m\u001b[0;34m\u001b[0m\u001b[0;34m\u001b[0m\u001b[0;34m\u001b[0m\u001b[0m\n\u001b[0;32m---> 16\u001b[0;31m \u001b[0mplot\u001b[0m \u001b[0;34m=\u001b[0m \u001b[0msns\u001b[0m\u001b[0;34m.\u001b[0m\u001b[0mrelplot\u001b[0m\u001b[0;34m(\u001b[0m\u001b[0my\u001b[0m\u001b[0;34m=\u001b[0m\u001b[0minertias\u001b[0m\u001b[0;34m,\u001b[0m \u001b[0mx\u001b[0m\u001b[0;34m=\u001b[0m\u001b[0mrange\u001b[0m\u001b[0;34m(\u001b[0m\u001b[0;36m20\u001b[0m\u001b[0;34m,\u001b[0m \u001b[0mmax_k\u001b[0m\u001b[0;34m)\u001b[0m\u001b[0;34m,\u001b[0m \u001b[0mkind\u001b[0m\u001b[0;34m=\u001b[0m\u001b[0;34m'line'\u001b[0m\u001b[0;34m,\u001b[0m \u001b[0mmarker\u001b[0m\u001b[0;34m=\u001b[0m\u001b[0;34m'o'\u001b[0m\u001b[0;34m,\u001b[0m \u001b[0mheight\u001b[0m\u001b[0;34m=\u001b[0m\u001b[0;36m8\u001b[0m\u001b[0;34m,\u001b[0m \u001b[0maspect\u001b[0m\u001b[0;34m=\u001b[0m\u001b[0;36m2\u001b[0m\u001b[0;34m)\u001b[0m\u001b[0;34m\u001b[0m\u001b[0;34m\u001b[0m\u001b[0m\n\u001b[0m\u001b[1;32m     17\u001b[0m \u001b[0;34m\u001b[0m\u001b[0m\n\u001b[1;32m     18\u001b[0m \u001b[0;31m# Set the title of the plot\u001b[0m\u001b[0;34m\u001b[0m\u001b[0;34m\u001b[0m\u001b[0;34m\u001b[0m\u001b[0m\n",
      "\u001b[0;32m~/.local/lib/python3.8/site-packages/seaborn/relational.py\u001b[0m in \u001b[0;36mrelplot\u001b[0;34m(data, x, y, hue, size, style, units, row, col, col_wrap, row_order, col_order, palette, hue_order, hue_norm, sizes, size_order, size_norm, markers, dashes, style_order, legend, kind, height, aspect, facet_kws, **kwargs)\u001b[0m\n\u001b[1;32m    818\u001b[0m \u001b[0;34m\u001b[0m\u001b[0m\n\u001b[1;32m    819\u001b[0m     \u001b[0;31m# Draw the plot\u001b[0m\u001b[0;34m\u001b[0m\u001b[0;34m\u001b[0m\u001b[0;34m\u001b[0m\u001b[0m\n\u001b[0;32m--> 820\u001b[0;31m     \u001b[0mg\u001b[0m\u001b[0;34m.\u001b[0m\u001b[0mmap_dataframe\u001b[0m\u001b[0;34m(\u001b[0m\u001b[0mfunc\u001b[0m\u001b[0;34m,\u001b[0m \u001b[0;34m**\u001b[0m\u001b[0mplot_kws\u001b[0m\u001b[0;34m)\u001b[0m\u001b[0;34m\u001b[0m\u001b[0;34m\u001b[0m\u001b[0m\n\u001b[0m\u001b[1;32m    821\u001b[0m \u001b[0;34m\u001b[0m\u001b[0m\n\u001b[1;32m    822\u001b[0m     \u001b[0;31m# Label the axes, using the original variables\u001b[0m\u001b[0;34m\u001b[0m\u001b[0;34m\u001b[0m\u001b[0;34m\u001b[0m\u001b[0m\n",
      "\u001b[0;32m~/.local/lib/python3.8/site-packages/seaborn/axisgrid.py\u001b[0m in \u001b[0;36mmap_dataframe\u001b[0;34m(self, func, *args, **kwargs)\u001b[0m\n\u001b[1;32m    823\u001b[0m \u001b[0;34m\u001b[0m\u001b[0m\n\u001b[1;32m    824\u001b[0m             \u001b[0;31m# Draw the plot\u001b[0m\u001b[0;34m\u001b[0m\u001b[0;34m\u001b[0m\u001b[0;34m\u001b[0m\u001b[0m\n\u001b[0;32m--> 825\u001b[0;31m             \u001b[0mself\u001b[0m\u001b[0;34m.\u001b[0m\u001b[0m_facet_plot\u001b[0m\u001b[0;34m(\u001b[0m\u001b[0mfunc\u001b[0m\u001b[0;34m,\u001b[0m \u001b[0max\u001b[0m\u001b[0;34m,\u001b[0m \u001b[0margs\u001b[0m\u001b[0;34m,\u001b[0m \u001b[0mkwargs\u001b[0m\u001b[0;34m)\u001b[0m\u001b[0;34m\u001b[0m\u001b[0;34m\u001b[0m\u001b[0m\n\u001b[0m\u001b[1;32m    826\u001b[0m \u001b[0;34m\u001b[0m\u001b[0m\n\u001b[1;32m    827\u001b[0m         \u001b[0;31m# For axis labels, prefer to use positional args for backcompat\u001b[0m\u001b[0;34m\u001b[0m\u001b[0;34m\u001b[0m\u001b[0;34m\u001b[0m\u001b[0m\n",
      "\u001b[0;32m~/.local/lib/python3.8/site-packages/seaborn/axisgrid.py\u001b[0m in \u001b[0;36m_facet_plot\u001b[0;34m(self, func, ax, plot_args, plot_kwargs)\u001b[0m\n\u001b[1;32m    852\u001b[0m             \u001b[0mplot_args\u001b[0m \u001b[0;34m=\u001b[0m \u001b[0;34m[\u001b[0m\u001b[0;34m]\u001b[0m\u001b[0;34m\u001b[0m\u001b[0;34m\u001b[0m\u001b[0m\n\u001b[1;32m    853\u001b[0m             \u001b[0mplot_kwargs\u001b[0m\u001b[0;34m[\u001b[0m\u001b[0;34m\"ax\"\u001b[0m\u001b[0;34m]\u001b[0m \u001b[0;34m=\u001b[0m \u001b[0max\u001b[0m\u001b[0;34m\u001b[0m\u001b[0;34m\u001b[0m\u001b[0m\n\u001b[0;32m--> 854\u001b[0;31m         \u001b[0mfunc\u001b[0m\u001b[0;34m(\u001b[0m\u001b[0;34m*\u001b[0m\u001b[0mplot_args\u001b[0m\u001b[0;34m,\u001b[0m \u001b[0;34m**\u001b[0m\u001b[0mplot_kwargs\u001b[0m\u001b[0;34m)\u001b[0m\u001b[0;34m\u001b[0m\u001b[0;34m\u001b[0m\u001b[0m\n\u001b[0m\u001b[1;32m    855\u001b[0m \u001b[0;34m\u001b[0m\u001b[0m\n\u001b[1;32m    856\u001b[0m         \u001b[0;31m# Sort out the supporting information\u001b[0m\u001b[0;34m\u001b[0m\u001b[0;34m\u001b[0m\u001b[0;34m\u001b[0m\u001b[0m\n",
      "\u001b[0;32m~/.local/lib/python3.8/site-packages/seaborn/relational.py\u001b[0m in \u001b[0;36mlineplot\u001b[0;34m(data, x, y, hue, size, style, units, palette, hue_order, hue_norm, sizes, size_order, size_norm, dashes, markers, style_order, estimator, errorbar, n_boot, seed, orient, sort, err_style, err_kws, legend, ci, ax, **kwargs)\u001b[0m\n\u001b[1;32m    505\u001b[0m     \u001b[0mkwargs\u001b[0m\u001b[0;34m[\u001b[0m\u001b[0;34m\"color\"\u001b[0m\u001b[0;34m]\u001b[0m \u001b[0;34m=\u001b[0m \u001b[0m_default_color\u001b[0m\u001b[0;34m(\u001b[0m\u001b[0max\u001b[0m\u001b[0;34m.\u001b[0m\u001b[0mplot\u001b[0m\u001b[0;34m,\u001b[0m \u001b[0mhue\u001b[0m\u001b[0;34m,\u001b[0m \u001b[0mcolor\u001b[0m\u001b[0;34m,\u001b[0m \u001b[0mkwargs\u001b[0m\u001b[0;34m)\u001b[0m\u001b[0;34m\u001b[0m\u001b[0;34m\u001b[0m\u001b[0m\n\u001b[1;32m    506\u001b[0m \u001b[0;34m\u001b[0m\u001b[0m\n\u001b[0;32m--> 507\u001b[0;31m     \u001b[0mp\u001b[0m\u001b[0;34m.\u001b[0m\u001b[0mplot\u001b[0m\u001b[0;34m(\u001b[0m\u001b[0max\u001b[0m\u001b[0;34m,\u001b[0m \u001b[0mkwargs\u001b[0m\u001b[0;34m)\u001b[0m\u001b[0;34m\u001b[0m\u001b[0;34m\u001b[0m\u001b[0m\n\u001b[0m\u001b[1;32m    508\u001b[0m     \u001b[0;32mreturn\u001b[0m \u001b[0max\u001b[0m\u001b[0;34m\u001b[0m\u001b[0;34m\u001b[0m\u001b[0m\n\u001b[1;32m    509\u001b[0m \u001b[0;34m\u001b[0m\u001b[0m\n",
      "\u001b[0;32m~/.local/lib/python3.8/site-packages/seaborn/relational.py\u001b[0m in \u001b[0;36mplot\u001b[0;34m(self, ax, kws)\u001b[0m\n\u001b[1;32m    308\u001b[0m                     \u001b[0mlines\u001b[0m\u001b[0;34m.\u001b[0m\u001b[0mextend\u001b[0m\u001b[0;34m(\u001b[0m\u001b[0max\u001b[0m\u001b[0;34m.\u001b[0m\u001b[0mplot\u001b[0m\u001b[0;34m(\u001b[0m\u001b[0munit_data\u001b[0m\u001b[0;34m[\u001b[0m\u001b[0;34m\"x\"\u001b[0m\u001b[0;34m]\u001b[0m\u001b[0;34m,\u001b[0m \u001b[0munit_data\u001b[0m\u001b[0;34m[\u001b[0m\u001b[0;34m\"y\"\u001b[0m\u001b[0;34m]\u001b[0m\u001b[0;34m,\u001b[0m \u001b[0;34m**\u001b[0m\u001b[0mkws\u001b[0m\u001b[0;34m)\u001b[0m\u001b[0;34m)\u001b[0m\u001b[0;34m\u001b[0m\u001b[0;34m\u001b[0m\u001b[0m\n\u001b[1;32m    309\u001b[0m             \u001b[0;32melse\u001b[0m\u001b[0;34m:\u001b[0m\u001b[0;34m\u001b[0m\u001b[0;34m\u001b[0m\u001b[0m\n\u001b[0;32m--> 310\u001b[0;31m                 \u001b[0mlines\u001b[0m \u001b[0;34m=\u001b[0m \u001b[0max\u001b[0m\u001b[0;34m.\u001b[0m\u001b[0mplot\u001b[0m\u001b[0;34m(\u001b[0m\u001b[0msub_data\u001b[0m\u001b[0;34m[\u001b[0m\u001b[0;34m\"x\"\u001b[0m\u001b[0;34m]\u001b[0m\u001b[0;34m,\u001b[0m \u001b[0msub_data\u001b[0m\u001b[0;34m[\u001b[0m\u001b[0;34m\"y\"\u001b[0m\u001b[0;34m]\u001b[0m\u001b[0;34m,\u001b[0m \u001b[0;34m**\u001b[0m\u001b[0mkws\u001b[0m\u001b[0;34m)\u001b[0m\u001b[0;34m\u001b[0m\u001b[0;34m\u001b[0m\u001b[0m\n\u001b[0m\u001b[1;32m    311\u001b[0m \u001b[0;34m\u001b[0m\u001b[0m\n\u001b[1;32m    312\u001b[0m             \u001b[0;32mfor\u001b[0m \u001b[0mline\u001b[0m \u001b[0;32min\u001b[0m \u001b[0mlines\u001b[0m\u001b[0;34m:\u001b[0m\u001b[0;34m\u001b[0m\u001b[0;34m\u001b[0m\u001b[0m\n",
      "\u001b[0;32m~/.local/lib/python3.8/site-packages/pandas/core/frame.py\u001b[0m in \u001b[0;36m__getitem__\u001b[0;34m(self, key)\u001b[0m\n\u001b[1;32m   3456\u001b[0m             \u001b[0;32mif\u001b[0m \u001b[0mself\u001b[0m\u001b[0;34m.\u001b[0m\u001b[0mcolumns\u001b[0m\u001b[0;34m.\u001b[0m\u001b[0mnlevels\u001b[0m \u001b[0;34m>\u001b[0m \u001b[0;36m1\u001b[0m\u001b[0;34m:\u001b[0m\u001b[0;34m\u001b[0m\u001b[0;34m\u001b[0m\u001b[0m\n\u001b[1;32m   3457\u001b[0m                 \u001b[0;32mreturn\u001b[0m \u001b[0mself\u001b[0m\u001b[0;34m.\u001b[0m\u001b[0m_getitem_multilevel\u001b[0m\u001b[0;34m(\u001b[0m\u001b[0mkey\u001b[0m\u001b[0;34m)\u001b[0m\u001b[0;34m\u001b[0m\u001b[0;34m\u001b[0m\u001b[0m\n\u001b[0;32m-> 3458\u001b[0;31m             \u001b[0mindexer\u001b[0m \u001b[0;34m=\u001b[0m \u001b[0mself\u001b[0m\u001b[0;34m.\u001b[0m\u001b[0mcolumns\u001b[0m\u001b[0;34m.\u001b[0m\u001b[0mget_loc\u001b[0m\u001b[0;34m(\u001b[0m\u001b[0mkey\u001b[0m\u001b[0;34m)\u001b[0m\u001b[0;34m\u001b[0m\u001b[0;34m\u001b[0m\u001b[0m\n\u001b[0m\u001b[1;32m   3459\u001b[0m             \u001b[0;32mif\u001b[0m \u001b[0mis_integer\u001b[0m\u001b[0;34m(\u001b[0m\u001b[0mindexer\u001b[0m\u001b[0;34m)\u001b[0m\u001b[0;34m:\u001b[0m\u001b[0;34m\u001b[0m\u001b[0;34m\u001b[0m\u001b[0m\n\u001b[1;32m   3460\u001b[0m                 \u001b[0mindexer\u001b[0m \u001b[0;34m=\u001b[0m \u001b[0;34m[\u001b[0m\u001b[0mindexer\u001b[0m\u001b[0;34m]\u001b[0m\u001b[0;34m\u001b[0m\u001b[0;34m\u001b[0m\u001b[0m\n",
      "\u001b[0;32m~/.local/lib/python3.8/site-packages/pandas/core/indexes/base.py\u001b[0m in \u001b[0;36mget_loc\u001b[0;34m(self, key, method, tolerance)\u001b[0m\n\u001b[1;32m   3361\u001b[0m                 \u001b[0;32mreturn\u001b[0m \u001b[0mself\u001b[0m\u001b[0;34m.\u001b[0m\u001b[0m_engine\u001b[0m\u001b[0;34m.\u001b[0m\u001b[0mget_loc\u001b[0m\u001b[0;34m(\u001b[0m\u001b[0mcasted_key\u001b[0m\u001b[0;34m)\u001b[0m\u001b[0;34m\u001b[0m\u001b[0;34m\u001b[0m\u001b[0m\n\u001b[1;32m   3362\u001b[0m             \u001b[0;32mexcept\u001b[0m \u001b[0mKeyError\u001b[0m \u001b[0;32mas\u001b[0m \u001b[0merr\u001b[0m\u001b[0;34m:\u001b[0m\u001b[0;34m\u001b[0m\u001b[0;34m\u001b[0m\u001b[0m\n\u001b[0;32m-> 3363\u001b[0;31m                 \u001b[0;32mraise\u001b[0m \u001b[0mKeyError\u001b[0m\u001b[0;34m(\u001b[0m\u001b[0mkey\u001b[0m\u001b[0;34m)\u001b[0m \u001b[0;32mfrom\u001b[0m \u001b[0merr\u001b[0m\u001b[0;34m\u001b[0m\u001b[0;34m\u001b[0m\u001b[0m\n\u001b[0m\u001b[1;32m   3364\u001b[0m \u001b[0;34m\u001b[0m\u001b[0m\n\u001b[1;32m   3365\u001b[0m         \u001b[0;32mif\u001b[0m \u001b[0mis_scalar\u001b[0m\u001b[0;34m(\u001b[0m\u001b[0mkey\u001b[0m\u001b[0;34m)\u001b[0m \u001b[0;32mand\u001b[0m \u001b[0misna\u001b[0m\u001b[0;34m(\u001b[0m\u001b[0mkey\u001b[0m\u001b[0;34m)\u001b[0m \u001b[0;32mand\u001b[0m \u001b[0;32mnot\u001b[0m \u001b[0mself\u001b[0m\u001b[0;34m.\u001b[0m\u001b[0mhasnans\u001b[0m\u001b[0;34m:\u001b[0m\u001b[0;34m\u001b[0m\u001b[0;34m\u001b[0m\u001b[0m\n",
      "\u001b[0;31mKeyError\u001b[0m: 'y'"
     ]
    },
    {
     "data": {
      "image/png": "[encoded data removed]",
      "text/plain": [
       "<Figure size 1152x576 with 1 Axes>"
      ]
     },
     "metadata": {},
     "output_type": "display_data"
    }
   ],
   "source": [
    "import seaborn as sns\n",
    "import matplotlib.pyplot as plt\n",
    "\n",
    "# Assuming inertia_list and max_k are predefined, but as they are not provided,\n",
    "# I will create a mock list for demonstration purposes.\n",
    "# Normally, these would be the actual results from a clustering algorithm like K-means.\n",
    "\n",
    "# Mock data for demonstration\n",
    "max_k = 100\n",
    "#inertia_list = [1 / (i + 1) ** 0.5 for i in range(20, max_k)]\n",
    "\n",
    "# Set the Seaborn theme to darkgrid\n",
    "sns.set_theme(style='darkgrid')\n",
    "\n",
    "# Create a line plot of the inertia scores\n",
    "plot = sns.relplot(y=inertias, x=range(20, max_k), kind='line', marker='o', height=8, aspect=2)\n",
    "\n",
    "# Set the title of the plot\n",
    "plot.set(title=f\"Inertia score from 20 to {max_k} clusters\")\n",
    "\n",
    "# Set the axis labels\n",
    "plot.set_axis_labels(\"Number of clusters\", \"Inertia score\")\n",
    "\n",
    "# Saving the plot as a JPEG file\n",
    "plt.savefig('/home/ornela/audio_feature_songs/inertia_plot.jpeg', format='jpeg')\n",
    "\n",
    "# Displaying the plot\n",
    "plt.show()\n"
   ]
  },
  {
   "cell_type": "markdown",
   "metadata": {},
   "source": [
    "# silhouette score"
   ]
  },
  {
   "cell_type": "code",
   "execution_count": null,
   "metadata": {
    "scrolled": true
   },
   "outputs": [],
   "source": [
    "from sklearn.metrics import silhouette_score\n",
    "\n",
    "## Range of k values to test\n",
    "k_values = range(20,101)  # Starting from 20 \n",
    "\n",
    "# List to store the silhouette scores for each k\n",
    "silhouette_scores = []\n",
    "\n",
    "# Calculate silhouette scores for different values of k\n",
    "for k in k_values:\n",
    "    kmeans = KMeans(n_clusters=k, n_init='auto', random_state=321)\n",
    "    kmeans.fit(df_minmax)\n",
    "    labels = kmeans.labels_\n",
    "    score = silhouette_score(df_minmax, labels)\n",
    "    silhouette_scores.append(score)\n",
    "\n",
    "# Plotting the silhouette scores\n",
    "#plt.figure(figsize=(10, 10))\n",
    "#plt.plot(k_values, silhouette_scores, marker='o')\n",
    "#plt.xlabel('Number of clusters (k)')\n",
    "#plt.ylabel('Silhouette Score')\n",
    "#plt.title('Silhouette Scores for Different Numbers of Clusters')\n",
    "#plt.xticks(k_values)\n",
    "#plt.grid(True)\n",
    "#plt.show()"
   ]
  },
  {
   "cell_type": "code",
   "execution_count": null,
   "metadata": {},
   "outputs": [],
   "source": [
    "# Set the maximum number of clusters to try\n",
    "max_k = 101\n",
    "\n",
    "# Create an empty list to store the silhouette scores\n",
    "sil_scores = []\n",
    "\n",
    "\n",
    "for j in range(20, max_k):\n",
    "\n",
    "    # Create a KMeans object with the specified number of clusters\n",
    "    kmeans = KMeans(n_clusters=j,\n",
    "                    n_init=\"auto\",\n",
    "                    random_state = 321)\n",
    "\n",
    "    # Fit the KMeans model to the scaled data\n",
    "    kmeans.fit(df_minmax)\n",
    "\n",
    "    # Get the cluster labels\n",
    "    labels = kmeans.labels_\n",
    "\n",
    "    # Calculate the silhouette score\n",
    "    score = silhouette_score(df_minmax, labels)\n",
    "\n",
    "    # Append the silhouette score to the list\n",
    "    sil_scores.append(score)"
   ]
  },
  {
   "cell_type": "code",
   "execution_count": null,
   "metadata": {},
   "outputs": [],
   "source": [
    "sns.set_theme(style='darkgrid')\n",
    "\n",
    "(\n",
    "sns.relplot(y=sil_scores,\n",
    "            x=range(20,max_k),\n",
    "            kind='line',\n",
    "            marker='o',\n",
    "            height = 8,\n",
    "            aspect=2)\n",
    ".set(title=f\"Silhouette score from 20 to 100 clusters\")\n",
    ".set_axis_labels(\"Number of clusters\", \"Silhouette score\")\n",
    ");"
   ]
  },
  {
   "cell_type": "markdown",
   "metadata": {},
   "source": [
    "# K-means"
   ]
  },
  {
   "cell_type": "code",
   "execution_count": 81,
   "metadata": {},
   "outputs": [],
   "source": [
    "import pandas as pd\n",
    "import seaborn as sns\n",
    "from sklearn.preprocessing import MinMaxScaler\n",
    "from sklearn.cluster import KMeans\n",
    "from sklearn.metrics import pairwise_distances\n",
    "import plotly.graph_objects as go"
   ]
  },
  {
   "cell_type": "code",
   "execution_count": 82,
   "metadata": {},
   "outputs": [
    {
     "name": "stdout",
     "output_type": "stream",
     "text": [
      "<class 'pandas.core.frame.DataFrame'>\n",
      "MultiIndex: 5235 entries, ('Se Eu Quiser Falar Com Deus                                                                                                                                                      ', 'Gilberto Gil                                    ') to ('Ravel: Boléro, M. 81                                                                                                                                                           ', 'Maurice Ravel                                   ')\n",
      "Data columns (total 8 columns):\n",
      " #   Column            Non-Null Count  Dtype  \n",
      "---  ------            --------------  -----  \n",
      " 0   danceability      5235 non-null   float64\n",
      " 1   energy            5235 non-null   float64\n",
      " 2   mode              5235 non-null   float64\n",
      " 3   acousticness      5235 non-null   float64\n",
      " 4   instrumentalness  5235 non-null   float64\n",
      " 5   liveness          5235 non-null   float64\n",
      " 6   valence           5235 non-null   float64\n",
      " 7   tempo             5235 non-null   float64\n",
      "dtypes: float64(8)\n",
      "memory usage: 597.5+ KB\n"
     ]
    }
   ],
   "source": [
    "# Scale the data already\n",
    "df_minmax.info()"
   ]
  },
  {
   "cell_type": "code",
   "execution_count": 103,
   "metadata": {},
   "outputs": [],
   "source": [
    "# Initialise the model\n",
    "kmeans = KMeans(n_clusters = 22,\n",
    "                  n_init = 'auto',\n",
    "                  random_state = 321)"
   ]
  },
  {
   "cell_type": "code",
   "execution_count": 104,
   "metadata": {},
   "outputs": [
    {
     "data": {
      "text/html": [
       "<style>#sk-container-id-8 {color: black;}#sk-container-id-8 pre{padding: 0;}#sk-container-id-8 div.sk-toggleable {background-color: white;}#sk-container-id-8 label.sk-toggleable__label {cursor: pointer;display: block;width: 100%;margin-bottom: 0;padding: 0.3em;box-sizing: border-box;text-align: center;}#sk-container-id-8 label.sk-toggleable__label-arrow:before {content: \"▸\";float: left;margin-right: 0.25em;color: #696969;}#sk-container-id-8 label.sk-toggleable__label-arrow:hover:before {color: black;}#sk-container-id-8 div.sk-estimator:hover label.sk-toggleable__label-arrow:before {color: black;}#sk-container-id-8 div.sk-toggleable__content {max-height: 0;max-width: 0;overflow: hidden;text-align: left;background-color: #f0f8ff;}#sk-container-id-8 div.sk-toggleable__content pre {margin: 0.2em;color: black;border-radius: 0.25em;background-color: #f0f8ff;}#sk-container-id-8 input.sk-toggleable__control:checked~div.sk-toggleable__content {max-height: 200px;max-width: 100%;overflow: auto;}#sk-container-id-8 input.sk-toggleable__control:checked~label.sk-toggleable__label-arrow:before {content: \"▾\";}#sk-container-id-8 div.sk-estimator input.sk-toggleable__control:checked~label.sk-toggleable__label {background-color: #d4ebff;}#sk-container-id-8 div.sk-label input.sk-toggleable__control:checked~label.sk-toggleable__label {background-color: #d4ebff;}#sk-container-id-8 input.sk-hidden--visually {border: 0;clip: rect(1px 1px 1px 1px);clip: rect(1px, 1px, 1px, 1px);height: 1px;margin: -1px;overflow: hidden;padding: 0;position: absolute;width: 1px;}#sk-container-id-8 div.sk-estimator {font-family: monospace;background-color: #f0f8ff;border: 1px dotted black;border-radius: 0.25em;box-sizing: border-box;margin-bottom: 0.5em;}#sk-container-id-8 div.sk-estimator:hover {background-color: #d4ebff;}#sk-container-id-8 div.sk-parallel-item::after {content: \"\";width: 100%;border-bottom: 1px solid gray;flex-grow: 1;}#sk-container-id-8 div.sk-label:hover label.sk-toggleable__label {background-color: #d4ebff;}#sk-container-id-8 div.sk-serial::before {content: \"\";position: absolute;border-left: 1px solid gray;box-sizing: border-box;top: 0;bottom: 0;left: 50%;z-index: 0;}#sk-container-id-8 div.sk-serial {display: flex;flex-direction: column;align-items: center;background-color: white;padding-right: 0.2em;padding-left: 0.2em;position: relative;}#sk-container-id-8 div.sk-item {position: relative;z-index: 1;}#sk-container-id-8 div.sk-parallel {display: flex;align-items: stretch;justify-content: center;background-color: white;position: relative;}#sk-container-id-8 div.sk-item::before, #sk-container-id-8 div.sk-parallel-item::before {content: \"\";position: absolute;border-left: 1px solid gray;box-sizing: border-box;top: 0;bottom: 0;left: 50%;z-index: -1;}#sk-container-id-8 div.sk-parallel-item {display: flex;flex-direction: column;z-index: 1;position: relative;background-color: white;}#sk-container-id-8 div.sk-parallel-item:first-child::after {align-self: flex-end;width: 50%;}#sk-container-id-8 div.sk-parallel-item:last-child::after {align-self: flex-start;width: 50%;}#sk-container-id-8 div.sk-parallel-item:only-child::after {width: 0;}#sk-container-id-8 div.sk-dashed-wrapped {border: 1px dashed gray;margin: 0 0.4em 0.5em 0.4em;box-sizing: border-box;padding-bottom: 0.4em;background-color: white;}#sk-container-id-8 div.sk-label label {font-family: monospace;font-weight: bold;display: inline-block;line-height: 1.2em;}#sk-container-id-8 div.sk-label-container {text-align: center;}#sk-container-id-8 div.sk-container {/* jupyter's `normalize.less` sets `[hidden] { display: none; }` but bootstrap.min.css set `[hidden] { display: none !important; }` so we also need the `!important` here to be able to override the default hidden behavior on the sphinx rendered scikit-learn.org. See: https://github.com/scikit-learn/scikit-learn/issues/21755 */display: inline-block !important;position: relative;}#sk-container-id-8 div.sk-text-repr-fallback {display: none;}</style><div id=\"sk-container-id-8\" class=\"sk-top-container\"><div class=\"sk-text-repr-fallback\"><pre>KMeans(n_clusters=22, n_init=&#x27;auto&#x27;, random_state=321)</pre><b>In a Jupyter environment, please rerun this cell to show the HTML representation or trust the notebook. <br />On GitHub, the HTML representation is unable to render, please try loading this page with nbviewer.org.</b></div><div class=\"sk-container\" hidden><div class=\"sk-item\"><div class=\"sk-estimator sk-toggleable\"><input class=\"sk-toggleable__control sk-hidden--visually\" id=\"sk-estimator-id-8\" type=\"checkbox\" checked><label for=\"sk-estimator-id-8\" class=\"sk-toggleable__label sk-toggleable__label-arrow\">KMeans</label><div class=\"sk-toggleable__content\"><pre>KMeans(n_clusters=22, n_init=&#x27;auto&#x27;, random_state=321)</pre></div></div></div></div></div>"
      ],
      "text/plain": [
       "KMeans(n_clusters=22, n_init='auto', random_state=321)"
      ]
     },
     "execution_count": 104,
     "metadata": {},
     "output_type": "execute_result"
    }
   ],
   "source": [
    "kmeans"
   ]
  },
  {
   "cell_type": "code",
   "execution_count": 105,
   "metadata": {},
   "outputs": [
    {
     "data": {
      "text/html": [
       "<style>#sk-container-id-9 {color: black;}#sk-container-id-9 pre{padding: 0;}#sk-container-id-9 div.sk-toggleable {background-color: white;}#sk-container-id-9 label.sk-toggleable__label {cursor: pointer;display: block;width: 100%;margin-bottom: 0;padding: 0.3em;box-sizing: border-box;text-align: center;}#sk-container-id-9 label.sk-toggleable__label-arrow:before {content: \"▸\";float: left;margin-right: 0.25em;color: #696969;}#sk-container-id-9 label.sk-toggleable__label-arrow:hover:before {color: black;}#sk-container-id-9 div.sk-estimator:hover label.sk-toggleable__label-arrow:before {color: black;}#sk-container-id-9 div.sk-toggleable__content {max-height: 0;max-width: 0;overflow: hidden;text-align: left;background-color: #f0f8ff;}#sk-container-id-9 div.sk-toggleable__content pre {margin: 0.2em;color: black;border-radius: 0.25em;background-color: #f0f8ff;}#sk-container-id-9 input.sk-toggleable__control:checked~div.sk-toggleable__content {max-height: 200px;max-width: 100%;overflow: auto;}#sk-container-id-9 input.sk-toggleable__control:checked~label.sk-toggleable__label-arrow:before {content: \"▾\";}#sk-container-id-9 div.sk-estimator input.sk-toggleable__control:checked~label.sk-toggleable__label {background-color: #d4ebff;}#sk-container-id-9 div.sk-label input.sk-toggleable__control:checked~label.sk-toggleable__label {background-color: #d4ebff;}#sk-container-id-9 input.sk-hidden--visually {border: 0;clip: rect(1px 1px 1px 1px);clip: rect(1px, 1px, 1px, 1px);height: 1px;margin: -1px;overflow: hidden;padding: 0;position: absolute;width: 1px;}#sk-container-id-9 div.sk-estimator {font-family: monospace;background-color: #f0f8ff;border: 1px dotted black;border-radius: 0.25em;box-sizing: border-box;margin-bottom: 0.5em;}#sk-container-id-9 div.sk-estimator:hover {background-color: #d4ebff;}#sk-container-id-9 div.sk-parallel-item::after {content: \"\";width: 100%;border-bottom: 1px solid gray;flex-grow: 1;}#sk-container-id-9 div.sk-label:hover label.sk-toggleable__label {background-color: #d4ebff;}#sk-container-id-9 div.sk-serial::before {content: \"\";position: absolute;border-left: 1px solid gray;box-sizing: border-box;top: 0;bottom: 0;left: 50%;z-index: 0;}#sk-container-id-9 div.sk-serial {display: flex;flex-direction: column;align-items: center;background-color: white;padding-right: 0.2em;padding-left: 0.2em;position: relative;}#sk-container-id-9 div.sk-item {position: relative;z-index: 1;}#sk-container-id-9 div.sk-parallel {display: flex;align-items: stretch;justify-content: center;background-color: white;position: relative;}#sk-container-id-9 div.sk-item::before, #sk-container-id-9 div.sk-parallel-item::before {content: \"\";position: absolute;border-left: 1px solid gray;box-sizing: border-box;top: 0;bottom: 0;left: 50%;z-index: -1;}#sk-container-id-9 div.sk-parallel-item {display: flex;flex-direction: column;z-index: 1;position: relative;background-color: white;}#sk-container-id-9 div.sk-parallel-item:first-child::after {align-self: flex-end;width: 50%;}#sk-container-id-9 div.sk-parallel-item:last-child::after {align-self: flex-start;width: 50%;}#sk-container-id-9 div.sk-parallel-item:only-child::after {width: 0;}#sk-container-id-9 div.sk-dashed-wrapped {border: 1px dashed gray;margin: 0 0.4em 0.5em 0.4em;box-sizing: border-box;padding-bottom: 0.4em;background-color: white;}#sk-container-id-9 div.sk-label label {font-family: monospace;font-weight: bold;display: inline-block;line-height: 1.2em;}#sk-container-id-9 div.sk-label-container {text-align: center;}#sk-container-id-9 div.sk-container {/* jupyter's `normalize.less` sets `[hidden] { display: none; }` but bootstrap.min.css set `[hidden] { display: none !important; }` so we also need the `!important` here to be able to override the default hidden behavior on the sphinx rendered scikit-learn.org. See: https://github.com/scikit-learn/scikit-learn/issues/21755 */display: inline-block !important;position: relative;}#sk-container-id-9 div.sk-text-repr-fallback {display: none;}</style><div id=\"sk-container-id-9\" class=\"sk-top-container\"><div class=\"sk-text-repr-fallback\"><pre>KMeans(n_clusters=22, n_init=&#x27;auto&#x27;, random_state=321)</pre><b>In a Jupyter environment, please rerun this cell to show the HTML representation or trust the notebook. <br />On GitHub, the HTML representation is unable to render, please try loading this page with nbviewer.org.</b></div><div class=\"sk-container\" hidden><div class=\"sk-item\"><div class=\"sk-estimator sk-toggleable\"><input class=\"sk-toggleable__control sk-hidden--visually\" id=\"sk-estimator-id-9\" type=\"checkbox\" checked><label for=\"sk-estimator-id-9\" class=\"sk-toggleable__label sk-toggleable__label-arrow\">KMeans</label><div class=\"sk-toggleable__content\"><pre>KMeans(n_clusters=22, n_init=&#x27;auto&#x27;, random_state=321)</pre></div></div></div></div></div>"
      ],
      "text/plain": [
       "KMeans(n_clusters=22, n_init='auto', random_state=321)"
      ]
     },
     "execution_count": 105,
     "metadata": {},
     "output_type": "execute_result"
    }
   ],
   "source": [
    "# Fit the model to the data\n",
    "kmeans.fit(df_minmax)"
   ]
  },
  {
   "cell_type": "code",
   "execution_count": 106,
   "metadata": {},
   "outputs": [],
   "source": [
    "# Obtain the cluster output\n",
    "clusters = kmeans.labels_"
   ]
  },
  {
   "cell_type": "code",
   "execution_count": 107,
   "metadata": {},
   "outputs": [
    {
     "data": {
      "text/plain": [
       "array([19,  1,  1, ..., 18, 18, 15], dtype=int32)"
      ]
     },
     "execution_count": 107,
     "metadata": {},
     "output_type": "execute_result"
    }
   ],
   "source": [
    "clusters"
   ]
  },
  {
   "cell_type": "code",
   "execution_count": 108,
   "metadata": {},
   "outputs": [
    {
     "data": {
      "text/plain": [
       "array([19,  1,  1, ..., 18, 18, 15], dtype=int32)"
      ]
     },
     "execution_count": 108,
     "metadata": {},
     "output_type": "execute_result"
    }
   ],
   "source": [
    "kmeans.labels_"
   ]
  },
  {
   "cell_type": "code",
   "execution_count": 109,
   "metadata": {},
   "outputs": [
    {
     "data": {
      "text/plain": [
       "array([19,  1,  1, ..., 18, 18, 15], dtype=int32)"
      ]
     },
     "execution_count": 109,
     "metadata": {},
     "output_type": "execute_result"
    }
   ],
   "source": [
    "kmeans.fit_predict(df_minmax)"
   ]
  },
  {
   "cell_type": "code",
   "execution_count": 110,
   "metadata": {},
   "outputs": [],
   "source": [
    "# Attach the cluster output to our original DataFrame\n",
    "df_minmax['cluster'] = clusters"
   ]
  },
  {
   "cell_type": "code",
   "execution_count": 111,
   "metadata": {},
   "outputs": [
    {
     "data": {
      "text/html": [
       "<div>\n",
       "<style scoped>\n",
       "    .dataframe tbody tr th:only-of-type {\n",
       "        vertical-align: middle;\n",
       "    }\n",
       "\n",
       "    .dataframe tbody tr th {\n",
       "        vertical-align: top;\n",
       "    }\n",
       "\n",
       "    .dataframe thead th {\n",
       "        text-align: right;\n",
       "    }\n",
       "</style>\n",
       "<table border=\"1\" class=\"dataframe\">\n",
       "  <thead>\n",
       "    <tr style=\"text-align: right;\">\n",
       "      <th></th>\n",
       "      <th></th>\n",
       "      <th>cluster</th>\n",
       "    </tr>\n",
       "    <tr>\n",
       "      <th>name</th>\n",
       "      <th>artist</th>\n",
       "      <th></th>\n",
       "    </tr>\n",
       "  </thead>\n",
       "  <tbody>\n",
       "    <tr>\n",
       "      <th>Blackeye</th>\n",
       "      <th>Love Inks</th>\n",
       "      <td>0</td>\n",
       "    </tr>\n",
       "    <tr>\n",
       "      <th>Prison Break Anthem (Ich Glaub An Dich) - Single Version</th>\n",
       "      <th>Azad</th>\n",
       "      <td>0</td>\n",
       "    </tr>\n",
       "    <tr>\n",
       "      <th>Low (feat. T-Pain)</th>\n",
       "      <th>Flo Rida</th>\n",
       "      <td>0</td>\n",
       "    </tr>\n",
       "    <tr>\n",
       "      <th>Look At Me Now</th>\n",
       "      <th>Chris Brown</th>\n",
       "      <td>0</td>\n",
       "    </tr>\n",
       "    <tr>\n",
       "      <th>Te He Querido, Te He Llorado</th>\n",
       "      <th>Ivy Queen</th>\n",
       "      <td>0</td>\n",
       "    </tr>\n",
       "    <tr>\n",
       "      <th>...</th>\n",
       "      <th>...</th>\n",
       "      <td>...</td>\n",
       "    </tr>\n",
       "    <tr>\n",
       "      <th>Stuck with U - Piano Version</th>\n",
       "      <th>Flying Fingers</th>\n",
       "      <td>21</td>\n",
       "    </tr>\n",
       "    <tr>\n",
       "      <th>Blackbird</th>\n",
       "      <th>Elin Porsinger</th>\n",
       "      <td>21</td>\n",
       "    </tr>\n",
       "    <tr>\n",
       "      <th>La Javanaise</th>\n",
       "      <th>Serge Gainsbourg</th>\n",
       "      <td>21</td>\n",
       "    </tr>\n",
       "    <tr>\n",
       "      <th>Don't Let Me Down</th>\n",
       "      <th>The Chainsmokers</th>\n",
       "      <td>21</td>\n",
       "    </tr>\n",
       "    <tr>\n",
       "      <th>Kill the Christian</th>\n",
       "      <th>Deicide</th>\n",
       "      <td>21</td>\n",
       "    </tr>\n",
       "  </tbody>\n",
       "</table>\n",
       "<p>5235 rows × 1 columns</p>\n",
       "</div>"
      ],
      "text/plain": [
       "                                                                                                     cluster\n",
       "name                                               artist                                                   \n",
       "Blackeye                                       ... Love Inks                                               0\n",
       "Prison Break Anthem (Ich Glaub An Dich) - Singl... Azad                                                    0\n",
       "Low (feat. T-Pain)                             ... Flo Rida                                                0\n",
       "Look At Me Now                                 ... Chris Brown                                             0\n",
       "Te He Querido, Te He Llorado                   ... Ivy Queen                                               0\n",
       "...                                                                                                      ...\n",
       "Stuck with U - Piano Version                   ... Flying Fingers                                         21\n",
       "Blackbird                                      ... Elin Porsinger                                         21\n",
       "La Javanaise                                   ... Serge Gainsbourg                                       21\n",
       "Don't Let Me Down                              ... The Chainsmokers                                       21\n",
       "Kill the Christian                             ... Deicide                                                21\n",
       "\n",
       "[5235 rows x 1 columns]"
      ]
     },
     "execution_count": 111,
     "metadata": {},
     "output_type": "execute_result"
    }
   ],
   "source": [
    "df_minmax[['cluster']].sort_values('cluster')"
   ]
  },
  {
   "cell_type": "code",
   "execution_count": 112,
   "metadata": {},
   "outputs": [
    {
     "data": {
      "text/html": [
       "<div>\n",
       "<style scoped>\n",
       "    .dataframe tbody tr th:only-of-type {\n",
       "        vertical-align: middle;\n",
       "    }\n",
       "\n",
       "    .dataframe tbody tr th {\n",
       "        vertical-align: top;\n",
       "    }\n",
       "\n",
       "    .dataframe thead th {\n",
       "        text-align: right;\n",
       "    }\n",
       "</style>\n",
       "<table border=\"1\" class=\"dataframe\">\n",
       "  <thead>\n",
       "    <tr style=\"text-align: right;\">\n",
       "      <th></th>\n",
       "      <th>danceability</th>\n",
       "      <th>energy</th>\n",
       "      <th>mode</th>\n",
       "      <th>acousticness</th>\n",
       "      <th>instrumentalness</th>\n",
       "      <th>liveness</th>\n",
       "      <th>valence</th>\n",
       "      <th>tempo</th>\n",
       "    </tr>\n",
       "    <tr>\n",
       "      <th>cluster</th>\n",
       "      <th></th>\n",
       "      <th></th>\n",
       "      <th></th>\n",
       "      <th></th>\n",
       "      <th></th>\n",
       "      <th></th>\n",
       "      <th></th>\n",
       "      <th></th>\n",
       "    </tr>\n",
       "  </thead>\n",
       "  <tbody>\n",
       "    <tr>\n",
       "      <th>0</th>\n",
       "      <td>0.678601</td>\n",
       "      <td>0.801355</td>\n",
       "      <td>0.000000</td>\n",
       "      <td>0.070553</td>\n",
       "      <td>0.020358</td>\n",
       "      <td>0.179603</td>\n",
       "      <td>0.496172</td>\n",
       "      <td>0.553274</td>\n",
       "    </tr>\n",
       "    <tr>\n",
       "      <th>1</th>\n",
       "      <td>0.768735</td>\n",
       "      <td>0.618667</td>\n",
       "      <td>0.871429</td>\n",
       "      <td>0.234273</td>\n",
       "      <td>0.106189</td>\n",
       "      <td>0.123668</td>\n",
       "      <td>0.853909</td>\n",
       "      <td>0.514388</td>\n",
       "    </tr>\n",
       "    <tr>\n",
       "      <th>2</th>\n",
       "      <td>0.482740</td>\n",
       "      <td>0.587360</td>\n",
       "      <td>1.000000</td>\n",
       "      <td>0.404417</td>\n",
       "      <td>0.042067</td>\n",
       "      <td>0.305775</td>\n",
       "      <td>0.424699</td>\n",
       "      <td>0.525502</td>\n",
       "    </tr>\n",
       "    <tr>\n",
       "      <th>3</th>\n",
       "      <td>0.536198</td>\n",
       "      <td>0.551682</td>\n",
       "      <td>0.770370</td>\n",
       "      <td>0.453017</td>\n",
       "      <td>0.217369</td>\n",
       "      <td>0.293839</td>\n",
       "      <td>0.471867</td>\n",
       "      <td>0.535842</td>\n",
       "    </tr>\n",
       "    <tr>\n",
       "      <th>4</th>\n",
       "      <td>0.239143</td>\n",
       "      <td>0.914406</td>\n",
       "      <td>1.000000</td>\n",
       "      <td>0.006615</td>\n",
       "      <td>0.871200</td>\n",
       "      <td>0.201893</td>\n",
       "      <td>0.183207</td>\n",
       "      <td>0.564654</td>\n",
       "    </tr>\n",
       "    <tr>\n",
       "      <th>5</th>\n",
       "      <td>0.600589</td>\n",
       "      <td>0.668991</td>\n",
       "      <td>0.660754</td>\n",
       "      <td>0.210195</td>\n",
       "      <td>0.015866</td>\n",
       "      <td>0.159218</td>\n",
       "      <td>0.330375</td>\n",
       "      <td>0.574895</td>\n",
       "    </tr>\n",
       "    <tr>\n",
       "      <th>6</th>\n",
       "      <td>0.580465</td>\n",
       "      <td>0.740420</td>\n",
       "      <td>1.000000</td>\n",
       "      <td>0.056084</td>\n",
       "      <td>0.196352</td>\n",
       "      <td>0.164461</td>\n",
       "      <td>0.435875</td>\n",
       "      <td>0.523917</td>\n",
       "    </tr>\n",
       "    <tr>\n",
       "      <th>7</th>\n",
       "      <td>0.554130</td>\n",
       "      <td>0.486538</td>\n",
       "      <td>0.506250</td>\n",
       "      <td>0.614047</td>\n",
       "      <td>0.436856</td>\n",
       "      <td>0.153950</td>\n",
       "      <td>0.590378</td>\n",
       "      <td>0.662681</td>\n",
       "    </tr>\n",
       "    <tr>\n",
       "      <th>8</th>\n",
       "      <td>0.287187</td>\n",
       "      <td>0.947134</td>\n",
       "      <td>1.000000</td>\n",
       "      <td>0.002759</td>\n",
       "      <td>0.063544</td>\n",
       "      <td>0.130766</td>\n",
       "      <td>0.172415</td>\n",
       "      <td>0.561415</td>\n",
       "    </tr>\n",
       "    <tr>\n",
       "      <th>9</th>\n",
       "      <td>0.658499</td>\n",
       "      <td>0.542899</td>\n",
       "      <td>1.000000</td>\n",
       "      <td>0.699814</td>\n",
       "      <td>0.164904</td>\n",
       "      <td>0.178374</td>\n",
       "      <td>0.798029</td>\n",
       "      <td>0.552778</td>\n",
       "    </tr>\n",
       "    <tr>\n",
       "      <th>10</th>\n",
       "      <td>0.568192</td>\n",
       "      <td>0.599729</td>\n",
       "      <td>0.143411</td>\n",
       "      <td>0.489485</td>\n",
       "      <td>0.132481</td>\n",
       "      <td>0.240243</td>\n",
       "      <td>0.547711</td>\n",
       "      <td>0.557695</td>\n",
       "    </tr>\n",
       "    <tr>\n",
       "      <th>11</th>\n",
       "      <td>0.361442</td>\n",
       "      <td>0.919931</td>\n",
       "      <td>0.000000</td>\n",
       "      <td>0.018232</td>\n",
       "      <td>0.106245</td>\n",
       "      <td>0.235673</td>\n",
       "      <td>0.236290</td>\n",
       "      <td>0.573259</td>\n",
       "    </tr>\n",
       "    <tr>\n",
       "      <th>12</th>\n",
       "      <td>0.553777</td>\n",
       "      <td>0.827043</td>\n",
       "      <td>0.363636</td>\n",
       "      <td>0.073630</td>\n",
       "      <td>0.303187</td>\n",
       "      <td>0.202747</td>\n",
       "      <td>0.713468</td>\n",
       "      <td>0.662419</td>\n",
       "    </tr>\n",
       "    <tr>\n",
       "      <th>13</th>\n",
       "      <td>0.589582</td>\n",
       "      <td>0.646492</td>\n",
       "      <td>1.000000</td>\n",
       "      <td>0.087137</td>\n",
       "      <td>0.241345</td>\n",
       "      <td>0.169060</td>\n",
       "      <td>0.269571</td>\n",
       "      <td>0.582388</td>\n",
       "    </tr>\n",
       "    <tr>\n",
       "      <th>14</th>\n",
       "      <td>0.501231</td>\n",
       "      <td>0.848520</td>\n",
       "      <td>0.000000</td>\n",
       "      <td>0.064580</td>\n",
       "      <td>0.464155</td>\n",
       "      <td>0.395124</td>\n",
       "      <td>0.365921</td>\n",
       "      <td>0.635158</td>\n",
       "    </tr>\n",
       "    <tr>\n",
       "      <th>15</th>\n",
       "      <td>0.469307</td>\n",
       "      <td>0.108870</td>\n",
       "      <td>1.000000</td>\n",
       "      <td>0.968984</td>\n",
       "      <td>0.882608</td>\n",
       "      <td>0.117307</td>\n",
       "      <td>0.208983</td>\n",
       "      <td>0.464446</td>\n",
       "    </tr>\n",
       "    <tr>\n",
       "      <th>16</th>\n",
       "      <td>0.262097</td>\n",
       "      <td>0.101905</td>\n",
       "      <td>0.000000</td>\n",
       "      <td>0.942252</td>\n",
       "      <td>0.889495</td>\n",
       "      <td>0.127868</td>\n",
       "      <td>0.092271</td>\n",
       "      <td>0.448141</td>\n",
       "    </tr>\n",
       "    <tr>\n",
       "      <th>17</th>\n",
       "      <td>0.814956</td>\n",
       "      <td>0.703871</td>\n",
       "      <td>0.000000</td>\n",
       "      <td>0.170056</td>\n",
       "      <td>0.006290</td>\n",
       "      <td>0.132886</td>\n",
       "      <td>0.809611</td>\n",
       "      <td>0.489247</td>\n",
       "    </tr>\n",
       "    <tr>\n",
       "      <th>18</th>\n",
       "      <td>0.211066</td>\n",
       "      <td>0.425465</td>\n",
       "      <td>0.614350</td>\n",
       "      <td>0.583457</td>\n",
       "      <td>0.870406</td>\n",
       "      <td>0.153263</td>\n",
       "      <td>0.093803</td>\n",
       "      <td>0.423443</td>\n",
       "    </tr>\n",
       "    <tr>\n",
       "      <th>19</th>\n",
       "      <td>0.578649</td>\n",
       "      <td>0.436653</td>\n",
       "      <td>0.593074</td>\n",
       "      <td>0.572433</td>\n",
       "      <td>0.023872</td>\n",
       "      <td>0.172222</td>\n",
       "      <td>0.446077</td>\n",
       "      <td>0.531872</td>\n",
       "    </tr>\n",
       "    <tr>\n",
       "      <th>20</th>\n",
       "      <td>0.737185</td>\n",
       "      <td>0.818796</td>\n",
       "      <td>1.000000</td>\n",
       "      <td>0.067258</td>\n",
       "      <td>0.015486</td>\n",
       "      <td>0.100642</td>\n",
       "      <td>0.820034</td>\n",
       "      <td>0.567670</td>\n",
       "    </tr>\n",
       "    <tr>\n",
       "      <th>21</th>\n",
       "      <td>0.408038</td>\n",
       "      <td>0.579358</td>\n",
       "      <td>1.000000</td>\n",
       "      <td>0.373770</td>\n",
       "      <td>0.354469</td>\n",
       "      <td>0.154941</td>\n",
       "      <td>0.434027</td>\n",
       "      <td>0.686157</td>\n",
       "    </tr>\n",
       "  </tbody>\n",
       "</table>\n",
       "</div>"
      ],
      "text/plain": [
       "         danceability    energy      mode  acousticness  instrumentalness  \\\n",
       "cluster                                                                     \n",
       "0            0.678601  0.801355  0.000000      0.070553          0.020358   \n",
       "1            0.768735  0.618667  0.871429      0.234273          0.106189   \n",
       "2            0.482740  0.587360  1.000000      0.404417          0.042067   \n",
       "3            0.536198  0.551682  0.770370      0.453017          0.217369   \n",
       "4            0.239143  0.914406  1.000000      0.006615          0.871200   \n",
       "5            0.600589  0.668991  0.660754      0.210195          0.015866   \n",
       "6            0.580465  0.740420  1.000000      0.056084          0.196352   \n",
       "7            0.554130  0.486538  0.506250      0.614047          0.436856   \n",
       "8            0.287187  0.947134  1.000000      0.002759          0.063544   \n",
       "9            0.658499  0.542899  1.000000      0.699814          0.164904   \n",
       "10           0.568192  0.599729  0.143411      0.489485          0.132481   \n",
       "11           0.361442  0.919931  0.000000      0.018232          0.106245   \n",
       "12           0.553777  0.827043  0.363636      0.073630          0.303187   \n",
       "13           0.589582  0.646492  1.000000      0.087137          0.241345   \n",
       "14           0.501231  0.848520  0.000000      0.064580          0.464155   \n",
       "15           0.469307  0.108870  1.000000      0.968984          0.882608   \n",
       "16           0.262097  0.101905  0.000000      0.942252          0.889495   \n",
       "17           0.814956  0.703871  0.000000      0.170056          0.006290   \n",
       "18           0.211066  0.425465  0.614350      0.583457          0.870406   \n",
       "19           0.578649  0.436653  0.593074      0.572433          0.023872   \n",
       "20           0.737185  0.818796  1.000000      0.067258          0.015486   \n",
       "21           0.408038  0.579358  1.000000      0.373770          0.354469   \n",
       "\n",
       "         liveness   valence     tempo  \n",
       "cluster                                \n",
       "0        0.179603  0.496172  0.553274  \n",
       "1        0.123668  0.853909  0.514388  \n",
       "2        0.305775  0.424699  0.525502  \n",
       "3        0.293839  0.471867  0.535842  \n",
       "4        0.201893  0.183207  0.564654  \n",
       "5        0.159218  0.330375  0.574895  \n",
       "6        0.164461  0.435875  0.523917  \n",
       "7        0.153950  0.590378  0.662681  \n",
       "8        0.130766  0.172415  0.561415  \n",
       "9        0.178374  0.798029  0.552778  \n",
       "10       0.240243  0.547711  0.557695  \n",
       "11       0.235673  0.236290  0.573259  \n",
       "12       0.202747  0.713468  0.662419  \n",
       "13       0.169060  0.269571  0.582388  \n",
       "14       0.395124  0.365921  0.635158  \n",
       "15       0.117307  0.208983  0.464446  \n",
       "16       0.127868  0.092271  0.448141  \n",
       "17       0.132886  0.809611  0.489247  \n",
       "18       0.153263  0.093803  0.423443  \n",
       "19       0.172222  0.446077  0.531872  \n",
       "20       0.100642  0.820034  0.567670  \n",
       "21       0.154941  0.434027  0.686157  "
      ]
     },
     "execution_count": 112,
     "metadata": {},
     "output_type": "execute_result"
    }
   ],
   "source": [
    "df_minmax.groupby(by='cluster').mean() "
   ]
  },
  {
   "cell_type": "code",
   "execution_count": 113,
   "metadata": {},
   "outputs": [
    {
     "data": {
      "text/html": [
       "<div>\n",
       "<style scoped>\n",
       "    .dataframe tbody tr th:only-of-type {\n",
       "        vertical-align: middle;\n",
       "    }\n",
       "\n",
       "    .dataframe tbody tr th {\n",
       "        vertical-align: top;\n",
       "    }\n",
       "\n",
       "    .dataframe thead th {\n",
       "        text-align: right;\n",
       "    }\n",
       "</style>\n",
       "<table border=\"1\" class=\"dataframe\">\n",
       "  <thead>\n",
       "    <tr style=\"text-align: right;\">\n",
       "      <th>cluster</th>\n",
       "      <th>5</th>\n",
       "      <th>4</th>\n",
       "      <th>6</th>\n",
       "      <th>2</th>\n",
       "      <th>17</th>\n",
       "      <th>3</th>\n",
       "      <th>21</th>\n",
       "      <th>10</th>\n",
       "      <th>0</th>\n",
       "      <th>12</th>\n",
       "      <th>...</th>\n",
       "      <th>18</th>\n",
       "      <th>1</th>\n",
       "      <th>9</th>\n",
       "      <th>8</th>\n",
       "      <th>13</th>\n",
       "      <th>7</th>\n",
       "      <th>11</th>\n",
       "      <th>16</th>\n",
       "      <th>14</th>\n",
       "      <th>15</th>\n",
       "    </tr>\n",
       "  </thead>\n",
       "  <tbody>\n",
       "    <tr>\n",
       "      <th>cluster</th>\n",
       "      <td>451</td>\n",
       "      <td>357</td>\n",
       "      <td>357</td>\n",
       "      <td>339</td>\n",
       "      <td>272</td>\n",
       "      <td>270</td>\n",
       "      <td>261</td>\n",
       "      <td>258</td>\n",
       "      <td>251</td>\n",
       "      <td>231</td>\n",
       "      <td>...</td>\n",
       "      <td>223</td>\n",
       "      <td>210</td>\n",
       "      <td>199</td>\n",
       "      <td>186</td>\n",
       "      <td>183</td>\n",
       "      <td>160</td>\n",
       "      <td>159</td>\n",
       "      <td>151</td>\n",
       "      <td>150</td>\n",
       "      <td>111</td>\n",
       "    </tr>\n",
       "  </tbody>\n",
       "</table>\n",
       "<p>1 rows × 22 columns</p>\n",
       "</div>"
      ],
      "text/plain": [
       "cluster   5    4    6    2    17   3    21   10   0    12  ...   18   1    9   \\\n",
       "cluster  451  357  357  339  272  270  261  258  251  231  ...  223  210  199   \n",
       "\n",
       "cluster   8    13   7    11   16   14   15  \n",
       "cluster  186  183  160  159  151  150  111  \n",
       "\n",
       "[1 rows x 22 columns]"
      ]
     },
     "execution_count": 113,
     "metadata": {},
     "output_type": "execute_result"
    }
   ],
   "source": [
    "df_minmax.groupby('cluster')['cluster'].count().sort_values(ascending=False).to_frame().T"
   ]
  },
  {
   "cell_type": "markdown",
   "metadata": {},
   "source": [
    "# Cluster analysis - Centroids"
   ]
  },
  {
   "cell_type": "markdown",
   "metadata": {},
   "source": [
    "Heatmap plot"
   ]
  },
  {
   "cell_type": "code",
   "execution_count": 114,
   "metadata": {},
   "outputs": [],
   "source": [
    "# Find the coordinates of each centroid using the cluster_centers_ attribute\n",
    "centroids = kmeans.cluster_centers_"
   ]
  },
  {
   "cell_type": "code",
   "execution_count": 115,
   "metadata": {},
   "outputs": [],
   "source": [
    "# Calculate the euclidean distance between the centroids\n",
    "centroid_distances = pairwise_distances(centroids)"
   ]
  },
  {
   "cell_type": "code",
   "execution_count": 116,
   "metadata": {},
   "outputs": [
    {
     "data": {
      "image/png": "[encoded data removed]",
      "text/plain": [
       "<Figure size 1440x1152 with 2 Axes>"
      ]
     },
     "metadata": {},
     "output_type": "display_data"
    }
   ],
   "source": [
    "# Plot distances on heatmap\n",
    "plt.subplots(figsize=(20, 16))\n",
    "sns.heatmap(centroid_distances,\n",
    "           linewidths=.2);"
   ]
  },
  {
   "cell_type": "markdown",
   "metadata": {},
   "source": [
    "# Cluster analysis - Radar chart"
   ]
  },
  {
   "cell_type": "code",
   "execution_count": 117,
   "metadata": {},
   "outputs": [
    {
     "name": "stdout",
     "output_type": "stream",
     "text": [
      "         danceability    energy      mode  acousticness  instrumentalness  \\\n",
      "cluster                                                                     \n",
      "0            0.678601  0.801355  0.000000      0.070553          0.020358   \n",
      "1            0.768735  0.618667  0.871429      0.234273          0.106189   \n",
      "2            0.482740  0.587360  1.000000      0.404417          0.042067   \n",
      "3            0.536198  0.551682  0.770370      0.453017          0.217369   \n",
      "4            0.239143  0.914406  1.000000      0.006615          0.871200   \n",
      "5            0.600589  0.668991  0.660754      0.210195          0.015866   \n",
      "6            0.580465  0.740420  1.000000      0.056084          0.196352   \n",
      "7            0.554130  0.486538  0.506250      0.614047          0.436856   \n",
      "8            0.287187  0.947134  1.000000      0.002759          0.063544   \n",
      "9            0.658499  0.542899  1.000000      0.699814          0.164904   \n",
      "10           0.568192  0.599729  0.143411      0.489485          0.132481   \n",
      "11           0.361442  0.919931  0.000000      0.018232          0.106245   \n",
      "12           0.553777  0.827043  0.363636      0.073630          0.303187   \n",
      "13           0.589582  0.646492  1.000000      0.087137          0.241345   \n",
      "14           0.501231  0.848520  0.000000      0.064580          0.464155   \n",
      "15           0.469307  0.108870  1.000000      0.968984          0.882608   \n",
      "16           0.262097  0.101905  0.000000      0.942252          0.889495   \n",
      "17           0.814956  0.703871  0.000000      0.170056          0.006290   \n",
      "18           0.211066  0.425465  0.614350      0.583457          0.870406   \n",
      "19           0.578649  0.436653  0.593074      0.572433          0.023872   \n",
      "20           0.737185  0.818796  1.000000      0.067258          0.015486   \n",
      "21           0.408038  0.579358  1.000000      0.373770          0.354469   \n",
      "\n",
      "         liveness   valence     tempo  \n",
      "cluster                                \n",
      "0        0.179603  0.496172  0.553274  \n",
      "1        0.123668  0.853909  0.514388  \n",
      "2        0.305775  0.424699  0.525502  \n",
      "3        0.293839  0.471867  0.535842  \n",
      "4        0.201893  0.183207  0.564654  \n",
      "5        0.159218  0.330375  0.574895  \n",
      "6        0.164461  0.435875  0.523917  \n",
      "7        0.153950  0.590378  0.662681  \n",
      "8        0.130766  0.172415  0.561415  \n",
      "9        0.178374  0.798029  0.552778  \n",
      "10       0.240243  0.547711  0.557695  \n",
      "11       0.235673  0.236290  0.573259  \n",
      "12       0.202747  0.713468  0.662419  \n",
      "13       0.169060  0.269571  0.582388  \n",
      "14       0.395124  0.365921  0.635158  \n",
      "15       0.117307  0.208983  0.464446  \n",
      "16       0.127868  0.092271  0.448141  \n",
      "17       0.132886  0.809611  0.489247  \n",
      "18       0.153263  0.093803  0.423443  \n",
      "19       0.172222  0.446077  0.531872  \n",
      "20       0.100642  0.820034  0.567670  \n",
      "21       0.154941  0.434027  0.686157  \n"
     ]
    }
   ],
   "source": [
    "# Calcola la media per ogni cluster\n",
    "cluster_means = df_minmax.groupby(by='cluster').mean()\n",
    "\n",
    "# Visualizza il risultato\n",
    "print(cluster_means)\n"
   ]
  },
  {
   "cell_type": "code",
   "execution_count": 118,
   "metadata": {},
   "outputs": [
    {
     "data": {
      "application/vnd.plotly.v1+json": {
       "config": {
        "plotlyServerURL": "https://plot.ly"
       },
       "data": [
        {
         "fill": "toself",
         "name": "Cluster 0",
         "r": [
          0.6786010044619866,
          0.8013545816733068,
          0,
          0.07055342245475928,
          0.02035820365239549,
          0.496171658543491,
          0.5532738339599218
         ],
         "theta": [
          "danceability",
          "energy",
          "mode",
          "acousticness",
          "instrumentalness",
          "valence",
          "tempo"
         ],
         "type": "scatterpolar"
        },
        {
         "fill": "toself",
         "name": "Cluster 1",
         "r": [
          0.7687349189934506,
          0.6186666666666666,
          0.8714285714285714,
          0.2342734366035571,
          0.10618885641769397,
          0.8539086294416244,
          0.5143876994697126
         ],
         "theta": [
          "danceability",
          "energy",
          "mode",
          "acousticness",
          "instrumentalness",
          "valence",
          "tempo"
         ],
         "type": "scatterpolar"
        },
        {
         "fill": "toself",
         "name": "Cluster 2",
         "r": [
          0.48274015978621965,
          0.5873596755162241,
          1,
          0.40441701765765126,
          0.04206724789242772,
          0.4246993995477891,
          0.5255015776245162
         ],
         "theta": [
          "danceability",
          "energy",
          "mode",
          "acousticness",
          "instrumentalness",
          "valence",
          "tempo"
         ],
         "type": "scatterpolar"
        },
        {
         "fill": "toself",
         "name": "Cluster 3",
         "r": [
          0.5361982458156191,
          0.5516822974074074,
          0.7703703703703704,
          0.45301655681987213,
          0.21736896296296293,
          0.47186651626245535,
          0.5358416021517102
         ],
         "theta": [
          "danceability",
          "energy",
          "mode",
          "acousticness",
          "instrumentalness",
          "valence",
          "tempo"
         ],
         "type": "scatterpolar"
        },
        {
         "fill": "toself",
         "name": "Cluster 4",
         "r": [
          0.23914268913356448,
          0.914406162464986,
          1,
          0.006615171385823407,
          0.8711996473716391,
          0.1832074961964481,
          0.5646542031925627
         ],
         "theta": [
          "danceability",
          "energy",
          "mode",
          "acousticness",
          "instrumentalness",
          "valence",
          "tempo"
         ],
         "type": "scatterpolar"
        },
        {
         "fill": "toself",
         "name": "Cluster 5",
         "r": [
          0.6005888328132131,
          0.6689909090909091,
          0.6607538802660754,
          0.21019478067480565,
          0.015866055871329363,
          0.33037491417830656,
          0.574895453286511
         ],
         "theta": [
          "danceability",
          "energy",
          "mode",
          "acousticness",
          "instrumentalness",
          "valence",
          "tempo"
         ],
         "type": "scatterpolar"
        },
        {
         "fill": "toself",
         "name": "Cluster 6",
         "r": [
          0.5804648643324962,
          0.740420168067227,
          1,
          0.056084293785787415,
          0.19635216092934635,
          0.4358745325541384,
          0.5239174897960492
         ],
         "theta": [
          "danceability",
          "energy",
          "mode",
          "acousticness",
          "instrumentalness",
          "valence",
          "tempo"
         ],
         "type": "scatterpolar"
        },
        {
         "fill": "toself",
         "name": "Cluster 7",
         "r": [
          0.5541300413650465,
          0.4865376875,
          0.50625,
          0.6140468122489959,
          0.43685562925126903,
          0.590377538071066,
          0.6626814045048833
         ],
         "theta": [
          "danceability",
          "energy",
          "mode",
          "acousticness",
          "instrumentalness",
          "valence",
          "tempo"
         ],
         "type": "scatterpolar"
        },
        {
         "fill": "toself",
         "name": "Cluster 8",
         "r": [
          0.28718684324648897,
          0.9471344086021506,
          1,
          0.0027592219955089184,
          0.06354378369084657,
          0.1724147153539654,
          0.5614150646171285
         ],
         "theta": [
          "danceability",
          "energy",
          "mode",
          "acousticness",
          "instrumentalness",
          "valence",
          "tempo"
         ],
         "type": "scatterpolar"
        },
        {
         "fill": "toself",
         "name": "Cluster 9",
         "r": [
          0.6584993218418879,
          0.542899497487437,
          1,
          0.6998143327077153,
          0.16490377603754813,
          0.7980292324566997,
          0.5527776505782335
         ],
         "theta": [
          "danceability",
          "energy",
          "mode",
          "acousticness",
          "instrumentalness",
          "valence",
          "tempo"
         ],
         "type": "scatterpolar"
        },
        {
         "fill": "toself",
         "name": "Cluster 10",
         "r": [
          0.568192203169717,
          0.5997286821705426,
          0.1434108527131783,
          0.48948484344354165,
          0.13248107039704088,
          0.5477114075473182,
          0.5576945021338751
         ],
         "theta": [
          "danceability",
          "energy",
          "mode",
          "acousticness",
          "instrumentalness",
          "valence",
          "tempo"
         ],
         "type": "scatterpolar"
        },
        {
         "fill": "toself",
         "name": "Cluster 11",
         "r": [
          0.3614420531631903,
          0.9199308176100629,
          0,
          0.018232283536662373,
          0.1062454448169077,
          0.236290265938767,
          0.5732589631973045
         ],
         "theta": [
          "danceability",
          "energy",
          "mode",
          "acousticness",
          "instrumentalness",
          "valence",
          "tempo"
         ],
         "type": "scatterpolar"
        },
        {
         "fill": "toself",
         "name": "Cluster 12",
         "r": [
          0.5537767988646997,
          0.82704329004329,
          0.36363636363636365,
          0.0736299142891914,
          0.3031871177621025,
          0.7134682576306941,
          0.6624189462266008
         ],
         "theta": [
          "danceability",
          "energy",
          "mode",
          "acousticness",
          "instrumentalness",
          "valence",
          "tempo"
         ],
         "type": "scatterpolar"
        },
        {
         "fill": "toself",
         "name": "Cluster 13",
         "r": [
          0.5895818852741564,
          0.6464918032786885,
          1,
          0.08713727039304763,
          0.24134511297883554,
          0.2695714404593493,
          0.5823880488772137
         ],
         "theta": [
          "danceability",
          "energy",
          "mode",
          "acousticness",
          "instrumentalness",
          "valence",
          "tempo"
         ],
         "type": "scatterpolar"
        },
        {
         "fill": "toself",
         "name": "Cluster 14",
         "r": [
          0.5012312995518787,
          0.84852,
          0,
          0.06457959384203482,
          0.4641553717766497,
          0.3659214890016921,
          0.6351579668831876
         ],
         "theta": [
          "danceability",
          "energy",
          "mode",
          "acousticness",
          "instrumentalness",
          "valence",
          "tempo"
         ],
         "type": "scatterpolar"
        },
        {
         "fill": "toself",
         "name": "Cluster 15",
         "r": [
          0.46930694914148896,
          0.10887006306306307,
          1,
          0.9689840442852492,
          0.8826084968216947,
          0.20898339964329815,
          0.46444596846952085
         ],
         "theta": [
          "danceability",
          "energy",
          "mode",
          "acousticness",
          "instrumentalness",
          "valence",
          "tempo"
         ],
         "type": "scatterpolar"
        },
        {
         "fill": "toself",
         "name": "Cluster 16",
         "r": [
          0.2620968791305122,
          0.10190493377483445,
          0,
          0.9422524535227002,
          0.8894947389652738,
          0.09227081722526641,
          0.4481405796953438
         ],
         "theta": [
          "danceability",
          "energy",
          "mode",
          "acousticness",
          "instrumentalness",
          "valence",
          "tempo"
         ],
         "type": "scatterpolar"
        },
        {
         "fill": "toself",
         "name": "Cluster 17",
         "r": [
          0.8149560496380559,
          0.7038713235294117,
          0,
          0.17005632456295772,
          0.006290012839653628,
          0.8096110779337115,
          0.4892473672491568
         ],
         "theta": [
          "danceability",
          "energy",
          "mode",
          "acousticness",
          "instrumentalness",
          "valence",
          "tempo"
         ],
         "type": "scatterpolar"
        },
        {
         "fill": "toself",
         "name": "Cluster 18",
         "r": [
          0.21106561368199922,
          0.4254654260089686,
          0.6143497757847534,
          0.5834568142525258,
          0.8704058637408663,
          0.0938034645239125,
          0.4234425480256924
         ],
         "theta": [
          "danceability",
          "energy",
          "mode",
          "acousticness",
          "instrumentalness",
          "valence",
          "tempo"
         ],
         "type": "scatterpolar"
        },
        {
         "fill": "toself",
         "name": "Cluster 19",
         "r": [
          0.5786486522784352,
          0.4366527272727273,
          0.5930735930735931,
          0.5724325874928284,
          0.02387186481200694,
          0.44607686729514145,
          0.53187186195738
         ],
         "theta": [
          "danceability",
          "energy",
          "mode",
          "acousticness",
          "instrumentalness",
          "valence",
          "tempo"
         ],
         "type": "scatterpolar"
        },
        {
         "fill": "toself",
         "name": "Cluster 20",
         "r": [
          0.737184878777433,
          0.8187955555555555,
          1,
          0.06725802008032128,
          0.01548609958262831,
          0.8200338409475465,
          0.567670202657445
         ],
         "theta": [
          "danceability",
          "energy",
          "mode",
          "acousticness",
          "instrumentalness",
          "valence",
          "tempo"
         ],
         "type": "scatterpolar"
        },
        {
         "fill": "toself",
         "name": "Cluster 21",
         "r": [
          0.40803765645615664,
          0.5793575862068966,
          1,
          0.3737704507685916,
          0.3544693879845187,
          0.4340268782698329,
          0.6861568351297971
         ],
         "theta": [
          "danceability",
          "energy",
          "mode",
          "acousticness",
          "instrumentalness",
          "valence",
          "tempo"
         ],
         "type": "scatterpolar"
        }
       ],
       "layout": {
        "height": 600,
        "polar": {
         "radialaxis": {
          "range": [
           0,
           1
          ],
          "visible": true
         }
        },
        "showlegend": true,
        "template": {
         "data": {
          "bar": [
           {
            "error_x": {
             "color": "#2a3f5f"
            },
            "error_y": {
             "color": "#2a3f5f"
            },
            "marker": {
             "line": {
              "color": "#E5ECF6",
              "width": 0.5
             },
             "pattern": {
              "fillmode": "overlay",
              "size": 10,
              "solidity": 0.2
             }
            },
            "type": "bar"
           }
          ],
          "barpolar": [
           {
            "marker": {
             "line": {
              "color": "#E5ECF6",
              "width": 0.5
             },
             "pattern": {
              "fillmode": "overlay",
              "size": 10,
              "solidity": 0.2
             }
            },
            "type": "barpolar"
           }
          ],
          "carpet": [
           {
            "aaxis": {
             "endlinecolor": "#2a3f5f",
             "gridcolor": "white",
             "linecolor": "white",
             "minorgridcolor": "white",
             "startlinecolor": "#2a3f5f"
            },
            "baxis": {
             "endlinecolor": "#2a3f5f",
             "gridcolor": "white",
             "linecolor": "white",
             "minorgridcolor": "white",
             "startlinecolor": "#2a3f5f"
            },
            "type": "carpet"
           }
          ],
          "choropleth": [
           {
            "colorbar": {
             "outlinewidth": 0,
             "ticks": ""
            },
            "type": "choropleth"
           }
          ],
          "contour": [
           {
            "colorbar": {
             "outlinewidth": 0,
             "ticks": ""
            },
            "colorscale": [
             [
              0,
              "#0d0887"
             ],
             [
              0.1111111111111111,
              "#46039f"
             ],
             [
              0.2222222222222222,
              "#7201a8"
             ],
             [
              0.3333333333333333,
              "#9c179e"
             ],
             [
              0.4444444444444444,
              "#bd3786"
             ],
             [
              0.5555555555555556,
              "#d8576b"
             ],
             [
              0.6666666666666666,
              "#ed7953"
             ],
             [
              0.7777777777777778,
              "#fb9f3a"
             ],
             [
              0.8888888888888888,
              "#fdca26"
             ],
             [
              1,
              "#f0f921"
             ]
            ],
            "type": "contour"
           }
          ],
          "contourcarpet": [
           {
            "colorbar": {
             "outlinewidth": 0,
             "ticks": ""
            },
            "type": "contourcarpet"
           }
          ],
          "heatmap": [
           {
            "colorbar": {
             "outlinewidth": 0,
             "ticks": ""
            },
            "colorscale": [
             [
              0,
              "#0d0887"
             ],
             [
              0.1111111111111111,
              "#46039f"
             ],
             [
              0.2222222222222222,
              "#7201a8"
             ],
             [
              0.3333333333333333,
              "#9c179e"
             ],
             [
              0.4444444444444444,
              "#bd3786"
             ],
             [
              0.5555555555555556,
              "#d8576b"
             ],
             [
              0.6666666666666666,
              "#ed7953"
             ],
             [
              0.7777777777777778,
              "#fb9f3a"
             ],
             [
              0.8888888888888888,
              "#fdca26"
             ],
             [
              1,
              "#f0f921"
             ]
            ],
            "type": "heatmap"
           }
          ],
          "heatmapgl": [
           {
            "colorbar": {
             "outlinewidth": 0,
             "ticks": ""
            },
            "colorscale": [
             [
              0,
              "#0d0887"
             ],
             [
              0.1111111111111111,
              "#46039f"
             ],
             [
              0.2222222222222222,
              "#7201a8"
             ],
             [
              0.3333333333333333,
              "#9c179e"
             ],
             [
              0.4444444444444444,
              "#bd3786"
             ],
             [
              0.5555555555555556,
              "#d8576b"
             ],
             [
              0.6666666666666666,
              "#ed7953"
             ],
             [
              0.7777777777777778,
              "#fb9f3a"
             ],
             [
              0.8888888888888888,
              "#fdca26"
             ],
             [
              1,
              "#f0f921"
             ]
            ],
            "type": "heatmapgl"
           }
          ],
          "histogram": [
           {
            "marker": {
             "pattern": {
              "fillmode": "overlay",
              "size": 10,
              "solidity": 0.2
             }
            },
            "type": "histogram"
           }
          ],
          "histogram2d": [
           {
            "colorbar": {
             "outlinewidth": 0,
             "ticks": ""
            },
            "colorscale": [
             [
              0,
              "#0d0887"
             ],
             [
              0.1111111111111111,
              "#46039f"
             ],
             [
              0.2222222222222222,
              "#7201a8"
             ],
             [
              0.3333333333333333,
              "#9c179e"
             ],
             [
              0.4444444444444444,
              "#bd3786"
             ],
             [
              0.5555555555555556,
              "#d8576b"
             ],
             [
              0.6666666666666666,
              "#ed7953"
             ],
             [
              0.7777777777777778,
              "#fb9f3a"
             ],
             [
              0.8888888888888888,
              "#fdca26"
             ],
             [
              1,
              "#f0f921"
             ]
            ],
            "type": "histogram2d"
           }
          ],
          "histogram2dcontour": [
           {
            "colorbar": {
             "outlinewidth": 0,
             "ticks": ""
            },
            "colorscale": [
             [
              0,
              "#0d0887"
             ],
             [
              0.1111111111111111,
              "#46039f"
             ],
             [
              0.2222222222222222,
              "#7201a8"
             ],
             [
              0.3333333333333333,
              "#9c179e"
             ],
             [
              0.4444444444444444,
              "#bd3786"
             ],
             [
              0.5555555555555556,
              "#d8576b"
             ],
             [
              0.6666666666666666,
              "#ed7953"
             ],
             [
              0.7777777777777778,
              "#fb9f3a"
             ],
             [
              0.8888888888888888,
              "#fdca26"
             ],
             [
              1,
              "#f0f921"
             ]
            ],
            "type": "histogram2dcontour"
           }
          ],
          "mesh3d": [
           {
            "colorbar": {
             "outlinewidth": 0,
             "ticks": ""
            },
            "type": "mesh3d"
           }
          ],
          "parcoords": [
           {
            "line": {
             "colorbar": {
              "outlinewidth": 0,
              "ticks": ""
             }
            },
            "type": "parcoords"
           }
          ],
          "pie": [
           {
            "automargin": true,
            "type": "pie"
           }
          ],
          "scatter": [
           {
            "fillpattern": {
             "fillmode": "overlay",
             "size": 10,
             "solidity": 0.2
            },
            "type": "scatter"
           }
          ],
          "scatter3d": [
           {
            "line": {
             "colorbar": {
              "outlinewidth": 0,
              "ticks": ""
             }
            },
            "marker": {
             "colorbar": {
              "outlinewidth": 0,
              "ticks": ""
             }
            },
            "type": "scatter3d"
           }
          ],
          "scattercarpet": [
           {
            "marker": {
             "colorbar": {
              "outlinewidth": 0,
              "ticks": ""
             }
            },
            "type": "scattercarpet"
           }
          ],
          "scattergeo": [
           {
            "marker": {
             "colorbar": {
              "outlinewidth": 0,
              "ticks": ""
             }
            },
            "type": "scattergeo"
           }
          ],
          "scattergl": [
           {
            "marker": {
             "colorbar": {
              "outlinewidth": 0,
              "ticks": ""
             }
            },
            "type": "scattergl"
           }
          ],
          "scattermapbox": [
           {
            "marker": {
             "colorbar": {
              "outlinewidth": 0,
              "ticks": ""
             }
            },
            "type": "scattermapbox"
           }
          ],
          "scatterpolar": [
           {
            "marker": {
             "colorbar": {
              "outlinewidth": 0,
              "ticks": ""
             }
            },
            "type": "scatterpolar"
           }
          ],
          "scatterpolargl": [
           {
            "marker": {
             "colorbar": {
              "outlinewidth": 0,
              "ticks": ""
             }
            },
            "type": "scatterpolargl"
           }
          ],
          "scatterternary": [
           {
            "marker": {
             "colorbar": {
              "outlinewidth": 0,
              "ticks": ""
             }
            },
            "type": "scatterternary"
           }
          ],
          "surface": [
           {
            "colorbar": {
             "outlinewidth": 0,
             "ticks": ""
            },
            "colorscale": [
             [
              0,
              "#0d0887"
             ],
             [
              0.1111111111111111,
              "#46039f"
             ],
             [
              0.2222222222222222,
              "#7201a8"
             ],
             [
              0.3333333333333333,
              "#9c179e"
             ],
             [
              0.4444444444444444,
              "#bd3786"
             ],
             [
              0.5555555555555556,
              "#d8576b"
             ],
             [
              0.6666666666666666,
              "#ed7953"
             ],
             [
              0.7777777777777778,
              "#fb9f3a"
             ],
             [
              0.8888888888888888,
              "#fdca26"
             ],
             [
              1,
              "#f0f921"
             ]
            ],
            "type": "surface"
           }
          ],
          "table": [
           {
            "cells": {
             "fill": {
              "color": "#EBF0F8"
             },
             "line": {
              "color": "white"
             }
            },
            "header": {
             "fill": {
              "color": "#C8D4E3"
             },
             "line": {
              "color": "white"
             }
            },
            "type": "table"
           }
          ]
         },
         "layout": {
          "annotationdefaults": {
           "arrowcolor": "#2a3f5f",
           "arrowhead": 0,
           "arrowwidth": 1
          },
          "autotypenumbers": "strict",
          "coloraxis": {
           "colorbar": {
            "outlinewidth": 0,
            "ticks": ""
           }
          },
          "colorscale": {
           "diverging": [
            [
             0,
             "#8e0152"
            ],
            [
             0.1,
             "#c51b7d"
            ],
            [
             0.2,
             "#de77ae"
            ],
            [
             0.3,
             "#f1b6da"
            ],
            [
             0.4,
             "#fde0ef"
            ],
            [
             0.5,
             "#f7f7f7"
            ],
            [
             0.6,
             "#e6f5d0"
            ],
            [
             0.7,
             "#b8e186"
            ],
            [
             0.8,
             "#7fbc41"
            ],
            [
             0.9,
             "#4d9221"
            ],
            [
             1,
             "#276419"
            ]
           ],
           "sequential": [
            [
             0,
             "#0d0887"
            ],
            [
             0.1111111111111111,
             "#46039f"
            ],
            [
             0.2222222222222222,
             "#7201a8"
            ],
            [
             0.3333333333333333,
             "#9c179e"
            ],
            [
             0.4444444444444444,
             "#bd3786"
            ],
            [
             0.5555555555555556,
             "#d8576b"
            ],
            [
             0.6666666666666666,
             "#ed7953"
            ],
            [
             0.7777777777777778,
             "#fb9f3a"
            ],
            [
             0.8888888888888888,
             "#fdca26"
            ],
            [
             1,
             "#f0f921"
            ]
           ],
           "sequentialminus": [
            [
             0,
             "#0d0887"
            ],
            [
             0.1111111111111111,
             "#46039f"
            ],
            [
             0.2222222222222222,
             "#7201a8"
            ],
            [
             0.3333333333333333,
             "#9c179e"
            ],
            [
             0.4444444444444444,
             "#bd3786"
            ],
            [
             0.5555555555555556,
             "#d8576b"
            ],
            [
             0.6666666666666666,
             "#ed7953"
            ],
            [
             0.7777777777777778,
             "#fb9f3a"
            ],
            [
             0.8888888888888888,
             "#fdca26"
            ],
            [
             1,
             "#f0f921"
            ]
           ]
          },
          "colorway": [
           "#636efa",
           "#EF553B",
           "#00cc96",
           "#ab63fa",
           "#FFA15A",
           "#19d3f3",
           "#FF6692",
           "#B6E880",
           "#FF97FF",
           "#FECB52"
          ],
          "font": {
           "color": "#2a3f5f"
          },
          "geo": {
           "bgcolor": "white",
           "lakecolor": "white",
           "landcolor": "#E5ECF6",
           "showlakes": true,
           "showland": true,
           "subunitcolor": "white"
          },
          "hoverlabel": {
           "align": "left"
          },
          "hovermode": "closest",
          "mapbox": {
           "style": "light"
          },
          "paper_bgcolor": "white",
          "plot_bgcolor": "#E5ECF6",
          "polar": {
           "angularaxis": {
            "gridcolor": "white",
            "linecolor": "white",
            "ticks": ""
           },
           "bgcolor": "#E5ECF6",
           "radialaxis": {
            "gridcolor": "white",
            "linecolor": "white",
            "ticks": ""
           }
          },
          "scene": {
           "xaxis": {
            "backgroundcolor": "#E5ECF6",
            "gridcolor": "white",
            "gridwidth": 2,
            "linecolor": "white",
            "showbackground": true,
            "ticks": "",
            "zerolinecolor": "white"
           },
           "yaxis": {
            "backgroundcolor": "#E5ECF6",
            "gridcolor": "white",
            "gridwidth": 2,
            "linecolor": "white",
            "showbackground": true,
            "ticks": "",
            "zerolinecolor": "white"
           },
           "zaxis": {
            "backgroundcolor": "#E5ECF6",
            "gridcolor": "white",
            "gridwidth": 2,
            "linecolor": "white",
            "showbackground": true,
            "ticks": "",
            "zerolinecolor": "white"
           }
          },
          "shapedefaults": {
           "line": {
            "color": "#2a3f5f"
           }
          },
          "ternary": {
           "aaxis": {
            "gridcolor": "white",
            "linecolor": "white",
            "ticks": ""
           },
           "baxis": {
            "gridcolor": "white",
            "linecolor": "white",
            "ticks": ""
           },
           "bgcolor": "#E5ECF6",
           "caxis": {
            "gridcolor": "white",
            "linecolor": "white",
            "ticks": ""
           }
          },
          "title": {
           "x": 0.05
          },
          "xaxis": {
           "automargin": true,
           "gridcolor": "white",
           "linecolor": "white",
           "ticks": "",
           "title": {
            "standoff": 15
           },
           "zerolinecolor": "white",
           "zerolinewidth": 2
          },
          "yaxis": {
           "automargin": true,
           "gridcolor": "white",
           "linecolor": "white",
           "ticks": "",
           "title": {
            "standoff": 15
           },
           "zerolinecolor": "white",
           "zerolinewidth": 2
          }
         }
        },
        "title": {
         "text": "Radar chart of mean parameters by cluster"
        },
        "width": 800
       }
      },
      "text/html": [
       "<div>                            <div id=\"e6f5e0c5-7911-492e-b692-64de4a9b6c9a\" class=\"plotly-graph-div\" style=\"height:600px; width:800px;\"></div>            <script type=\"text/javascript\">                require([\"plotly\"], function(Plotly) {                    window.PLOTLYENV=window.PLOTLYENV || {};                                    if (document.getElementById(\"e6f5e0c5-7911-492e-b692-64de4a9b6c9a\")) {                    Plotly.newPlot(                        \"e6f5e0c5-7911-492e-b692-64de4a9b6c9a\",                        [{\"fill\":\"toself\",\"name\":\"Cluster 0\",\"r\":[0.6786010044619866,0.8013545816733068,0.0,0.07055342245475928,0.02035820365239549,0.496171658543491,0.5532738339599218],\"theta\":[\"danceability\",\"energy\",\"mode\",\"acousticness\",\"instrumentalness\",\"valence\",\"tempo\"],\"type\":\"scatterpolar\"},{\"fill\":\"toself\",\"name\":\"Cluster 1\",\"r\":[0.7687349189934506,0.6186666666666666,0.8714285714285714,0.2342734366035571,0.10618885641769397,0.8539086294416244,0.5143876994697126],\"theta\":[\"danceability\",\"energy\",\"mode\",\"acousticness\",\"instrumentalness\",\"valence\",\"tempo\"],\"type\":\"scatterpolar\"},{\"fill\":\"toself\",\"name\":\"Cluster 2\",\"r\":[0.48274015978621965,0.5873596755162241,1.0,0.40441701765765126,0.04206724789242772,0.4246993995477891,0.5255015776245162],\"theta\":[\"danceability\",\"energy\",\"mode\",\"acousticness\",\"instrumentalness\",\"valence\",\"tempo\"],\"type\":\"scatterpolar\"},{\"fill\":\"toself\",\"name\":\"Cluster 3\",\"r\":[0.5361982458156191,0.5516822974074074,0.7703703703703704,0.45301655681987213,0.21736896296296293,0.47186651626245535,0.5358416021517102],\"theta\":[\"danceability\",\"energy\",\"mode\",\"acousticness\",\"instrumentalness\",\"valence\",\"tempo\"],\"type\":\"scatterpolar\"},{\"fill\":\"toself\",\"name\":\"Cluster 4\",\"r\":[0.23914268913356448,0.914406162464986,1.0,0.006615171385823407,0.8711996473716391,0.1832074961964481,0.5646542031925627],\"theta\":[\"danceability\",\"energy\",\"mode\",\"acousticness\",\"instrumentalness\",\"valence\",\"tempo\"],\"type\":\"scatterpolar\"},{\"fill\":\"toself\",\"name\":\"Cluster 5\",\"r\":[0.6005888328132131,0.6689909090909091,0.6607538802660754,0.21019478067480565,0.015866055871329363,0.33037491417830656,0.574895453286511],\"theta\":[\"danceability\",\"energy\",\"mode\",\"acousticness\",\"instrumentalness\",\"valence\",\"tempo\"],\"type\":\"scatterpolar\"},{\"fill\":\"toself\",\"name\":\"Cluster 6\",\"r\":[0.5804648643324962,0.740420168067227,1.0,0.056084293785787415,0.19635216092934635,0.4358745325541384,0.5239174897960492],\"theta\":[\"danceability\",\"energy\",\"mode\",\"acousticness\",\"instrumentalness\",\"valence\",\"tempo\"],\"type\":\"scatterpolar\"},{\"fill\":\"toself\",\"name\":\"Cluster 7\",\"r\":[0.5541300413650465,0.4865376875,0.50625,0.6140468122489959,0.43685562925126903,0.590377538071066,0.6626814045048833],\"theta\":[\"danceability\",\"energy\",\"mode\",\"acousticness\",\"instrumentalness\",\"valence\",\"tempo\"],\"type\":\"scatterpolar\"},{\"fill\":\"toself\",\"name\":\"Cluster 8\",\"r\":[0.28718684324648897,0.9471344086021506,1.0,0.0027592219955089184,0.06354378369084657,0.1724147153539654,0.5614150646171285],\"theta\":[\"danceability\",\"energy\",\"mode\",\"acousticness\",\"instrumentalness\",\"valence\",\"tempo\"],\"type\":\"scatterpolar\"},{\"fill\":\"toself\",\"name\":\"Cluster 9\",\"r\":[0.6584993218418879,0.542899497487437,1.0,0.6998143327077153,0.16490377603754813,0.7980292324566997,0.5527776505782335],\"theta\":[\"danceability\",\"energy\",\"mode\",\"acousticness\",\"instrumentalness\",\"valence\",\"tempo\"],\"type\":\"scatterpolar\"},{\"fill\":\"toself\",\"name\":\"Cluster 10\",\"r\":[0.568192203169717,0.5997286821705426,0.1434108527131783,0.48948484344354165,0.13248107039704088,0.5477114075473182,0.5576945021338751],\"theta\":[\"danceability\",\"energy\",\"mode\",\"acousticness\",\"instrumentalness\",\"valence\",\"tempo\"],\"type\":\"scatterpolar\"},{\"fill\":\"toself\",\"name\":\"Cluster 11\",\"r\":[0.3614420531631903,0.9199308176100629,0.0,0.018232283536662373,0.1062454448169077,0.236290265938767,0.5732589631973045],\"theta\":[\"danceability\",\"energy\",\"mode\",\"acousticness\",\"instrumentalness\",\"valence\",\"tempo\"],\"type\":\"scatterpolar\"},{\"fill\":\"toself\",\"name\":\"Cluster 12\",\"r\":[0.5537767988646997,0.82704329004329,0.36363636363636365,0.0736299142891914,0.3031871177621025,0.7134682576306941,0.6624189462266008],\"theta\":[\"danceability\",\"energy\",\"mode\",\"acousticness\",\"instrumentalness\",\"valence\",\"tempo\"],\"type\":\"scatterpolar\"},{\"fill\":\"toself\",\"name\":\"Cluster 13\",\"r\":[0.5895818852741564,0.6464918032786885,1.0,0.08713727039304763,0.24134511297883554,0.2695714404593493,0.5823880488772137],\"theta\":[\"danceability\",\"energy\",\"mode\",\"acousticness\",\"instrumentalness\",\"valence\",\"tempo\"],\"type\":\"scatterpolar\"},{\"fill\":\"toself\",\"name\":\"Cluster 14\",\"r\":[0.5012312995518787,0.84852,0.0,0.06457959384203482,0.4641553717766497,0.3659214890016921,0.6351579668831876],\"theta\":[\"danceability\",\"energy\",\"mode\",\"acousticness\",\"instrumentalness\",\"valence\",\"tempo\"],\"type\":\"scatterpolar\"},{\"fill\":\"toself\",\"name\":\"Cluster 15\",\"r\":[0.46930694914148896,0.10887006306306307,1.0,0.9689840442852492,0.8826084968216947,0.20898339964329815,0.46444596846952085],\"theta\":[\"danceability\",\"energy\",\"mode\",\"acousticness\",\"instrumentalness\",\"valence\",\"tempo\"],\"type\":\"scatterpolar\"},{\"fill\":\"toself\",\"name\":\"Cluster 16\",\"r\":[0.2620968791305122,0.10190493377483445,0.0,0.9422524535227002,0.8894947389652738,0.09227081722526641,0.4481405796953438],\"theta\":[\"danceability\",\"energy\",\"mode\",\"acousticness\",\"instrumentalness\",\"valence\",\"tempo\"],\"type\":\"scatterpolar\"},{\"fill\":\"toself\",\"name\":\"Cluster 17\",\"r\":[0.8149560496380559,0.7038713235294117,0.0,0.17005632456295772,0.006290012839653628,0.8096110779337115,0.4892473672491568],\"theta\":[\"danceability\",\"energy\",\"mode\",\"acousticness\",\"instrumentalness\",\"valence\",\"tempo\"],\"type\":\"scatterpolar\"},{\"fill\":\"toself\",\"name\":\"Cluster 18\",\"r\":[0.21106561368199922,0.4254654260089686,0.6143497757847534,0.5834568142525258,0.8704058637408663,0.0938034645239125,0.4234425480256924],\"theta\":[\"danceability\",\"energy\",\"mode\",\"acousticness\",\"instrumentalness\",\"valence\",\"tempo\"],\"type\":\"scatterpolar\"},{\"fill\":\"toself\",\"name\":\"Cluster 19\",\"r\":[0.5786486522784352,0.4366527272727273,0.5930735930735931,0.5724325874928284,0.02387186481200694,0.44607686729514145,0.53187186195738],\"theta\":[\"danceability\",\"energy\",\"mode\",\"acousticness\",\"instrumentalness\",\"valence\",\"tempo\"],\"type\":\"scatterpolar\"},{\"fill\":\"toself\",\"name\":\"Cluster 20\",\"r\":[0.737184878777433,0.8187955555555555,1.0,0.06725802008032128,0.01548609958262831,0.8200338409475465,0.567670202657445],\"theta\":[\"danceability\",\"energy\",\"mode\",\"acousticness\",\"instrumentalness\",\"valence\",\"tempo\"],\"type\":\"scatterpolar\"},{\"fill\":\"toself\",\"name\":\"Cluster 21\",\"r\":[0.40803765645615664,0.5793575862068966,1.0,0.3737704507685916,0.3544693879845187,0.4340268782698329,0.6861568351297971],\"theta\":[\"danceability\",\"energy\",\"mode\",\"acousticness\",\"instrumentalness\",\"valence\",\"tempo\"],\"type\":\"scatterpolar\"}],                        {\"template\":{\"data\":{\"histogram2dcontour\":[{\"type\":\"histogram2dcontour\",\"colorbar\":{\"outlinewidth\":0,\"ticks\":\"\"},\"colorscale\":[[0.0,\"#0d0887\"],[0.1111111111111111,\"#46039f\"],[0.2222222222222222,\"#7201a8\"],[0.3333333333333333,\"#9c179e\"],[0.4444444444444444,\"#bd3786\"],[0.5555555555555556,\"#d8576b\"],[0.6666666666666666,\"#ed7953\"],[0.7777777777777778,\"#fb9f3a\"],[0.8888888888888888,\"#fdca26\"],[1.0,\"#f0f921\"]]}],\"choropleth\":[{\"type\":\"choropleth\",\"colorbar\":{\"outlinewidth\":0,\"ticks\":\"\"}}],\"histogram2d\":[{\"type\":\"histogram2d\",\"colorbar\":{\"outlinewidth\":0,\"ticks\":\"\"},\"colorscale\":[[0.0,\"#0d0887\"],[0.1111111111111111,\"#46039f\"],[0.2222222222222222,\"#7201a8\"],[0.3333333333333333,\"#9c179e\"],[0.4444444444444444,\"#bd3786\"],[0.5555555555555556,\"#d8576b\"],[0.6666666666666666,\"#ed7953\"],[0.7777777777777778,\"#fb9f3a\"],[0.8888888888888888,\"#fdca26\"],[1.0,\"#f0f921\"]]}],\"heatmap\":[{\"type\":\"heatmap\",\"colorbar\":{\"outlinewidth\":0,\"ticks\":\"\"},\"colorscale\":[[0.0,\"#0d0887\"],[0.1111111111111111,\"#46039f\"],[0.2222222222222222,\"#7201a8\"],[0.3333333333333333,\"#9c179e\"],[0.4444444444444444,\"#bd3786\"],[0.5555555555555556,\"#d8576b\"],[0.6666666666666666,\"#ed7953\"],[0.7777777777777778,\"#fb9f3a\"],[0.8888888888888888,\"#fdca26\"],[1.0,\"#f0f921\"]]}],\"heatmapgl\":[{\"type\":\"heatmapgl\",\"colorbar\":{\"outlinewidth\":0,\"ticks\":\"\"},\"colorscale\":[[0.0,\"#0d0887\"],[0.1111111111111111,\"#46039f\"],[0.2222222222222222,\"#7201a8\"],[0.3333333333333333,\"#9c179e\"],[0.4444444444444444,\"#bd3786\"],[0.5555555555555556,\"#d8576b\"],[0.6666666666666666,\"#ed7953\"],[0.7777777777777778,\"#fb9f3a\"],[0.8888888888888888,\"#fdca26\"],[1.0,\"#f0f921\"]]}],\"contourcarpet\":[{\"type\":\"contourcarpet\",\"colorbar\":{\"outlinewidth\":0,\"ticks\":\"\"}}],\"contour\":[{\"type\":\"contour\",\"colorbar\":{\"outlinewidth\":0,\"ticks\":\"\"},\"colorscale\":[[0.0,\"#0d0887\"],[0.1111111111111111,\"#46039f\"],[0.2222222222222222,\"#7201a8\"],[0.3333333333333333,\"#9c179e\"],[0.4444444444444444,\"#bd3786\"],[0.5555555555555556,\"#d8576b\"],[0.6666666666666666,\"#ed7953\"],[0.7777777777777778,\"#fb9f3a\"],[0.8888888888888888,\"#fdca26\"],[1.0,\"#f0f921\"]]}],\"surface\":[{\"type\":\"surface\",\"colorbar\":{\"outlinewidth\":0,\"ticks\":\"\"},\"colorscale\":[[0.0,\"#0d0887\"],[0.1111111111111111,\"#46039f\"],[0.2222222222222222,\"#7201a8\"],[0.3333333333333333,\"#9c179e\"],[0.4444444444444444,\"#bd3786\"],[0.5555555555555556,\"#d8576b\"],[0.6666666666666666,\"#ed7953\"],[0.7777777777777778,\"#fb9f3a\"],[0.8888888888888888,\"#fdca26\"],[1.0,\"#f0f921\"]]}],\"mesh3d\":[{\"type\":\"mesh3d\",\"colorbar\":{\"outlinewidth\":0,\"ticks\":\"\"}}],\"scatter\":[{\"fillpattern\":{\"fillmode\":\"overlay\",\"size\":10,\"solidity\":0.2},\"type\":\"scatter\"}],\"parcoords\":[{\"type\":\"parcoords\",\"line\":{\"colorbar\":{\"outlinewidth\":0,\"ticks\":\"\"}}}],\"scatterpolargl\":[{\"type\":\"scatterpolargl\",\"marker\":{\"colorbar\":{\"outlinewidth\":0,\"ticks\":\"\"}}}],\"bar\":[{\"error_x\":{\"color\":\"#2a3f5f\"},\"error_y\":{\"color\":\"#2a3f5f\"},\"marker\":{\"line\":{\"color\":\"#E5ECF6\",\"width\":0.5},\"pattern\":{\"fillmode\":\"overlay\",\"size\":10,\"solidity\":0.2}},\"type\":\"bar\"}],\"scattergeo\":[{\"type\":\"scattergeo\",\"marker\":{\"colorbar\":{\"outlinewidth\":0,\"ticks\":\"\"}}}],\"scatterpolar\":[{\"type\":\"scatterpolar\",\"marker\":{\"colorbar\":{\"outlinewidth\":0,\"ticks\":\"\"}}}],\"histogram\":[{\"marker\":{\"pattern\":{\"fillmode\":\"overlay\",\"size\":10,\"solidity\":0.2}},\"type\":\"histogram\"}],\"scattergl\":[{\"type\":\"scattergl\",\"marker\":{\"colorbar\":{\"outlinewidth\":0,\"ticks\":\"\"}}}],\"scatter3d\":[{\"type\":\"scatter3d\",\"line\":{\"colorbar\":{\"outlinewidth\":0,\"ticks\":\"\"}},\"marker\":{\"colorbar\":{\"outlinewidth\":0,\"ticks\":\"\"}}}],\"scattermapbox\":[{\"type\":\"scattermapbox\",\"marker\":{\"colorbar\":{\"outlinewidth\":0,\"ticks\":\"\"}}}],\"scatterternary\":[{\"type\":\"scatterternary\",\"marker\":{\"colorbar\":{\"outlinewidth\":0,\"ticks\":\"\"}}}],\"scattercarpet\":[{\"type\":\"scattercarpet\",\"marker\":{\"colorbar\":{\"outlinewidth\":0,\"ticks\":\"\"}}}],\"carpet\":[{\"aaxis\":{\"endlinecolor\":\"#2a3f5f\",\"gridcolor\":\"white\",\"linecolor\":\"white\",\"minorgridcolor\":\"white\",\"startlinecolor\":\"#2a3f5f\"},\"baxis\":{\"endlinecolor\":\"#2a3f5f\",\"gridcolor\":\"white\",\"linecolor\":\"white\",\"minorgridcolor\":\"white\",\"startlinecolor\":\"#2a3f5f\"},\"type\":\"carpet\"}],\"table\":[{\"cells\":{\"fill\":{\"color\":\"#EBF0F8\"},\"line\":{\"color\":\"white\"}},\"header\":{\"fill\":{\"color\":\"#C8D4E3\"},\"line\":{\"color\":\"white\"}},\"type\":\"table\"}],\"barpolar\":[{\"marker\":{\"line\":{\"color\":\"#E5ECF6\",\"width\":0.5},\"pattern\":{\"fillmode\":\"overlay\",\"size\":10,\"solidity\":0.2}},\"type\":\"barpolar\"}],\"pie\":[{\"automargin\":true,\"type\":\"pie\"}]},\"layout\":{\"autotypenumbers\":\"strict\",\"colorway\":[\"#636efa\",\"#EF553B\",\"#00cc96\",\"#ab63fa\",\"#FFA15A\",\"#19d3f3\",\"#FF6692\",\"#B6E880\",\"#FF97FF\",\"#FECB52\"],\"font\":{\"color\":\"#2a3f5f\"},\"hovermode\":\"closest\",\"hoverlabel\":{\"align\":\"left\"},\"paper_bgcolor\":\"white\",\"plot_bgcolor\":\"#E5ECF6\",\"polar\":{\"bgcolor\":\"#E5ECF6\",\"angularaxis\":{\"gridcolor\":\"white\",\"linecolor\":\"white\",\"ticks\":\"\"},\"radialaxis\":{\"gridcolor\":\"white\",\"linecolor\":\"white\",\"ticks\":\"\"}},\"ternary\":{\"bgcolor\":\"#E5ECF6\",\"aaxis\":{\"gridcolor\":\"white\",\"linecolor\":\"white\",\"ticks\":\"\"},\"baxis\":{\"gridcolor\":\"white\",\"linecolor\":\"white\",\"ticks\":\"\"},\"caxis\":{\"gridcolor\":\"white\",\"linecolor\":\"white\",\"ticks\":\"\"}},\"coloraxis\":{\"colorbar\":{\"outlinewidth\":0,\"ticks\":\"\"}},\"colorscale\":{\"sequential\":[[0.0,\"#0d0887\"],[0.1111111111111111,\"#46039f\"],[0.2222222222222222,\"#7201a8\"],[0.3333333333333333,\"#9c179e\"],[0.4444444444444444,\"#bd3786\"],[0.5555555555555556,\"#d8576b\"],[0.6666666666666666,\"#ed7953\"],[0.7777777777777778,\"#fb9f3a\"],[0.8888888888888888,\"#fdca26\"],[1.0,\"#f0f921\"]],\"sequentialminus\":[[0.0,\"#0d0887\"],[0.1111111111111111,\"#46039f\"],[0.2222222222222222,\"#7201a8\"],[0.3333333333333333,\"#9c179e\"],[0.4444444444444444,\"#bd3786\"],[0.5555555555555556,\"#d8576b\"],[0.6666666666666666,\"#ed7953\"],[0.7777777777777778,\"#fb9f3a\"],[0.8888888888888888,\"#fdca26\"],[1.0,\"#f0f921\"]],\"diverging\":[[0,\"#8e0152\"],[0.1,\"#c51b7d\"],[0.2,\"#de77ae\"],[0.3,\"#f1b6da\"],[0.4,\"#fde0ef\"],[0.5,\"#f7f7f7\"],[0.6,\"#e6f5d0\"],[0.7,\"#b8e186\"],[0.8,\"#7fbc41\"],[0.9,\"#4d9221\"],[1,\"#276419\"]]},\"xaxis\":{\"gridcolor\":\"white\",\"linecolor\":\"white\",\"ticks\":\"\",\"title\":{\"standoff\":15},\"zerolinecolor\":\"white\",\"automargin\":true,\"zerolinewidth\":2},\"yaxis\":{\"gridcolor\":\"white\",\"linecolor\":\"white\",\"ticks\":\"\",\"title\":{\"standoff\":15},\"zerolinecolor\":\"white\",\"automargin\":true,\"zerolinewidth\":2},\"scene\":{\"xaxis\":{\"backgroundcolor\":\"#E5ECF6\",\"gridcolor\":\"white\",\"linecolor\":\"white\",\"showbackground\":true,\"ticks\":\"\",\"zerolinecolor\":\"white\",\"gridwidth\":2},\"yaxis\":{\"backgroundcolor\":\"#E5ECF6\",\"gridcolor\":\"white\",\"linecolor\":\"white\",\"showbackground\":true,\"ticks\":\"\",\"zerolinecolor\":\"white\",\"gridwidth\":2},\"zaxis\":{\"backgroundcolor\":\"#E5ECF6\",\"gridcolor\":\"white\",\"linecolor\":\"white\",\"showbackground\":true,\"ticks\":\"\",\"zerolinecolor\":\"white\",\"gridwidth\":2}},\"shapedefaults\":{\"line\":{\"color\":\"#2a3f5f\"}},\"annotationdefaults\":{\"arrowcolor\":\"#2a3f5f\",\"arrowhead\":0,\"arrowwidth\":1},\"geo\":{\"bgcolor\":\"white\",\"landcolor\":\"#E5ECF6\",\"subunitcolor\":\"white\",\"showland\":true,\"showlakes\":true,\"lakecolor\":\"white\"},\"title\":{\"x\":0.05},\"mapbox\":{\"style\":\"light\"}}},\"title\":{\"text\":\"Radar chart of mean parameters by cluster\"},\"polar\":{\"radialaxis\":{\"visible\":true,\"range\":[0,1]}},\"height\":600,\"width\":800,\"showlegend\":true},                        {\"responsive\": true}                    ).then(function(){\n",
       "                            \n",
       "var gd = document.getElementById('e6f5e0c5-7911-492e-b692-64de4a9b6c9a');\n",
       "var x = new MutationObserver(function (mutations, observer) {{\n",
       "        var display = window.getComputedStyle(gd).display;\n",
       "        if (!display || display === 'none') {{\n",
       "            console.log([gd, 'removed!']);\n",
       "            Plotly.purge(gd);\n",
       "            observer.disconnect();\n",
       "        }}\n",
       "}});\n",
       "\n",
       "// Listen for the removal of the full notebook cells\n",
       "var notebookContainer = gd.closest('#notebook-container');\n",
       "if (notebookContainer) {{\n",
       "    x.observe(notebookContainer, {childList: true});\n",
       "}}\n",
       "\n",
       "// Listen for the clearing of the current output cell\n",
       "var outputEl = gd.closest('.output');\n",
       "if (outputEl) {{\n",
       "    x.observe(outputEl, {childList: true});\n",
       "}}\n",
       "\n",
       "                        })                };                });            </script>        </div>"
      ]
     },
     "metadata": {},
     "output_type": "display_data"
    }
   ],
   "source": [
    "import plotly.graph_objects as go\n",
    "\n",
    "# Definisci le categorie (caratteristiche) per il grafico radar\n",
    "categories = ['danceability', 'energy', 'mode',\n",
    "              'acousticness', 'instrumentalness', 'valence', 'tempo']\n",
    "#get rid of speechiness, duration_ms and liveness!\n",
    "# Verifica che tutte le categorie siano presenti nel DataFrame\n",
    "categories = [col for col in categories if col in df_minmax.columns]\n",
    "\n",
    "# Crea una lista vuota per memorizzare gli oggetti del grafico\n",
    "trace_objects = []\n",
    "\n",
    "# Itera sui numeri unici dei cluster e aggiungi un oggetto per ogni cluster alla lista\n",
    "for cluster in sorted(df_minmax['cluster'].unique()):\n",
    "    cluster_parameter_means = go.Scatterpolar(\n",
    "        r=[df_minmax.loc[df_minmax[\"cluster\"] == cluster, col].mean() for col in categories],\n",
    "        theta=categories,\n",
    "        fill='toself',\n",
    "        name=f'Cluster {cluster}'\n",
    "    )\n",
    "    trace_objects.append(cluster_parameter_means)\n",
    "\n",
    "# Aggiungi gli oggetti al grafico\n",
    "fig = go.Figure()\n",
    "fig.add_traces(trace_objects)\n",
    "\n",
    "# Aggiungi extra al grafico come il titolo\n",
    "fig.update_layout(\n",
    "    title_text='Radar chart of mean parameters by cluster',\n",
    "    height=600,\n",
    "    width=800,\n",
    "    polar=dict(\n",
    "        radialaxis=dict(\n",
    "            visible=True,\n",
    "            range=[0, 1]  \n",
    "        )\n",
    "    ),\n",
    "    showlegend=True\n",
    ")\n",
    "\n",
    "# Mostra il grafico inizializzato e i layer\n",
    "fig.show()\n"
   ]
  },
  {
   "cell_type": "code",
   "execution_count": 124,
   "metadata": {},
   "outputs": [
    {
     "name": "stdout",
     "output_type": "stream",
     "text": [
      "11    451\n",
      "3     438\n",
      "2     419\n",
      "5     388\n",
      "0     339\n",
      "1     306\n",
      "20    272\n",
      "4     267\n",
      "15    258\n",
      "17    251\n",
      "7     231\n",
      "10    210\n",
      "9     208\n",
      "8     199\n",
      "12    186\n",
      "14    151\n",
      "6     150\n",
      "13    137\n",
      "21    111\n",
      "16     98\n",
      "19     86\n",
      "18     79\n",
      "dtype: int64\n"
     ]
    }
   ],
   "source": [
    "from sklearn.cluster import AgglomerativeClustering\n",
    "from sklearn.preprocessing import MinMaxScaler\n",
    "\n",
    "\n",
    "# Create the model\n",
    "cluster_model = AgglomerativeClustering(n_clusters=22, linkage='ward')\n",
    "\n",
    "# Fit the model and predict clusters\n",
    "cluster_assignments = cluster_model.fit_predict(df_minmax)\n",
    "\n",
    "# Analyze the cluster sizes\n",
    "cluster_counts = pd.Series(cluster_assignments).value_counts()\n",
    "\n",
    "# Print the number of songs in each cluster\n",
    "print(cluster_counts)\n"
   ]
  },
  {
   "cell_type": "code",
   "execution_count": 128,
   "metadata": {},
   "outputs": [
    {
     "name": "stderr",
     "output_type": "stream",
     "text": [
      "<ipython-input-128-9887f2f44366>:16: FutureWarning:\n",
      "\n",
      "\n",
      "\n",
      "Passing `palette` without assigning `hue` is deprecated and will be removed in v0.14.0. Assign the `x` variable to `hue` and set `legend=False` for the same effect.\n",
      "\n",
      "\n"
     ]
    }
   ],
   "source": [
    "import matplotlib.pyplot as plt\n",
    "import seaborn as sns\n",
    "from matplotlib.backends.backend_pdf import PdfPages\n",
    "pdf_path = '/home/ornela/audio_feature_songs/Agglomerative_Clustering_21.pdf'  \n",
    "pdf = PdfPages(pdf_path)\n",
    "# Set the Seaborn theme\n",
    "sns.set_theme(style='darkgrid')\n",
    "\n",
    "# Create the bar plot\n",
    "plt.figure(figsize=(12, 6))\n",
    "\n",
    "# Generate cluster numbers based on the length of cluster_counts\n",
    "cluster_numbers = range(len(cluster_counts))\n",
    "\n",
    "# Using a color palette for the plot. Here 'viridis' is used, but you can choose other palettes as well.\n",
    "sns.barplot(x=cluster_numbers, y=cluster_counts, palette='viridis')\n",
    "\n",
    "# Setting the title and labels\n",
    "plt.title('Number of Songs in Each Cluster')\n",
    "plt.xlabel('Cluster Number')\n",
    "plt.ylabel('Number of Songs')\n",
    "\n",
    "# Display the plot\n",
    "#plt.show()\n",
    "# Save the plot to the PDF and close the plot\n",
    "pdf.savefig()\n",
    "plt.close()\n",
    "\n",
    "# Close the PDF\n",
    "pdf.close()\n",
    "\n",
    "# Create a bar plot\n",
    "#plt.figure(figsize=(12, 6))\n",
    "#sns.barplot(x=cluster_counts.index, y=cluster_counts.values)\n",
    "#plt.title('Number of Songs in Each Cluster')\n",
    "#plt.xlabel('Cluster Number')\n",
    "#plt.ylabel('Number of Songs')\n",
    "#plt.show()\n"
   ]
  },
  {
   "cell_type": "code",
   "execution_count": 129,
   "metadata": {},
   "outputs": [],
   "source": [
    "from sklearn.cluster import AgglomerativeClustering\n",
    "from matplotlib.backends.backend_pdf import PdfPages\n",
    "\n",
    "# Assuming df_minmax is your pre-processed DataFrame\n",
    "# Initialize the PDF file to save plots\n",
    "pdf_path = '/home/ornela/audio_feature_songs/Agglomerative_Clustering_20-21.pdf'  \n",
    "pdf = PdfPages(pdf_path)\n",
    "\n",
    "# Iterate over different numbers of clusters\n",
    "for n_clusters in range(20,23):\n",
    "    # Create and fit the model\n",
    "    cluster_model = AgglomerativeClustering(n_clusters=n_clusters, linkage='ward')\n",
    "    cluster_assignments = cluster_model.fit_predict(df_minmax)\n",
    "\n",
    "    # Count songs in each cluster\n",
    "    cluster_counts = pd.Series(cluster_assignments).value_counts()\n",
    "\n",
    "    # Plotting with colors\n",
    "    plt.figure(figsize=(12, 6))\n",
    "    sns.barplot(x=cluster_counts.index, y=cluster_counts.values, hue=cluster_counts.index, palette='viridis', legend=False)\n",
    "    plt.title(f'Number of Songs in Each Cluster (n_clusters = {n_clusters})')\n",
    "    plt.xlabel('Cluster Number')\n",
    "    plt.ylabel('Number of Songs')\n",
    "\n",
    "    # Save the plot to the PDF and close the plot\n",
    "    pdf.savefig()\n",
    "    plt.close()\n",
    "\n",
    "# Close the PDF\n",
    "pdf.close()\n"
   ]
  },
  {
   "cell_type": "code",
   "execution_count": null,
   "metadata": {},
   "outputs": [],
   "source": []
  },
  {
   "cell_type": "code",
   "execution_count": null,
   "metadata": {},
   "outputs": [],
   "source": []
  }
 ],
 "metadata": {
  "kernelspec": {
   "display_name": "Python 3",
   "language": "python",
   "name": "python3"
  },
  "language_info": {
   "codemirror_mode": {
    "name": "ipython",
    "version": 3
   },
   "file_extension": ".py",
   "mimetype": "text/x-python",
   "name": "python",
   "nbconvert_exporter": "python",
   "pygments_lexer": "ipython3",
   "version": "3.8.10"
  }
 },
 "nbformat": 4,
 "nbformat_minor": 5
}
